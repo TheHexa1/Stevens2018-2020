{
  "nbformat": 4,
  "nbformat_minor": 0,
  "metadata": {
    "colab": {
      "name": "AdaBoost.ipynb",
      "version": "0.3.2",
      "provenance": [],
      "collapsed_sections": []
    },
    "kernelspec": {
      "name": "python3",
      "display_name": "Python 3"
    }
  },
  "cells": [
    {
      "metadata": {
        "id": "VkSNEr4UoOcR",
        "colab_type": "code",
        "colab": {}
      },
      "cell_type": "code",
      "source": [
        "import pandas as pd\n",
        "import numpy as np\n",
        "from sklearn.model_selection import train_test_split\n",
        "from sklearn.tree import DecisionTreeClassifier\n",
        "import matplotlib.pyplot as plt\n",
        "from sklearn.preprocessing import StandardScaler\n",
        "from sklearn.metrics import accuracy_score"
      ],
      "execution_count": 0,
      "outputs": []
    },
    {
      "metadata": {
        "id": "hd1VzCER6cDa",
        "colab_type": "code",
        "outputId": "789bdad8-243b-43c1-dfdc-980bb0022e12",
        "colab": {
          "base_uri": "https://localhost:8080/",
          "height": 408
        }
      },
      "cell_type": "code",
      "source": [
        "## Feature Extraction ##\n",
        "df_titanic = pd.read_csv('titanic.csv')\n",
        "\n",
        "#dropping unnecessary columns\n",
        "df_titanic.drop(['Cabin', 'Name', 'Ticket', 'PassengerId', 'Embarked'], axis=1, inplace=True)\n",
        "\n",
        "#transforming Sex column values: male-2, female-1\n",
        "df_titanic['Sex'].replace(['female','male'], [1,2], inplace=True)\n",
        "\n",
        "df_titanic['Survived'].replace([0,1], [-1,1], inplace=True)\n",
        "\n",
        "#checking for NaN values\n",
        "print(df_titanic.apply(axis=0, func=lambda x : any(pd.isnull(x))))\n",
        "print('\\n')\n",
        "\n",
        "#total NaN values in Age column\n",
        "print(sum(df_titanic['Age'].isnull()))\n",
        "\n",
        "#Replacing NaNs with mean of column\n",
        "df_titanic['Age'] = df_titanic['Age'].fillna(df_titanic['Age'].mean())\n",
        "\n",
        "print(sum(df_titanic['Age'].isnull()))\n",
        "df_titanic.head()"
      ],
      "execution_count": 0,
      "outputs": [
        {
          "output_type": "stream",
          "text": [
            "Survived    False\n",
            "Pclass      False\n",
            "Sex         False\n",
            "Age          True\n",
            "SibSp       False\n",
            "Parch       False\n",
            "Fare        False\n",
            "dtype: bool\n",
            "\n",
            "\n",
            "177\n",
            "0\n"
          ],
          "name": "stdout"
        },
        {
          "output_type": "execute_result",
          "data": {
            "text/html": [
              "<div>\n",
              "<style scoped>\n",
              "    .dataframe tbody tr th:only-of-type {\n",
              "        vertical-align: middle;\n",
              "    }\n",
              "\n",
              "    .dataframe tbody tr th {\n",
              "        vertical-align: top;\n",
              "    }\n",
              "\n",
              "    .dataframe thead th {\n",
              "        text-align: right;\n",
              "    }\n",
              "</style>\n",
              "<table border=\"1\" class=\"dataframe\">\n",
              "  <thead>\n",
              "    <tr style=\"text-align: right;\">\n",
              "      <th></th>\n",
              "      <th>Survived</th>\n",
              "      <th>Pclass</th>\n",
              "      <th>Sex</th>\n",
              "      <th>Age</th>\n",
              "      <th>SibSp</th>\n",
              "      <th>Parch</th>\n",
              "      <th>Fare</th>\n",
              "    </tr>\n",
              "  </thead>\n",
              "  <tbody>\n",
              "    <tr>\n",
              "      <th>0</th>\n",
              "      <td>-1</td>\n",
              "      <td>3</td>\n",
              "      <td>2</td>\n",
              "      <td>22.0</td>\n",
              "      <td>1</td>\n",
              "      <td>0</td>\n",
              "      <td>7.2500</td>\n",
              "    </tr>\n",
              "    <tr>\n",
              "      <th>1</th>\n",
              "      <td>1</td>\n",
              "      <td>1</td>\n",
              "      <td>1</td>\n",
              "      <td>38.0</td>\n",
              "      <td>1</td>\n",
              "      <td>0</td>\n",
              "      <td>71.2833</td>\n",
              "    </tr>\n",
              "    <tr>\n",
              "      <th>2</th>\n",
              "      <td>1</td>\n",
              "      <td>3</td>\n",
              "      <td>1</td>\n",
              "      <td>26.0</td>\n",
              "      <td>0</td>\n",
              "      <td>0</td>\n",
              "      <td>7.9250</td>\n",
              "    </tr>\n",
              "    <tr>\n",
              "      <th>3</th>\n",
              "      <td>1</td>\n",
              "      <td>1</td>\n",
              "      <td>1</td>\n",
              "      <td>35.0</td>\n",
              "      <td>1</td>\n",
              "      <td>0</td>\n",
              "      <td>53.1000</td>\n",
              "    </tr>\n",
              "    <tr>\n",
              "      <th>4</th>\n",
              "      <td>-1</td>\n",
              "      <td>3</td>\n",
              "      <td>2</td>\n",
              "      <td>35.0</td>\n",
              "      <td>0</td>\n",
              "      <td>0</td>\n",
              "      <td>8.0500</td>\n",
              "    </tr>\n",
              "  </tbody>\n",
              "</table>\n",
              "</div>"
            ],
            "text/plain": [
              "   Survived  Pclass  Sex   Age  SibSp  Parch     Fare\n",
              "0        -1       3    2  22.0      1      0   7.2500\n",
              "1         1       1    1  38.0      1      0  71.2833\n",
              "2         1       3    1  26.0      0      0   7.9250\n",
              "3         1       1    1  35.0      1      0  53.1000\n",
              "4        -1       3    2  35.0      0      0   8.0500"
            ]
          },
          "metadata": {
            "tags": []
          },
          "execution_count": 99
        }
      ]
    },
    {
      "metadata": {
        "id": "t-ahmrRf6gzf",
        "colab_type": "code",
        "outputId": "92f6cc83-912e-4de7-e75c-de013d8810eb",
        "colab": {
          "base_uri": "https://localhost:8080/",
          "height": 292
        }
      },
      "cell_type": "code",
      "source": [
        "X = df_titanic.drop(['Survived'], axis=1)\n",
        "y = df_titanic['Survived']\n",
        "\n",
        "#normalizing data\n",
        "scaler = StandardScaler()\n",
        "scaler.fit(X)\n",
        "processed_data = scaler.transform(X)\n",
        "\n",
        "X = pd.DataFrame(processed_data, columns=['Pclass', 'Sex', 'Age', 'SibSp', 'Parch', 'Fare'])\n",
        "\n",
        "X.head()"
      ],
      "execution_count": 0,
      "outputs": [
        {
          "output_type": "stream",
          "text": [
            "/usr/local/lib/python3.6/dist-packages/sklearn/preprocessing/data.py:645: DataConversionWarning: Data with input dtype int64, float64 were all converted to float64 by StandardScaler.\n",
            "  return self.partial_fit(X, y)\n",
            "/usr/local/lib/python3.6/dist-packages/ipykernel_launcher.py:7: DataConversionWarning: Data with input dtype int64, float64 were all converted to float64 by StandardScaler.\n",
            "  import sys\n"
          ],
          "name": "stderr"
        },
        {
          "output_type": "execute_result",
          "data": {
            "text/html": [
              "<div>\n",
              "<style scoped>\n",
              "    .dataframe tbody tr th:only-of-type {\n",
              "        vertical-align: middle;\n",
              "    }\n",
              "\n",
              "    .dataframe tbody tr th {\n",
              "        vertical-align: top;\n",
              "    }\n",
              "\n",
              "    .dataframe thead th {\n",
              "        text-align: right;\n",
              "    }\n",
              "</style>\n",
              "<table border=\"1\" class=\"dataframe\">\n",
              "  <thead>\n",
              "    <tr style=\"text-align: right;\">\n",
              "      <th></th>\n",
              "      <th>Pclass</th>\n",
              "      <th>Sex</th>\n",
              "      <th>Age</th>\n",
              "      <th>SibSp</th>\n",
              "      <th>Parch</th>\n",
              "      <th>Fare</th>\n",
              "    </tr>\n",
              "  </thead>\n",
              "  <tbody>\n",
              "    <tr>\n",
              "      <th>0</th>\n",
              "      <td>0.827377</td>\n",
              "      <td>0.737695</td>\n",
              "      <td>-0.592481</td>\n",
              "      <td>0.432793</td>\n",
              "      <td>-0.473674</td>\n",
              "      <td>-0.502445</td>\n",
              "    </tr>\n",
              "    <tr>\n",
              "      <th>1</th>\n",
              "      <td>-1.566107</td>\n",
              "      <td>-1.355574</td>\n",
              "      <td>0.638789</td>\n",
              "      <td>0.432793</td>\n",
              "      <td>-0.473674</td>\n",
              "      <td>0.786845</td>\n",
              "    </tr>\n",
              "    <tr>\n",
              "      <th>2</th>\n",
              "      <td>0.827377</td>\n",
              "      <td>-1.355574</td>\n",
              "      <td>-0.284663</td>\n",
              "      <td>-0.474545</td>\n",
              "      <td>-0.473674</td>\n",
              "      <td>-0.488854</td>\n",
              "    </tr>\n",
              "    <tr>\n",
              "      <th>3</th>\n",
              "      <td>-1.566107</td>\n",
              "      <td>-1.355574</td>\n",
              "      <td>0.407926</td>\n",
              "      <td>0.432793</td>\n",
              "      <td>-0.473674</td>\n",
              "      <td>0.420730</td>\n",
              "    </tr>\n",
              "    <tr>\n",
              "      <th>4</th>\n",
              "      <td>0.827377</td>\n",
              "      <td>0.737695</td>\n",
              "      <td>0.407926</td>\n",
              "      <td>-0.474545</td>\n",
              "      <td>-0.473674</td>\n",
              "      <td>-0.486337</td>\n",
              "    </tr>\n",
              "  </tbody>\n",
              "</table>\n",
              "</div>"
            ],
            "text/plain": [
              "     Pclass       Sex       Age     SibSp     Parch      Fare\n",
              "0  0.827377  0.737695 -0.592481  0.432793 -0.473674 -0.502445\n",
              "1 -1.566107 -1.355574  0.638789  0.432793 -0.473674  0.786845\n",
              "2  0.827377 -1.355574 -0.284663 -0.474545 -0.473674 -0.488854\n",
              "3 -1.566107 -1.355574  0.407926  0.432793 -0.473674  0.420730\n",
              "4  0.827377  0.737695  0.407926 -0.474545 -0.473674 -0.486337"
            ]
          },
          "metadata": {
            "tags": []
          },
          "execution_count": 100
        }
      ]
    },
    {
      "metadata": {
        "id": "Vav1WWY26iJ8",
        "colab_type": "code",
        "colab": {}
      },
      "cell_type": "code",
      "source": [
        "#Splitting data into train and test sets\n",
        "X_train, X_test, y_train, y_test = train_test_split(X, y, test_size=0.33)"
      ],
      "execution_count": 0,
      "outputs": []
    },
    {
      "metadata": {
        "id": "Uo_zi-c5Qrl1",
        "colab_type": "code",
        "colab": {}
      },
      "cell_type": "code",
      "source": [
        "#helper to calculate final error rate\n",
        "def calculate_error_rate(predictions, ground_truth):\n",
        "  return sum(predictions != ground_truth) / float(len(ground_truth))"
      ],
      "execution_count": 0,
      "outputs": []
    },
    {
      "metadata": {
        "id": "guMvfQSm9NyK",
        "colab_type": "code",
        "colab": {}
      },
      "cell_type": "code",
      "source": [
        "#Using DecisionTreeClassifier as base classifier\n",
        "clf_dt = DecisionTreeClassifier(max_depth=1)\n",
        "clf_dt.fit(X_train, y_train)\n",
        "\n",
        "train_predictions = clf_dt.predict(X_train)\n",
        "test_predictions = clf_dt.predict(X_test)\n",
        "\n",
        "#list of errors for each iteration\n",
        "err_train = []\n",
        "err_test = []\n",
        "\n",
        "err_train.append(calculate_error_rate(train_predictions, y_train))\n",
        "err_test.append(calculate_error_rate(test_predictions, y_test))\n",
        "\n",
        "# print(err_train,err_test)"
      ],
      "execution_count": 0,
      "outputs": []
    },
    {
      "metadata": {
        "id": "RNCk5H4a8cPi",
        "colab_type": "code",
        "colab": {}
      },
      "cell_type": "code",
      "source": [
        "### Adaboost classifier ###\n",
        "def Adaboost_clf(X_train, y_train, X_test, y_test, base_clf, M):\n",
        "  \n",
        "  err_train = []\n",
        "  err_test = []\n",
        "  \n",
        "  train_len = len(X_train)\n",
        "  test_len = len(X_test)\n",
        "  \n",
        "  #initializing weights\n",
        "  u = np.ones(train_len) / train_len\n",
        "\n",
        "  #initializing prediction arrays\n",
        "  predictions_train, predictions_test = [np.zeros(train_len), np.zeros(test_len)]\n",
        "  \n",
        "  for i in range(M):\n",
        "    \n",
        "    base_clf.fit(X_train, y_train, sample_weight = u)\n",
        "    \n",
        "    i_predictions_train = base_clf.predict(X_train)\n",
        "    i_predictions_test = base_clf.predict(X_test)\n",
        "    \n",
        "    epsilon_i = np.dot(u,  (i_predictions_train != y_train)) / sum(u)\n",
        "    \n",
        "    #alpha - voting parameter\n",
        "    alpha_i = 0.5 * np.log((1 - epsilon_i) / float(epsilon_i))\n",
        "    \n",
        "    #updating weights\n",
        "    u = np.array(np.multiply(u, np.exp(-alpha_i * i_predictions_train * y_train)))\n",
        "    \n",
        "    predictions_train = [sum(x) for x in zip(predictions_train, \n",
        "                                          [x * alpha_i for x in i_predictions_train])]\n",
        "    predictions_test = [sum(x) for x in zip(predictions_test, \n",
        "                                          [x * alpha_i for x in i_predictions_test])]\n",
        "    \n",
        "  predictions_train, predictions_test = np.sign(predictions_train), np.sign(predictions_test)\n",
        "\n",
        "  return accuracy_score(y_test, predictions_test), calculate_error_rate(predictions_train, y_train), calculate_error_rate(predictions_test, y_test)\n",
        "  "
      ],
      "execution_count": 0,
      "outputs": []
    },
    {
      "metadata": {
        "id": "pHiCtICzeFK6",
        "colab_type": "code",
        "colab": {}
      },
      "cell_type": "code",
      "source": [
        "x_range = range(100, 600, 100)\n",
        "accuracy = []\n",
        "for i in x_range:    \n",
        "  err_ = Adaboost_clf(X_train, y_train, X_test, y_test, clf_dt, i)\n",
        "  err_train.append(err_[1])\n",
        "  err_test.append(err_[2])\n",
        "  accuracy.append(err_[0])"
      ],
      "execution_count": 0,
      "outputs": []
    },
    {
      "metadata": {
        "id": "YlW_AMeknnnC",
        "colab_type": "code",
        "outputId": "d9366b3f-0954-44af-8973-84ecfe07235e",
        "colab": {
          "base_uri": "https://localhost:8080/",
          "height": 68
        }
      },
      "cell_type": "code",
      "source": [
        "print('Best test error:',max(err_test))\n",
        "print('Best train error:',max(err_train))\n",
        "print('Best accuracy on test set:',max(accuracy))"
      ],
      "execution_count": 0,
      "outputs": [
        {
          "output_type": "stream",
          "text": [
            "Best test error: 0.19322033898305085\n",
            "Best train error: 0.2231543624161074\n",
            "Best accuracy on test set: 0.8169491525423729\n"
          ],
          "name": "stdout"
        }
      ]
    },
    {
      "metadata": {
        "id": "mcXdXdgdemoZ",
        "colab_type": "code",
        "colab": {}
      },
      "cell_type": "code",
      "source": [
        "def plot_error_rate(er_train, er_test):\n",
        "    df_error = pd.DataFrame([er_train, er_test]).T\n",
        "    df_error.columns = ['Training', 'Test']\n",
        "    plot1 = df_error.plot(linewidth = 3, figsize = (8,6),\n",
        "            color = ['blue', 'green'], grid = True)\n",
        "    plot1.set_xlabel('Number of iterations', fontsize = 12)\n",
        "    plot1.set_xticklabels(range(0,600,80))\n",
        "    plot1.set_ylabel('Error rate')\n",
        "    plot1.set_title('Error rate vs number of iterations', fontsize = 16)\n",
        "    plt.axhline(y=er_test[0], linewidth=1, color = 'red', ls = 'dashed')"
      ],
      "execution_count": 0,
      "outputs": []
    },
    {
      "metadata": {
        "id": "edR0BaHReou0",
        "colab_type": "code",
        "outputId": "f1ede67f-8286-4e3a-9520-d334caa1a462",
        "colab": {
          "base_uri": "https://localhost:8080/",
          "height": 408
        }
      },
      "cell_type": "code",
      "source": [
        "plot_error_rate(err_train, err_test)"
      ],
      "execution_count": 0,
      "outputs": [
        {
          "output_type": "display_data",
          "data": {
            "image/png": "[encoded data removed]",
            "text/plain": [
              "<Figure size 576x432 with 1 Axes>"
            ]
          },
          "metadata": {
            "tags": []
          }
        }
      ]
    },
    {
      "metadata": {
        "id": "IUWbe3Y7Jx-G",
        "colab_type": "text"
      },
      "cell_type": "markdown",
      "source": [
        "## Observations:\n",
        "\n",
        "- We can notice that Adaboost is decreasing error rate on train set rapidly and then it stops decreasing much.\n",
        "- Also, from the point where train error stops decreasing, the test error starts increasing, which implies we found local minima for test error.\n",
        "- Hence, after this local minima adabost seems to overfit on training set, which in turn increase test error rate from there on."
      ]
    },
    {
      "metadata": {
        "id": "zJEOltvuEEZb",
        "colab_type": "code",
        "colab": {}
      },
      "cell_type": "code",
      "source": [
        ""
      ],
      "execution_count": 0,
      "outputs": []
    },
    {
      "metadata": {
        "id": "Sqo7viRsSIOX",
        "colab_type": "code",
        "colab": {}
      },
      "cell_type": "code",
      "source": [
        ""
      ],
      "execution_count": 0,
      "outputs": []
    }
  ]
}