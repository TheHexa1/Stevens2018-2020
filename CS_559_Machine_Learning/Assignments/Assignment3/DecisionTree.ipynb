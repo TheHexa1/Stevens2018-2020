{
  "nbformat": 4,
  "nbformat_minor": 0,
  "metadata": {
    "colab": {
      "name": "DecisionTree.ipynb",
      "version": "0.3.2",
      "provenance": [],
      "collapsed_sections": []
    },
    "kernelspec": {
      "name": "python3",
      "display_name": "Python 3"
    }
  },
  "cells": [
    {
      "metadata": {
        "id": "eTHRMV-HKQ4N",
        "colab_type": "code",
        "colab": {}
      },
      "cell_type": "code",
      "source": [
        "import pandas as pd\n",
        "import numpy as np\n",
        "from sklearn.model_selection import train_test_split\n",
        "import matplotlib.pyplot as plt\n",
        "from sklearn.preprocessing import StandardScaler\n",
        "from random import randrange\n",
        "import math\n",
        "from sklearn.model_selection import KFold"
      ],
      "execution_count": 0,
      "outputs": []
    },
    {
      "metadata": {
        "id": "otAePIzyKqVY",
        "colab_type": "code",
        "outputId": "a88fd560-d98d-47a4-95bb-865877f60061",
        "colab": {
          "base_uri": "https://localhost:8080/",
          "height": 493
        }
      },
      "cell_type": "code",
      "source": [
        "## Feature Extraction ##\n",
        "df_titanic = pd.read_csv('titanic.csv')\n",
        "\n",
        "#transforming Sex column values: male-2, female-1\n",
        "df_titanic['Sex'].replace(['female','male'], [1,2], inplace=True)\n",
        "\n",
        "#checking for NaN values\n",
        "print(df_titanic.apply(axis=0, func=lambda x : any(pd.isnull(x))))\n",
        "print('\\n')\n",
        "\n",
        "#total NaN values in Age column\n",
        "print(sum(df_titanic['Age'].isnull()))\n",
        "\n",
        "#Replacing NaNs with mean of column\n",
        "df_titanic['Age'] = df_titanic['Age'].fillna(df_titanic['Age'].mean())\n",
        "\n",
        "print(sum(df_titanic['Age'].isnull()))\n",
        "\n",
        "# combine siblings and parent/child columns and create new column named 'individual'\n",
        "# this will allow us to add if the survivor was alone or he had relatives\n",
        "df_titanic[\"relatives\"] = df_titanic[\"SibSp\"] + df_titanic[\"Parch\"]\n",
        "df_titanic.loc[df_titanic[\"relatives\"] > 0, \"individual\"] = 0\n",
        "df_titanic.loc[df_titanic[\"relatives\"] == 0, \"individual\"] = 1\n",
        "df_titanic[\"individual\"] = df_titanic[\"individual\"].astype(int)\n",
        "        \n",
        "#dropping unnecessary columns\n",
        "df_titanic.drop(['Cabin', 'Name', 'Ticket', 'Embarked', 'Parch', 'SibSp', 'relatives'], axis=1, inplace=True)        \n",
        "        \n",
        "df_titanic.head()"
      ],
      "execution_count": 24,
      "outputs": [
        {
          "output_type": "stream",
          "text": [
            "PassengerId    False\n",
            "Survived       False\n",
            "Pclass         False\n",
            "Name           False\n",
            "Sex            False\n",
            "Age             True\n",
            "SibSp          False\n",
            "Parch          False\n",
            "Ticket         False\n",
            "Fare           False\n",
            "Cabin           True\n",
            "Embarked        True\n",
            "dtype: bool\n",
            "\n",
            "\n",
            "177\n",
            "0\n"
          ],
          "name": "stdout"
        },
        {
          "output_type": "execute_result",
          "data": {
            "text/html": [
              "<div>\n",
              "<style scoped>\n",
              "    .dataframe tbody tr th:only-of-type {\n",
              "        vertical-align: middle;\n",
              "    }\n",
              "\n",
              "    .dataframe tbody tr th {\n",
              "        vertical-align: top;\n",
              "    }\n",
              "\n",
              "    .dataframe thead th {\n",
              "        text-align: right;\n",
              "    }\n",
              "</style>\n",
              "<table border=\"1\" class=\"dataframe\">\n",
              "  <thead>\n",
              "    <tr style=\"text-align: right;\">\n",
              "      <th></th>\n",
              "      <th>PassengerId</th>\n",
              "      <th>Survived</th>\n",
              "      <th>Pclass</th>\n",
              "      <th>Sex</th>\n",
              "      <th>Age</th>\n",
              "      <th>Fare</th>\n",
              "      <th>individual</th>\n",
              "    </tr>\n",
              "  </thead>\n",
              "  <tbody>\n",
              "    <tr>\n",
              "      <th>0</th>\n",
              "      <td>1</td>\n",
              "      <td>0</td>\n",
              "      <td>3</td>\n",
              "      <td>2</td>\n",
              "      <td>22.0</td>\n",
              "      <td>7.2500</td>\n",
              "      <td>0</td>\n",
              "    </tr>\n",
              "    <tr>\n",
              "      <th>1</th>\n",
              "      <td>2</td>\n",
              "      <td>1</td>\n",
              "      <td>1</td>\n",
              "      <td>1</td>\n",
              "      <td>38.0</td>\n",
              "      <td>71.2833</td>\n",
              "      <td>0</td>\n",
              "    </tr>\n",
              "    <tr>\n",
              "      <th>2</th>\n",
              "      <td>3</td>\n",
              "      <td>1</td>\n",
              "      <td>3</td>\n",
              "      <td>1</td>\n",
              "      <td>26.0</td>\n",
              "      <td>7.9250</td>\n",
              "      <td>1</td>\n",
              "    </tr>\n",
              "    <tr>\n",
              "      <th>3</th>\n",
              "      <td>4</td>\n",
              "      <td>1</td>\n",
              "      <td>1</td>\n",
              "      <td>1</td>\n",
              "      <td>35.0</td>\n",
              "      <td>53.1000</td>\n",
              "      <td>0</td>\n",
              "    </tr>\n",
              "    <tr>\n",
              "      <th>4</th>\n",
              "      <td>5</td>\n",
              "      <td>0</td>\n",
              "      <td>3</td>\n",
              "      <td>2</td>\n",
              "      <td>35.0</td>\n",
              "      <td>8.0500</td>\n",
              "      <td>1</td>\n",
              "    </tr>\n",
              "  </tbody>\n",
              "</table>\n",
              "</div>"
            ],
            "text/plain": [
              "   PassengerId  Survived  Pclass  Sex   Age     Fare  individual\n",
              "0            1         0       3    2  22.0   7.2500           0\n",
              "1            2         1       1    1  38.0  71.2833           0\n",
              "2            3         1       3    1  26.0   7.9250           1\n",
              "3            4         1       1    1  35.0  53.1000           0\n",
              "4            5         0       3    2  35.0   8.0500           1"
            ]
          },
          "metadata": {
            "tags": []
          },
          "execution_count": 24
        }
      ]
    },
    {
      "metadata": {
        "id": "dePuyvu1KutM",
        "colab_type": "code",
        "outputId": "141133d3-0062-47d3-f166-af8761c4662c",
        "colab": {
          "base_uri": "https://localhost:8080/",
          "height": 204
        }
      },
      "cell_type": "code",
      "source": [
        "X = df_titanic.drop(['Survived'], axis=1)\n",
        "y = df_titanic['Survived']\n",
        "\n",
        "X.head()"
      ],
      "execution_count": 25,
      "outputs": [
        {
          "output_type": "execute_result",
          "data": {
            "text/html": [
              "<div>\n",
              "<style scoped>\n",
              "    .dataframe tbody tr th:only-of-type {\n",
              "        vertical-align: middle;\n",
              "    }\n",
              "\n",
              "    .dataframe tbody tr th {\n",
              "        vertical-align: top;\n",
              "    }\n",
              "\n",
              "    .dataframe thead th {\n",
              "        text-align: right;\n",
              "    }\n",
              "</style>\n",
              "<table border=\"1\" class=\"dataframe\">\n",
              "  <thead>\n",
              "    <tr style=\"text-align: right;\">\n",
              "      <th></th>\n",
              "      <th>PassengerId</th>\n",
              "      <th>Pclass</th>\n",
              "      <th>Sex</th>\n",
              "      <th>Age</th>\n",
              "      <th>Fare</th>\n",
              "      <th>individual</th>\n",
              "    </tr>\n",
              "  </thead>\n",
              "  <tbody>\n",
              "    <tr>\n",
              "      <th>0</th>\n",
              "      <td>1</td>\n",
              "      <td>3</td>\n",
              "      <td>2</td>\n",
              "      <td>22.0</td>\n",
              "      <td>7.2500</td>\n",
              "      <td>0</td>\n",
              "    </tr>\n",
              "    <tr>\n",
              "      <th>1</th>\n",
              "      <td>2</td>\n",
              "      <td>1</td>\n",
              "      <td>1</td>\n",
              "      <td>38.0</td>\n",
              "      <td>71.2833</td>\n",
              "      <td>0</td>\n",
              "    </tr>\n",
              "    <tr>\n",
              "      <th>2</th>\n",
              "      <td>3</td>\n",
              "      <td>3</td>\n",
              "      <td>1</td>\n",
              "      <td>26.0</td>\n",
              "      <td>7.9250</td>\n",
              "      <td>1</td>\n",
              "    </tr>\n",
              "    <tr>\n",
              "      <th>3</th>\n",
              "      <td>4</td>\n",
              "      <td>1</td>\n",
              "      <td>1</td>\n",
              "      <td>35.0</td>\n",
              "      <td>53.1000</td>\n",
              "      <td>0</td>\n",
              "    </tr>\n",
              "    <tr>\n",
              "      <th>4</th>\n",
              "      <td>5</td>\n",
              "      <td>3</td>\n",
              "      <td>2</td>\n",
              "      <td>35.0</td>\n",
              "      <td>8.0500</td>\n",
              "      <td>1</td>\n",
              "    </tr>\n",
              "  </tbody>\n",
              "</table>\n",
              "</div>"
            ],
            "text/plain": [
              "   PassengerId  Pclass  Sex   Age     Fare  individual\n",
              "0            1       3    2  22.0   7.2500           0\n",
              "1            2       1    1  38.0  71.2833           0\n",
              "2            3       3    1  26.0   7.9250           1\n",
              "3            4       1    1  35.0  53.1000           0\n",
              "4            5       3    2  35.0   8.0500           1"
            ]
          },
          "metadata": {
            "tags": []
          },
          "execution_count": 25
        }
      ]
    },
    {
      "metadata": {
        "id": "vNogqmHcKvvD",
        "colab_type": "code",
        "outputId": "27b90a11-da50-460a-9e9a-84c474bab0c5",
        "colab": {
          "base_uri": "https://localhost:8080/",
          "height": 221
        }
      },
      "cell_type": "code",
      "source": [
        "#Splitting data into train and test sets\n",
        "X_train, X_test, y_train, y_test = train_test_split(X, y, test_size=0.33, random_state=32)\n",
        "X_train['Survived'] = y_train\n",
        "X_test['Survived'] = y_test\n",
        "# print(X_train.head())"
      ],
      "execution_count": 26,
      "outputs": [
        {
          "output_type": "stream",
          "text": [
            "/usr/local/lib/python3.6/dist-packages/ipykernel_launcher.py:2: SettingWithCopyWarning: \n",
            "A value is trying to be set on a copy of a slice from a DataFrame.\n",
            "Try using .loc[row_indexer,col_indexer] = value instead\n",
            "\n",
            "See the caveats in the documentation: http://pandas.pydata.org/pandas-docs/stable/indexing.html#indexing-view-versus-copy\n",
            "  \n",
            "/usr/local/lib/python3.6/dist-packages/ipykernel_launcher.py:3: SettingWithCopyWarning: \n",
            "A value is trying to be set on a copy of a slice from a DataFrame.\n",
            "Try using .loc[row_indexer,col_indexer] = value instead\n",
            "\n",
            "See the caveats in the documentation: http://pandas.pydata.org/pandas-docs/stable/indexing.html#indexing-view-versus-copy\n",
            "  This is separate from the ipykernel package so we can avoid doing imports until\n"
          ],
          "name": "stderr"
        }
      ]
    },
    {
      "metadata": {
        "id": "jo5XM6texWxo",
        "colab_type": "code",
        "colab": {}
      },
      "cell_type": "code",
      "source": [
        "#Gini score\n",
        "def get_gini_score(instances, class_):\n",
        "  gini_score = 0.0\n",
        "  num_of_instances = float(sum([len(instance) for instance in instances]))\n",
        "  \n",
        "  for instance in instances:\n",
        "    \n",
        "    if len(instance) == 0:\n",
        "      continue\n",
        "    \n",
        "    #proportions\n",
        "    p_j = 0.0\n",
        "    \n",
        "    for cl in class_:\n",
        "      p = [row['Survived'] for i, row in instance.iterrows()].count(cl) / len(instance)       \n",
        "      p_j += p * p\n",
        "    \n",
        "    gini_score += (1.0 - p_j) * (len(instance) / num_of_instances)\n",
        "  \n",
        "  return gini_score\n",
        "\n",
        "def info_gain(data, col_name, class_, n_rows):\n",
        "  \n",
        "  total_entropy = 0.0                                                   \n",
        "  column_entropy = 0\n",
        "    \n",
        "  for label in class_:\n",
        "      total_entropy = total_entropy + (-(len(data[data['Survived'] == label])\n",
        "                                           /n_rows)*math.log2(len(data[data['Survived'] == label])/n_rows))                    \n",
        "    \n",
        "  unique_col_values = list(data[col_name].unique())\n",
        "\n",
        "  for column_value in unique_col_values:\n",
        "      for label in class_:\n",
        "\n",
        "          probability_value = -len(data[data[col_name] == column_value])/n_rows\n",
        "          conditional_probability_value = len(data[(data['Survived'] == label) & (data[col_name]\\\n",
        "                                                                     == column_value)])/len(data[col_name] == column_value)\n",
        "          if conditional_probability_value != 0:\n",
        "              column_entropy = column_entropy + probability_value*(conditional_probability_value*math.log2(conditional_probability_value))\n",
        "          else:\n",
        "              continue\n",
        "\n",
        "  return total_entropy, column_entropy                                    \n",
        "\n",
        "   "
      ],
      "execution_count": 0,
      "outputs": []
    },
    {
      "metadata": {
        "id": "9hL_EXi-GetJ",
        "colab_type": "code",
        "colab": {}
      },
      "cell_type": "code",
      "source": [
        "#Split a data\n",
        "def get_splits(col, value, data):\n",
        "  \n",
        "  left_branch = right_branch = pd.DataFrame(columns=data.columns)\n",
        "  for i, row in data.iterrows(): \n",
        "    if row[col] < value:\n",
        "      left_branch = left_branch.append(row)\n",
        "    else:\n",
        "      right_branch = right_branch.append(row)\n",
        "  \n",
        "  return left_branch, right_branch"
      ],
      "execution_count": 0,
      "outputs": []
    },
    {
      "metadata": {
        "id": "r8kBmP4ufwB_",
        "colab_type": "code",
        "colab": {}
      },
      "cell_type": "code",
      "source": [
        "#Best split based on gini score\n",
        "def get_best_split(data, impurity):\n",
        "  class_ = list(set([v for v in data['Survived']]))\n",
        "  \n",
        "  gini_score = 1000\n",
        "  info_score = 0\n",
        "  n_rows = len(data)\n",
        "  \n",
        "  for col in data.columns:\n",
        "    \n",
        "    if col == 'Survived':\n",
        "      continue\n",
        "    \n",
        "    unique_values = []\n",
        "    \n",
        "    for i, row in data.iterrows():\n",
        "      \n",
        "      if row[col] in unique_values:\n",
        "        continue\n",
        "        \n",
        "      unique_values.append(row[col])      \n",
        "      instances = get_splits(col, row[col], data)\n",
        "      \n",
        "      if impurity == 'gini':\n",
        "        score = get_gini_score(instances, class_)\n",
        "        if score < gini_score:\n",
        "          split_index, split_value, gini_score, split_instances = col, row[col], score, instances\n",
        "      else:\n",
        "        temp = info_gain(data, col, class_, n_rows)\n",
        "        score = temp[0] - temp[1]\n",
        "        if score > info_score:\n",
        "          split_index, split_value, info_score, split_instances = col, row[col], score, instances\n",
        "      \n",
        "      \n",
        "  return {'position':split_index, 'value':split_value, 'instances':split_instances}\n",
        "\n",
        "#return prediction with majority voting\n",
        "def set_leaf(instance):\n",
        "  preds = [row['Survived'] for i, row in instance.iterrows()]\n",
        "  return max(set(preds), key=preds.count)\n",
        "\n",
        "#split children\n",
        "def split_child(node, min_size, depth, max_depth, impurity):\n",
        "  left_branch, right_branch = node['instances']  \n",
        "  \n",
        "  del(node['instances'])\n",
        "  \n",
        "  #check if no split\n",
        "  if len(left_branch) == 0 or len(right_branch)==0:\n",
        "    if len(left_branch) == 0:\n",
        "      node['left_branch'] = node['right_branch'] = set_leaf(right_branch)\n",
        "    else:\n",
        "      node['left_branch'] = node['right_branch'] = set_leaf(left_branch)\n",
        "    return\n",
        "    \n",
        "  # check for max depth\n",
        "  if depth >= max_depth:\n",
        "    node['left_branch'], node['right_branch'] = set_leaf(left_branch), set_leaf(right_branch)\n",
        "    return\n",
        "  \n",
        "  # add to left child\n",
        "  if len(left_branch) <= min_size:\n",
        "    node['left_branch'] = set_leaf(left_branch)\n",
        "  else:\n",
        "    node['left_branch'] = get_best_split(left_branch, impurity)\n",
        "    split_child(node['left_branch'], min_size, depth+1, max_depth, impurity)\n",
        "    \n",
        "  # add to right child\n",
        "  if len(right_branch) <= min_size:\n",
        "    node['right_branch'] = set_leaf(right_branch)\n",
        "  else:\n",
        "    node['right_branch'] = get_best_split(right_branch, impurity)\n",
        "    split_child(node['right_branch'], min_size, depth+1, max_depth, impurity)"
      ],
      "execution_count": 0,
      "outputs": []
    },
    {
      "metadata": {
        "id": "afh0alO0k8wj",
        "colab_type": "code",
        "colab": {}
      },
      "cell_type": "code",
      "source": [
        "#build tree from data\n",
        "def build_decision_tree(train, min_size, max_depth, impurity):\n",
        "  \n",
        "  root = get_best_split(train, impurity)\n",
        "  split_child(root, min_size, 1, max_depth, impurity)\n",
        "  return root\n",
        "\n",
        "#Make a prediction\n",
        "def predict(node, row):\n",
        "  \n",
        "  if row[node['position']] < node['value']:\n",
        "    if isinstance(node['left_branch'], dict):\n",
        "      return predict(node['left_branch'], row)\n",
        "    else:\n",
        "      return node['left_branch']\n",
        "  else:\n",
        "    if isinstance(node['right_branch'], dict):\n",
        "      return predict(node['right_branch'], row)\n",
        "    else:\n",
        "      return node['right_branch']\n",
        "    \n",
        "#get predictions from decision tree\n",
        "\n",
        "def decision_tree(train, test, min_size, max_depth, impurity):\n",
        "  tree = build_decision_tree(train, min_size, max_depth, impurity)\n",
        "  preds = []\n",
        "  for i,row in test.iterrows():\n",
        "    prediction = predict(tree, row)\n",
        "    preds.append(prediction)\n",
        "  return(preds)"
      ],
      "execution_count": 0,
      "outputs": []
    },
    {
      "metadata": {
        "id": "eMBSvuVklbIP",
        "colab_type": "code",
        "colab": {}
      },
      "cell_type": "code",
      "source": [
        "#check accuracy\n",
        "def calculate_accuracy(ground_truth, predicted):\n",
        "    correct_prediction = 0\n",
        "    for i in range(len(ground_truth)):\n",
        "        if ground_truth[i] == predicted[i]:\n",
        "            correct_prediction = correct_prediction + 1\n",
        "    return correct_prediction / float(len(ground_truth)) * 100.0"
      ],
      "execution_count": 0,
      "outputs": []
    },
    {
      "metadata": {
        "id": "vHxhjcaGlTco",
        "colab_type": "code",
        "outputId": "7a18038f-0036-459c-f870-0de89bde0dcb",
        "colab": {
          "base_uri": "https://localhost:8080/",
          "height": 71
        }
      },
      "cell_type": "code",
      "source": [
        "# to run decision tree based on gini or info gain\n",
        "predictions_gini = decision_tree(X_train, X_test, 10, 5, 'gini')\n",
        "predictions_ig = decision_tree(X_train, X_test, 10, 5, 'ig')"
      ],
      "execution_count": 17,
      "outputs": [
        {
          "output_type": "stream",
          "text": [
            "ginitree {'position': 'Sex', 'value': 2.0, 'left_branch': {'position': 'Pclass', 'value': 3.0, 'left_branch': {'position': 'Age', 'value': 4.0, 'left_branch': 0.0, 'right_branch': {'position': 'Fare', 'value': 29.0, 'left_branch': {'position': 'Age', 'value': 57.0, 'left_branch': 1.0, 'right_branch': 0.0}, 'right_branch': {'position': 'Fare', 'value': 151.55, 'left_branch': 1.0, 'right_branch': 1.0}}}, 'right_branch': {'position': 'Fare', 'value': 24.15, 'left_branch': {'position': 'Age', 'value': 32.0, 'left_branch': {'position': 'Age', 'value': 8.0, 'left_branch': 1.0, 'right_branch': 1.0}, 'right_branch': 0.0}, 'right_branch': {'position': 'Age', 'value': 38.0, 'left_branch': {'position': 'Pclass', 'value': 3.0, 'left_branch': 0.0, 'right_branch': 0.0}, 'right_branch': 0.0}}}, 'right_branch': {'position': 'Age', 'value': 7.0, 'left_branch': {'position': 'Pclass', 'value': 3.0, 'left_branch': 1.0, 'right_branch': 0.0}, 'right_branch': {'position': 'Pclass', 'value': 2.0, 'left_branch': {'position': 'Fare', 'value': 26.2875, 'left_branch': 0.0, 'right_branch': {'position': 'Age', 'value': 54.0, 'left_branch': 0.0, 'right_branch': 0.0}}, 'right_branch': {'position': 'Age', 'value': 14.0, 'left_branch': 0.0, 'right_branch': {'position': 'Age', 'value': 62.0, 'left_branch': 0.0, 'right_branch': 0.0}}}}}\n",
            "igtree {'position': 'Fare', 'value': 8.0292, 'left_branch': {'position': 'Fare', 'value': 7.25, 'left_branch': {'position': 'Age', 'value': 51.0, 'left_branch': {'position': 'Age', 'value': 25.0, 'left_branch': {'position': 'Fare', 'value': 7.0542, 'left_branch': 0.0, 'right_branch': 0.0}, 'right_branch': {'position': 'Sex', 'value': 2.0, 'left_branch': 1.0, 'right_branch': 0.0}}, 'right_branch': 0.0}, 'right_branch': {'position': 'Fare', 'value': 7.25, 'left_branch': 0.0, 'right_branch': 0.0}}, 'right_branch': {'position': 'Fare', 'value': 8.0292, 'left_branch': 0.0, 'right_branch': 0.0}}\n"
          ],
          "name": "stdout"
        }
      ]
    },
    {
      "metadata": {
        "id": "P9NQq7n-3ckq",
        "colab_type": "code",
        "colab": {}
      },
      "cell_type": "code",
      "source": [
        "from sklearn.metrics import accuracy_score\n",
        "\n",
        "print(accuracy_score(y_test, predictions_gini))\n",
        "print(accuracy_score(y_test, predictions_ig))"
      ],
      "execution_count": 0,
      "outputs": []
    },
    {
      "metadata": {
        "id": "1Y0Zh039eF0I",
        "colab_type": "text"
      },
      "cell_type": "markdown",
      "source": [
        "## Gini Index vs Information Gain\n",
        "\n",
        "### Gini Index:\n",
        "- Generated Tree : {'position': 'Sex', 'value': 2.0, 'left_branch': {'position': 'Pclass', 'value': 3.0, 'left_branch': {'position': 'Age', 'value': 4.0, 'left_branch': 0.0, 'right_branch': {'position': 'Fare', 'value': 29.0, 'left_branch': {'position': 'Age', 'value': 57.0, 'left_branch': 1.0, 'right_branch': 0.0}, 'right_branch': {'position': 'Fare', 'value': 151.55, 'left_branch': 1.0, 'right_branch': 1.0}}}, 'right_branch': {'position': 'Fare', 'value': 24.15, 'left_branch': {'position': 'Age', 'value': 32.0, 'left_branch': {'position': 'Age', 'value': 8.0, 'left_branch': 1.0, 'right_branch': 1.0}, 'right_branch': 0.0}, 'right_branch': {'position': 'Age', 'value': 38.0, 'left_branch': {'position': 'Pclass', 'value': 3.0, 'left_branch': 0.0, 'right_branch': 0.0}, 'right_branch': 0.0}}}, 'right_branch': {'position': 'Age', 'value': 7.0, 'left_branch': {'position': 'Pclass', 'value': 3.0, 'left_branch': 1.0, 'right_branch': 0.0}, 'right_branch': {'position': 'Pclass', 'value': 2.0, 'left_branch': {'position': 'Fare', 'value': 26.2875, 'left_branch': 0.0, 'right_branch': {'position': 'Age', 'value': 54.0, 'left_branch': 0.0, 'right_branch': 0.0}}, 'right_branch': {'position': 'Age', 'value': 14.0, 'left_branch': 0.0, 'right_branch': {'position': 'Age', 'value': 62.0, 'left_branch': 0.0, 'right_branch': 0.0}}}}}\n",
        "\n",
        "- Root feature: 'Sex'\n",
        "\n",
        "- accuracy : 0.78 (without cross_validation)\n",
        "\n",
        "- Hence, when we develop a tree using gini index it is giving 'Sex' more importance over other features.\n",
        "\n",
        "### Information Gain:\n",
        "- Generated Tree : {'position': 'Fare', 'value': 8.0292, 'left_branch': {'position': 'Fare', 'value': 7.25, 'left_branch': {'position': 'Age', 'value': 51.0, 'left_branch': {'position': 'Age', 'value': 25.0, 'left_branch': {'position': 'Fare', 'value': 7.0542, 'left_branch': 0.0, 'right_branch': 0.0}, 'right_branch': {'position': 'Sex', 'value': 2.0, 'left_branch': 1.0, 'right_branch': 0.0}}, 'right_branch': 0.0}, 'right_branch': {'position': 'Fare', 'value': 7.25, 'left_branch': 0.0, 'right_branch': 0.0}}, 'right_branch': {'position': 'Fare', 'value': 8.0292, 'left_branch': 0.0, 'right_branch': 0.0}}\n",
        "\n",
        "- Root feature: 'Fare'\n",
        "\n",
        "- accuracy : 0.58 (without cross_validation)\n",
        "\n",
        "- Hence, when we develop a tree using information gain it is giving 'Fare' , more importance over other features.\n",
        "\n",
        "*********\n",
        "So, we can observe that gini index is better impurity metrics than information gain to decide on best split while developing decision trees.\n",
        "\n",
        "\n"
      ]
    },
    {
      "metadata": {
        "id": "ooPCso2VWt7q",
        "colab_type": "code",
        "colab": {}
      },
      "cell_type": "code",
      "source": [
        "#corss_validation\n",
        "# def apply_cross_validation(folds, train, test, impurity):\n",
        "#     k_fold = KFold(n_splits=folds)\n",
        "    \n",
        "#     X_train = train.drop(\"Survived\",axis = 1)\n",
        "#     Y_train = train[[\"Survived\",\"PassengerId\"]]\n",
        "    \n",
        "    \n",
        "#     X_column_values = X_train.columns\n",
        "    \n",
        "#     Y_column_values = Y_train.columns\n",
        "    \n",
        "#     X_train = np.array(X_train)\n",
        "#     Y_train = np.array(Y_train)\n",
        "    \n",
        "    \n",
        "#     X_shuffled_train , predictions_shuffled_train = shuffle(X_train, Y_train, random_state=0)\n",
        "    \n",
        "#     accuracy_array = []\n",
        "    \n",
        "#     for train_index, test_index in k_fold.split(X_shuffled_train):\n",
        "#         y_train, y_test = predictions_shuffled_train[train_index], predictions_shuffled_train[test_index]\n",
        "       \n",
        "#         X_train, X_test = X_shuffled_train[train_index], X_shuffled_train[test_index]       \n",
        "        \n",
        "#         X_train = pd.DataFrame(data=X_train, columns=X_column_values, dtype =object)\n",
        "#         y_train = pd.DataFrame(data=y_train, columns=Y_column_values, dtype =object)        \n",
        "    \n",
        "#         train_new = pd.merge(X_train, y_train, on=['PassengerId'])\n",
        "#         train_new = train_new.drop([\"PassengerId\"], axis=1)\n",
        "        \n",
        "#         X_test = pd.DataFrame(data=X_test, columns=X_column_values, dtype =object)\n",
        "#         y_test = pd.DataFrame(data=y_test, columns=Y_column_values, dtype =object)\n",
        "        \n",
        "#         test_new = pd.merge(X_test, y_test, on=['PassengerId'])\n",
        "#         test_new = test_new.drop([\"PassengerId\"], axis=1)        \n",
        "        \n",
        "#         # flag to create tree based on either gini or information gain\n",
        "#         if impurity == 'gini':\n",
        "#           predictions = decision_tree(train_new, test_new, 10, 5, 'gini')\n",
        "#         else:\n",
        "#           predictions = decision_tree(train_new, test_new, 10, 5, 'ig')\n",
        "          \n",
        "#         accuracy = calculate_accuracy(y_test.Survived,predictions)\n",
        "#         accuracy_array.append(accuracy)\n",
        "        \n",
        "#     return max(accuracy_array)"
      ],
      "execution_count": 0,
      "outputs": []
    },
    {
      "metadata": {
        "id": "hd9BbqydgFiv",
        "colab_type": "code",
        "colab": {
          "base_uri": "https://localhost:8080/",
          "height": 555
        },
        "outputId": "ece942cf-ac6d-4f53-fec2-5a63507d567b"
      },
      "cell_type": "code",
      "source": [
        "# from sklearn.utils import shuffle\n",
        "# folds = 5\n",
        "# impurity = 'gini' #or 'ig'\n",
        "# apply_cross_validation(folds, X_train, X_test, impurity)"
      ],
      "execution_count": 42,
      "outputs": [
        {
          "output_type": "error",
          "ename": "ValueError",
          "evalue": "ignored",
          "traceback": [
            "\u001b[0;31m---------------------------------------------------------------------------\u001b[0m",
            "\u001b[0;31mValueError\u001b[0m                                Traceback (most recent call last)",
            "\u001b[0;32m<ipython-input-42-3f7ff16642ed>\u001b[0m in \u001b[0;36m<module>\u001b[0;34m()\u001b[0m\n\u001b[1;32m      2\u001b[0m \u001b[0mfolds\u001b[0m \u001b[0;34m=\u001b[0m \u001b[0;36m5\u001b[0m\u001b[0;34m\u001b[0m\u001b[0;34m\u001b[0m\u001b[0m\n\u001b[1;32m      3\u001b[0m \u001b[0mimpurity\u001b[0m \u001b[0;34m=\u001b[0m \u001b[0;34m'gini'\u001b[0m \u001b[0;31m#or 'ig'\u001b[0m\u001b[0;34m\u001b[0m\u001b[0;34m\u001b[0m\u001b[0m\n\u001b[0;32m----> 4\u001b[0;31m \u001b[0mapply_cross_validation\u001b[0m\u001b[0;34m(\u001b[0m\u001b[0mfolds\u001b[0m\u001b[0;34m,\u001b[0m \u001b[0mX_train\u001b[0m\u001b[0;34m,\u001b[0m \u001b[0mX_test\u001b[0m\u001b[0;34m,\u001b[0m \u001b[0mimpurity\u001b[0m\u001b[0;34m)\u001b[0m\u001b[0;34m\u001b[0m\u001b[0;34m\u001b[0m\u001b[0m\n\u001b[0m",
            "\u001b[0;32m<ipython-input-37-d9d1b9a9ab7d>\u001b[0m in \u001b[0;36mapply_cross_validation\u001b[0;34m(folds, train, test, impurity)\u001b[0m\n\u001b[1;32m     41\u001b[0m           \u001b[0mpredictions\u001b[0m \u001b[0;34m=\u001b[0m \u001b[0mdecision_tree\u001b[0m\u001b[0;34m(\u001b[0m\u001b[0mtrain_new\u001b[0m\u001b[0;34m,\u001b[0m \u001b[0mtest_new\u001b[0m\u001b[0;34m,\u001b[0m \u001b[0;36m10\u001b[0m\u001b[0;34m,\u001b[0m \u001b[0;36m5\u001b[0m\u001b[0;34m,\u001b[0m \u001b[0;34m'ig'\u001b[0m\u001b[0;34m)\u001b[0m\u001b[0;34m\u001b[0m\u001b[0;34m\u001b[0m\u001b[0m\n\u001b[1;32m     42\u001b[0m \u001b[0;34m\u001b[0m\u001b[0m\n\u001b[0;32m---> 43\u001b[0;31m         \u001b[0maccuracy\u001b[0m \u001b[0;34m=\u001b[0m \u001b[0maccuracy_score\u001b[0m\u001b[0;34m(\u001b[0m\u001b[0my_test\u001b[0m\u001b[0;34m.\u001b[0m\u001b[0mSurvived\u001b[0m\u001b[0;34m,\u001b[0m\u001b[0mpredictions\u001b[0m\u001b[0;34m)\u001b[0m\u001b[0;34m\u001b[0m\u001b[0;34m\u001b[0m\u001b[0m\n\u001b[0m\u001b[1;32m     44\u001b[0m         \u001b[0maccuracy_array\u001b[0m\u001b[0;34m.\u001b[0m\u001b[0mappend\u001b[0m\u001b[0;34m(\u001b[0m\u001b[0maccuracy\u001b[0m\u001b[0;34m)\u001b[0m\u001b[0;34m\u001b[0m\u001b[0;34m\u001b[0m\u001b[0m\n\u001b[1;32m     45\u001b[0m \u001b[0;34m\u001b[0m\u001b[0m\n",
            "\u001b[0;32m/usr/local/lib/python3.6/dist-packages/sklearn/metrics/classification.py\u001b[0m in \u001b[0;36maccuracy_score\u001b[0;34m(y_true, y_pred, normalize, sample_weight)\u001b[0m\n\u001b[1;32m    174\u001b[0m \u001b[0;34m\u001b[0m\u001b[0m\n\u001b[1;32m    175\u001b[0m     \u001b[0;31m# Compute accuracy for each possible representation\u001b[0m\u001b[0;34m\u001b[0m\u001b[0;34m\u001b[0m\u001b[0;34m\u001b[0m\u001b[0m\n\u001b[0;32m--> 176\u001b[0;31m     \u001b[0my_type\u001b[0m\u001b[0;34m,\u001b[0m \u001b[0my_true\u001b[0m\u001b[0;34m,\u001b[0m \u001b[0my_pred\u001b[0m \u001b[0;34m=\u001b[0m \u001b[0m_check_targets\u001b[0m\u001b[0;34m(\u001b[0m\u001b[0my_true\u001b[0m\u001b[0;34m,\u001b[0m \u001b[0my_pred\u001b[0m\u001b[0;34m)\u001b[0m\u001b[0;34m\u001b[0m\u001b[0;34m\u001b[0m\u001b[0m\n\u001b[0m\u001b[1;32m    177\u001b[0m     \u001b[0mcheck_consistent_length\u001b[0m\u001b[0;34m(\u001b[0m\u001b[0my_true\u001b[0m\u001b[0;34m,\u001b[0m \u001b[0my_pred\u001b[0m\u001b[0;34m,\u001b[0m \u001b[0msample_weight\u001b[0m\u001b[0;34m)\u001b[0m\u001b[0;34m\u001b[0m\u001b[0;34m\u001b[0m\u001b[0m\n\u001b[1;32m    178\u001b[0m     \u001b[0;32mif\u001b[0m \u001b[0my_type\u001b[0m\u001b[0;34m.\u001b[0m\u001b[0mstartswith\u001b[0m\u001b[0;34m(\u001b[0m\u001b[0;34m'multilabel'\u001b[0m\u001b[0;34m)\u001b[0m\u001b[0;34m:\u001b[0m\u001b[0;34m\u001b[0m\u001b[0;34m\u001b[0m\u001b[0m\n",
            "\u001b[0;32m/usr/local/lib/python3.6/dist-packages/sklearn/metrics/classification.py\u001b[0m in \u001b[0;36m_check_targets\u001b[0;34m(y_true, y_pred)\u001b[0m\n\u001b[1;32m     79\u001b[0m     \u001b[0;32mif\u001b[0m \u001b[0mlen\u001b[0m\u001b[0;34m(\u001b[0m\u001b[0my_type\u001b[0m\u001b[0;34m)\u001b[0m \u001b[0;34m>\u001b[0m \u001b[0;36m1\u001b[0m\u001b[0;34m:\u001b[0m\u001b[0;34m\u001b[0m\u001b[0;34m\u001b[0m\u001b[0m\n\u001b[1;32m     80\u001b[0m         raise ValueError(\"Classification metrics can't handle a mix of {0} \"\n\u001b[0;32m---> 81\u001b[0;31m                          \"and {1} targets\".format(type_true, type_pred))\n\u001b[0m\u001b[1;32m     82\u001b[0m \u001b[0;34m\u001b[0m\u001b[0m\n\u001b[1;32m     83\u001b[0m     \u001b[0;31m# We can't have more than one value on y_type => The set is no more needed\u001b[0m\u001b[0;34m\u001b[0m\u001b[0;34m\u001b[0m\u001b[0;34m\u001b[0m\u001b[0m\n",
            "\u001b[0;31mValueError\u001b[0m: Classification metrics can't handle a mix of unknown and binary targets"
          ]
        }
      ]
    },
    {
      "metadata": {
        "id": "yke7NYYmz_x-",
        "colab_type": "code",
        "colab": {}
      },
      "cell_type": "code",
      "source": [
        ""
      ],
      "execution_count": 0,
      "outputs": []
    }
  ]
}