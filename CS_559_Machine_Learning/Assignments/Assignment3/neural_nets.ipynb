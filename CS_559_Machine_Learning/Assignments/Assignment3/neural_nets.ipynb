{
 "cells": [
  {
   "cell_type": "markdown",
   "metadata": {},
   "source": [
    "## Neural Nets"
   ]
  },
  {
   "cell_type": "code",
   "execution_count": 2,
   "metadata": {},
   "outputs": [],
   "source": [
    "import cloudpickle as cp\n",
    "import numpy as np\n",
    "import matplotlib as mpl\n",
    "import matplotlib.pyplot as plt\n",
    "from sklearn.metrics import accuracy_score\n",
    "import pandas as pd\n",
    "from sklearn.utils.extmath import softmax"
   ]
  },
  {
   "cell_type": "code",
   "execution_count": 15,
   "metadata": {
    "scrolled": true
   },
   "outputs": [
    {
     "data": {
      "text/plain": [
       "<function BufferedReader.close>"
      ]
     },
     "execution_count": 15,
     "metadata": {},
     "output_type": "execute_result"
    }
   ],
   "source": [
    "filepath = \"C:/Users/Dell/Desktop/web_mining/ml/mnist.pkl\"\n",
    "with open(filepath, 'rb') as f:\n",
    "    train_set, valid_set, test_set = cp.load(f, encoding = 'bytes')\n",
    "f.close"
   ]
  },
  {
   "cell_type": "code",
   "execution_count": 34,
   "metadata": {},
   "outputs": [
    {
     "name": "stdout",
     "output_type": "stream",
     "text": [
      "(10, 10000)\n"
     ]
    }
   ],
   "source": [
    "X_train = train_set[0].T\n",
    "\n",
    "digits = 10\n",
    "\n",
    "examples = train_set[1].shape[0]\n",
    "y_train_ = train_set[1].reshape(1, examples)\n",
    "Y_new = np.eye(digits)[y_train_.astype('int32')]\n",
    "y_train = Y_new.T.reshape(digits, examples)\n",
    "\n",
    "X_valid = valid_set[0].T\n",
    "\n",
    "examples = valid_set[1].shape[0]\n",
    "y_valid_ = valid_set[1].reshape(1, examples)\n",
    "Y_new = np.eye(digits)[y_valid_.astype('int32')]\n",
    "y_valid = Y_new.T.reshape(digits, examples)\n",
    "\n",
    "X_test = test_set[0].T\n",
    "y_test = test_set[1]\n",
    "\n",
    "examples = test_set[1].shape[0]\n",
    "y_test_ = test_set[1].reshape(1, examples)\n",
    "Y_new = np.eye(digits)[y_test_.astype('int32')]\n",
    "y_test = Y_new.T.reshape(digits, examples)\n",
    "\n",
    "train_examples = y_train.shape[0]\n",
    "valid_examples = y_valid.shape[0]\n",
    "test_examples = y_test.shape[0]\n"
   ]
  },
  {
   "cell_type": "code",
   "execution_count": 45,
   "metadata": {},
   "outputs": [],
   "source": [
    "import math\n",
    "def sigmoid(x):\n",
    "    return 1/(1+np.exp(-x))"
   ]
  },
  {
   "cell_type": "code",
   "execution_count": 46,
   "metadata": {},
   "outputs": [],
   "source": [
    "def entropy_loss(y, p):\n",
    "    \n",
    "    L_sum = np.sum(np.multiply(y, np.log(p)))\n",
    "    m = y.shape[1]\n",
    "    L = -(1/m) * L_sum\n",
    "    return L\n",
    "   "
   ]
  },
  {
   "cell_type": "code",
   "execution_count": 37,
   "metadata": {},
   "outputs": [],
   "source": [
    "class NeuralNetwork:\n",
    "    def __init__(self, x, y, n_hidden_units, eta):\n",
    "        self.input = x\n",
    "        self.W1 = np.random.rand(n_hidden_units, self.input.shape[0])\n",
    "        self.W2 = np.random.rand(10, n_hidden_units)\n",
    "        self.y = y\n",
    "        self.output = np.zeros((10, self.y.shape[1]))\n",
    "        self.Z2 = np.zeros((10, self.y.shape[1]))\n",
    "        self.N = self.y.shape[1]\n",
    "        self.h1 = np.zeros((self.N, n_hidden_units))\n",
    "        self.eta = eta\n",
    "        self.hidden_units = n_hidden_units\n",
    "        self.m = y.shape[1]\n",
    "        \n",
    "    def feedforward(self):\n",
    "           \n",
    "        self.h1 = sigmoid(np.matmul(self.W1, self.input))\n",
    "        self.Z2= np.matmul(self.W2, self.h1)\n",
    "        \n",
    "        self.output =  np.exp(self.Z2) / np.sum(np.exp(self.Z2), axis=0)\n",
    "            \n",
    "    def backprop(self):\n",
    "            d_Z2 = (self.output - self.y)\n",
    "            d_W2 = (1/self.m) * np.matmul(d_Z2, self.h1.T)\n",
    "            d_Z1 = np.matmul(self.W2.T, d_Z2) * (self.h1 * (1-self.h1))\n",
    "            d_W1 = (1/self.m) * np.matmul(d_Z1, self.input.T)\n",
    "            self.W1 -= self.eta * d_W1\n",
    "            self.W2 -= self.eta * d_W2\n",
    "            \n",
    "    def loglosstrain(self):\n",
    "        return entropy_loss(self.y, self.output)\n",
    "    \n",
    "    def run(self, X_validation, y_validation):\n",
    "        input_ = X_validation\n",
    "        y = y_validation\n",
    "        N = y.shape[1]\n",
    "        \n",
    "        h1 = np.zeros((N, self.hidden_units))\n",
    "        output = np.zeros((10,y.shape[1]))\n",
    "\n",
    "        h1 = sigmoid(np.matmul(self.W1, input_))\n",
    "        Z2 = np.matmul(self.W2, h1)\n",
    "        output = np.exp(Z2) / np.sum(np.exp(Z2), axis=0)\n",
    "            \n",
    "        return np.argmax(output, axis=0), entropy_loss(y, output)        \n",
    "   \n",
    "       "
   ]
  },
  {
   "cell_type": "code",
   "execution_count": 38,
   "metadata": {},
   "outputs": [
    {
     "name": "stdout",
     "output_type": "stream",
     "text": [
      "50000\n",
      "epoch:0, loss:4.353476 \n",
      "epoch:1, loss:3.440051 \n",
      "epoch:2, loss:3.095123 \n",
      "epoch:3, loss:2.907485 \n",
      "epoch:4, loss:2.787705 \n",
      "epoch:5, loss:2.699866 \n",
      "epoch:6, loss:2.629749 \n",
      "epoch:7, loss:2.571082 \n",
      "epoch:8, loss:2.520857 \n",
      "epoch:9, loss:2.477546 \n",
      "epoch:10, loss:2.440342 \n",
      "epoch:11, loss:2.408781 \n",
      "epoch:12, loss:2.382521 \n",
      "epoch:13, loss:2.361201 \n",
      "epoch:14, loss:2.344370 \n",
      "epoch:15, loss:2.331478 \n",
      "epoch:16, loss:2.321903 \n",
      "epoch:17, loss:2.315006 \n",
      "epoch:18, loss:2.310184 \n",
      "epoch:19, loss:2.306906 \n",
      "epoch:20, loss:2.304733 \n",
      "epoch:21, loss:2.303326 \n",
      "epoch:22, loss:2.302432 \n",
      "epoch:23, loss:2.301874 \n",
      "epoch:24, loss:2.301531 \n",
      "epoch:25, loss:2.301322 \n",
      "epoch:26, loss:2.301197 \n",
      "epoch:27, loss:2.301121 \n",
      "epoch:28, loss:2.301076 \n",
      "epoch:29, loss:2.301050 \n",
      "epoch:30, loss:2.301034 \n",
      "epoch:31, loss:2.301025 \n",
      "epoch:32, loss:2.301019 \n",
      "epoch:33, loss:2.301016 \n",
      "epoch:34, loss:2.301014 \n",
      "epoch:35, loss:2.301013 \n",
      "epoch:36, loss:2.301013 \n",
      "epoch:37, loss:2.301012 \n",
      "epoch:38, loss:2.301012 \n",
      "epoch:39, loss:2.301012 \n",
      "epoch:40, loss:2.301012 \n",
      "epoch:41, loss:2.301012 \n",
      "epoch:42, loss:2.301012 \n",
      "epoch:43, loss:2.301012 \n",
      "epoch:44, loss:2.301012 \n",
      "epoch:45, loss:2.301012 \n",
      "epoch:46, loss:2.301012 \n",
      "epoch:47, loss:2.301012 \n",
      "epoch:48, loss:2.301012 \n",
      "epoch:49, loss:2.301012 \n",
      "epoch:50, loss:2.301012 \n",
      "epoch:51, loss:2.301012 \n",
      "epoch:52, loss:2.301012 \n",
      "epoch:53, loss:2.301012 \n",
      "epoch:54, loss:2.301012 \n",
      "epoch:55, loss:2.301012 \n",
      "epoch:56, loss:2.301012 \n",
      "epoch:57, loss:2.301012 \n",
      "epoch:58, loss:2.301012 \n",
      "epoch:59, loss:2.301012 \n",
      "epoch:60, loss:2.301012 \n",
      "epoch:61, loss:2.301012 \n",
      "epoch:62, loss:2.301012 \n",
      "epoch:63, loss:2.301012 \n",
      "epoch:64, loss:2.301012 \n",
      "epoch:65, loss:2.301012 \n",
      "epoch:66, loss:2.301012 \n",
      "epoch:67, loss:2.301012 \n",
      "epoch:68, loss:2.301012 \n",
      "epoch:69, loss:2.301012 \n",
      "epoch:70, loss:2.301012 \n",
      "epoch:71, loss:2.301012 \n",
      "epoch:72, loss:2.301012 \n",
      "epoch:73, loss:2.301012 \n",
      "epoch:74, loss:2.301012 \n",
      "epoch:75, loss:2.301012 \n",
      "epoch:76, loss:2.301012 \n",
      "epoch:77, loss:2.301012 \n",
      "epoch:78, loss:2.301012 \n",
      "epoch:79, loss:2.301012 \n",
      "epoch:80, loss:2.301012 \n",
      "epoch:81, loss:2.301012 \n",
      "epoch:82, loss:2.301012 \n",
      "epoch:83, loss:2.301012 \n",
      "epoch:84, loss:2.301012 \n",
      "epoch:85, loss:2.301012 \n",
      "epoch:86, loss:2.301012 \n",
      "epoch:87, loss:2.301012 \n",
      "epoch:88, loss:2.301012 \n",
      "epoch:89, loss:2.301012 \n",
      "epoch:90, loss:2.301012 \n",
      "epoch:91, loss:2.301012 \n",
      "epoch:92, loss:2.301012 \n",
      "epoch:93, loss:2.301012 \n",
      "epoch:94, loss:2.301012 \n",
      "epoch:95, loss:2.301012 \n",
      "epoch:96, loss:2.301012 \n",
      "epoch:97, loss:2.301012 \n",
      "epoch:98, loss:2.301012 \n",
      "epoch:99, loss:2.301012 \n"
     ]
    }
   ],
   "source": [
    "if __name__ == \"__main__\":    \n",
    "    \n",
    "    nn = NeuralNetwork(X_train, y_train, 24, 0.1)\n",
    "    training_loss = []\n",
    "    validation_loss = []\n",
    "    test_loss = []\n",
    "    \n",
    "    val_accuracy = []\n",
    "    test_accuracy = []\n",
    "    \n",
    "    val_preds = []\n",
    "    test_preds = []\n",
    "    \n",
    "    for i in range(100):\n",
    "        nn.feedforward()\n",
    "        nn.backprop()\n",
    "        training_loss.append(nn.loglosstrain())\n",
    "        epoch_count = range(1, len(training_loss)+1)\n",
    "        \n",
    "        val_pred, val_loss = nn.run(X_valid, y_valid)\n",
    "        validation_loss.append(val_loss)\n",
    "        val_accuracy.append(accuracy_score(np.argmax(y_valid, axis=0), val_pred))\n",
    "        \n",
    "        \n",
    "        test_pred, test_loss_ = nn.run(X_test, y_test)\n",
    "        test_loss.append(test_loss_)\n",
    "        test_accuracy.append(accuracy_score(np.argmax(y_test, axis=0), test_pred))\n",
    "        \n",
    "        val_preds.append(val_pred)\n",
    "        test_preds.append(test_pred)\n",
    "       \n",
    "        if i%10== 0:\n",
    "            print('epoch:%d, loss:%f ' % (i, nn.loglosstrain()))\n",
    "    \n",
    "    "
   ]
  },
  {
   "cell_type": "code",
   "execution_count": 43,
   "metadata": {},
   "outputs": [
    {
     "name": "stdout",
     "output_type": "stream",
     "text": [
      "Best accuracy on val set: 0.1064\n",
      "Best accuracy on test set: 0.1135\n"
     ]
    }
   ],
   "source": [
    "print('Best accuracy on val set:', max(val_accuracy))\n",
    "print('Best accuracy on test set:', max(test_accuracy))"
   ]
  },
  {
   "cell_type": "code",
   "execution_count": 44,
   "metadata": {},
   "outputs": [
    {
     "data": {
      "image/png": "[encoded data removed]",
      "text/plain": [
       "<Figure size 432x288 with 1 Axes>"
      ]
     },
     "metadata": {
      "needs_background": "light"
     },
     "output_type": "display_data"
    }
   ],
   "source": [
    "plt.plot(epoch_count, training_loss, 'r--')\n",
    "plt.plot(epoch_count, validation_loss, 'b-')\n",
    "plt.plot(epoch_count, test_loss, 'g-')\n",
    "plt.legend(['Training Loss','Validation Loss', 'Test Loss'])\n",
    "plt.xlabel('Epoch')\n",
    "plt.ylabel('Loss')\n",
    "plt.show();"
   ]
  },
  {
   "cell_type": "code",
   "execution_count": null,
   "metadata": {},
   "outputs": [],
   "source": []
  }
 ],
 "metadata": {
  "kernelspec": {
   "display_name": "Python 3",
   "language": "python",
   "name": "python3"
  },
  "language_info": {
   "codemirror_mode": {
    "name": "ipython",
    "version": 3
   },
   "file_extension": ".py",
   "mimetype": "text/x-python",
   "name": "python",
   "nbconvert_exporter": "python",
   "pygments_lexer": "ipython3",
   "version": "3.7.1"
  }
 },
 "nbformat": 4,
 "nbformat_minor": 2
}
