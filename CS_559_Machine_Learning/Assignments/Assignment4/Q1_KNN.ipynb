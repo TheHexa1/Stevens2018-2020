{
  "nbformat": 4,
  "nbformat_minor": 0,
  "metadata": {
    "colab": {
      "name": "Q1_KNN.ipynb",
      "version": "0.3.2",
      "provenance": [],
      "collapsed_sections": [],
      "toc_visible": true
    },
    "language_info": {
      "codemirror_mode": {
        "name": "ipython",
        "version": 3
      },
      "file_extension": ".py",
      "mimetype": "text/x-python",
      "name": "python",
      "nbconvert_exporter": "python",
      "pygments_lexer": "ipython3",
      "version": "3.7.2"
    },
    "kernelspec": {
      "display_name": "Python 3",
      "language": "python",
      "name": "python3"
    }
  },
  "cells": [
    {
      "metadata": {
        "id": "h28IcuJgyupa",
        "colab_type": "code",
        "colab": {}
      },
      "cell_type": "code",
      "source": [
        "import pandas as pd\n",
        "from sklearn.model_selection import train_test_split\n",
        "from sklearn.model_selection import cross_validate\n",
        "import math\n",
        "import numpy as np\n",
        "import operator\n",
        "from collections import Counter\n",
        "import matplotlib.pyplot as plt\n",
        "from sklearn.model_selection import KFold"
      ],
      "execution_count": 0,
      "outputs": []
    },
    {
      "metadata": {
        "id": "JV7DCtReyupe",
        "colab_type": "code",
        "colab": {}
      },
      "cell_type": "code",
      "source": [
        "df= pd.read_csv('yeast.data', sep='\\s+', header=None, names = ['Names', 'Mcg', 'Gvh', 'Alm', 'Mit', 'Erl', 'Pox', 'Vac', 'Nuc','Class'])"
      ],
      "execution_count": 0,
      "outputs": []
    },
    {
      "metadata": {
        "id": "d49fCFimyupi",
        "colab_type": "code",
        "outputId": "bbb6b755-28df-49df-89b4-71021a8d0134",
        "colab": {
          "base_uri": "https://localhost:8080/",
          "height": 204
        }
      },
      "cell_type": "code",
      "source": [
        "df.head()"
      ],
      "execution_count": 13,
      "outputs": [
        {
          "output_type": "execute_result",
          "data": {
            "text/html": [
              "<div>\n",
              "<style scoped>\n",
              "    .dataframe tbody tr th:only-of-type {\n",
              "        vertical-align: middle;\n",
              "    }\n",
              "\n",
              "    .dataframe tbody tr th {\n",
              "        vertical-align: top;\n",
              "    }\n",
              "\n",
              "    .dataframe thead th {\n",
              "        text-align: right;\n",
              "    }\n",
              "</style>\n",
              "<table border=\"1\" class=\"dataframe\">\n",
              "  <thead>\n",
              "    <tr style=\"text-align: right;\">\n",
              "      <th></th>\n",
              "      <th>Names</th>\n",
              "      <th>Mcg</th>\n",
              "      <th>Gvh</th>\n",
              "      <th>Alm</th>\n",
              "      <th>Mit</th>\n",
              "      <th>Erl</th>\n",
              "      <th>Pox</th>\n",
              "      <th>Vac</th>\n",
              "      <th>Nuc</th>\n",
              "      <th>Class</th>\n",
              "    </tr>\n",
              "  </thead>\n",
              "  <tbody>\n",
              "    <tr>\n",
              "      <th>0</th>\n",
              "      <td>ADT1_YEAST</td>\n",
              "      <td>0.58</td>\n",
              "      <td>0.61</td>\n",
              "      <td>0.47</td>\n",
              "      <td>0.13</td>\n",
              "      <td>0.5</td>\n",
              "      <td>0.0</td>\n",
              "      <td>0.48</td>\n",
              "      <td>0.22</td>\n",
              "      <td>MIT</td>\n",
              "    </tr>\n",
              "    <tr>\n",
              "      <th>1</th>\n",
              "      <td>ADT2_YEAST</td>\n",
              "      <td>0.43</td>\n",
              "      <td>0.67</td>\n",
              "      <td>0.48</td>\n",
              "      <td>0.27</td>\n",
              "      <td>0.5</td>\n",
              "      <td>0.0</td>\n",
              "      <td>0.53</td>\n",
              "      <td>0.22</td>\n",
              "      <td>MIT</td>\n",
              "    </tr>\n",
              "    <tr>\n",
              "      <th>2</th>\n",
              "      <td>ADT3_YEAST</td>\n",
              "      <td>0.64</td>\n",
              "      <td>0.62</td>\n",
              "      <td>0.49</td>\n",
              "      <td>0.15</td>\n",
              "      <td>0.5</td>\n",
              "      <td>0.0</td>\n",
              "      <td>0.53</td>\n",
              "      <td>0.22</td>\n",
              "      <td>MIT</td>\n",
              "    </tr>\n",
              "    <tr>\n",
              "      <th>3</th>\n",
              "      <td>AAR2_YEAST</td>\n",
              "      <td>0.58</td>\n",
              "      <td>0.44</td>\n",
              "      <td>0.57</td>\n",
              "      <td>0.13</td>\n",
              "      <td>0.5</td>\n",
              "      <td>0.0</td>\n",
              "      <td>0.54</td>\n",
              "      <td>0.22</td>\n",
              "      <td>NUC</td>\n",
              "    </tr>\n",
              "    <tr>\n",
              "      <th>4</th>\n",
              "      <td>AATM_YEAST</td>\n",
              "      <td>0.42</td>\n",
              "      <td>0.44</td>\n",
              "      <td>0.48</td>\n",
              "      <td>0.54</td>\n",
              "      <td>0.5</td>\n",
              "      <td>0.0</td>\n",
              "      <td>0.48</td>\n",
              "      <td>0.22</td>\n",
              "      <td>MIT</td>\n",
              "    </tr>\n",
              "  </tbody>\n",
              "</table>\n",
              "</div>"
            ],
            "text/plain": [
              "        Names   Mcg   Gvh   Alm   Mit  Erl  Pox   Vac   Nuc Class\n",
              "0  ADT1_YEAST  0.58  0.61  0.47  0.13  0.5  0.0  0.48  0.22   MIT\n",
              "1  ADT2_YEAST  0.43  0.67  0.48  0.27  0.5  0.0  0.53  0.22   MIT\n",
              "2  ADT3_YEAST  0.64  0.62  0.49  0.15  0.5  0.0  0.53  0.22   MIT\n",
              "3  AAR2_YEAST  0.58  0.44  0.57  0.13  0.5  0.0  0.54  0.22   NUC\n",
              "4  AATM_YEAST  0.42  0.44  0.48  0.54  0.5  0.0  0.48  0.22   MIT"
            ]
          },
          "metadata": {
            "tags": []
          },
          "execution_count": 13
        }
      ]
    },
    {
      "metadata": {
        "id": "DDSBWyQkEnyw",
        "colab_type": "code",
        "outputId": "881e5556-955e-4de5-89c1-64f64dd543d7",
        "colab": {
          "base_uri": "https://localhost:8080/",
          "height": 136
        }
      },
      "cell_type": "code",
      "source": [
        "X = df.drop(columns=['Class', 'Names'], inplace=False).values\n",
        "y = df['Class'].values\n",
        "\n",
        "X"
      ],
      "execution_count": 14,
      "outputs": [
        {
          "output_type": "execute_result",
          "data": {
            "text/plain": [
              "array([[0.58, 0.61, 0.47, ..., 0.  , 0.48, 0.22],\n",
              "       [0.43, 0.67, 0.48, ..., 0.  , 0.53, 0.22],\n",
              "       [0.64, 0.62, 0.49, ..., 0.  , 0.53, 0.22],\n",
              "       ...,\n",
              "       [0.67, 0.57, 0.36, ..., 0.  , 0.56, 0.22],\n",
              "       [0.43, 0.4 , 0.6 , ..., 0.  , 0.53, 0.39],\n",
              "       [0.65, 0.54, 0.54, ..., 0.  , 0.53, 0.22]])"
            ]
          },
          "metadata": {
            "tags": []
          },
          "execution_count": 14
        }
      ]
    },
    {
      "metadata": {
        "id": "Lu9xnGouyuq7",
        "colab_type": "code",
        "colab": {}
      },
      "cell_type": "code",
      "source": [
        "#Euclidean Distance\n",
        "def calculate_euclidean_distance(X, point, k):\n",
        "  \n",
        "    d = np.sqrt(np.sum(pow((X - point),2) , axis=1))\n",
        "    return d"
      ],
      "execution_count": 0,
      "outputs": []
    },
    {
      "metadata": {
        "id": "vOul6ATmyurK",
        "colab_type": "code",
        "colab": {}
      },
      "cell_type": "code",
      "source": [
        "#Get Nearest Neighbors\n",
        "def get_K_Nearest_Neighbors(distance, k):\n",
        "    return np.argsort(distance)[:k]"
      ],
      "execution_count": 0,
      "outputs": []
    },
    {
      "metadata": {
        "id": "TJ_eT7O1yurX",
        "colab_type": "code",
        "colab": {}
      },
      "cell_type": "code",
      "source": [
        "#get predictions\n",
        "def predict_label(X, y, points, k):\n",
        "    labels=[]\n",
        "    \n",
        "    for p in points:\n",
        "      \n",
        "        dist = calculate_euclidean_distance(X, p, k)\n",
        "        \n",
        "        neighbors = get_K_Nearest_Neighbors(dist, k)\n",
        "        \n",
        "        results=[]\n",
        "        for i in neighbors:\n",
        "            results.append(y[i])\n",
        "        \n",
        "        label = Counter(results).most_common(1)\n",
        "        labels.append(label[0][0])\n",
        "        \n",
        "    return labels"
      ],
      "execution_count": 0,
      "outputs": []
    },
    {
      "metadata": {
        "id": "0o2-mYS_yup7",
        "colab_type": "code",
        "colab": {}
      },
      "cell_type": "code",
      "source": [
        "#cross_validation\n",
        "def apply_cross_validation(folds, X, y, k):\n",
        "    k_fold = KFold(n_splits=folds)\n",
        "    \n",
        "    accuracy_array = []\n",
        "    \n",
        "    for train_index, test_index in k_fold.split(X):\n",
        "        y_train, y_test = y[train_index], y[test_index]\n",
        "       \n",
        "        X_train, X_test = X[train_index], X[test_index]       \n",
        "        \n",
        "        preds = predict_label(X_train, y_train, X_test, k)\n",
        "          \n",
        "        accuracy = calculate_accuracy(y_test, preds)\n",
        "        accuracy_array.append(accuracy)\n",
        "        \n",
        "    return max(accuracy_array)"
      ],
      "execution_count": 0,
      "outputs": []
    },
    {
      "metadata": {
        "id": "pPitBKI8yurk",
        "colab_type": "code",
        "colab": {}
      },
      "cell_type": "code",
      "source": [
        "def calculate_accuracy(y_test, predictions):\n",
        "    correct = 0\n",
        "    for x in range(len(y_test)):\n",
        "        if y_test[x] == predictions[x]:\n",
        "            correct += 1\n",
        "    return (correct/float(len(y_test))) * 100.0"
      ],
      "execution_count": 0,
      "outputs": []
    },
    {
      "metadata": {
        "id": "_aLufHI5WDKi",
        "colab_type": "code",
        "colab": {}
      },
      "cell_type": "code",
      "source": [
        "#accuracy for different k values\n",
        "\n",
        "k_accu = {}\n",
        "for k in range(1,31):\n",
        "\n",
        "  #10-fold cross validation\n",
        "  k_accu[k] = apply_cross_validation(10, X, y, k)\n",
        "  "
      ],
      "execution_count": 0,
      "outputs": []
    },
    {
      "metadata": {
        "id": "IUpNn_SNyur0",
        "colab_type": "code",
        "outputId": "9f9de3d3-88d6-4d6d-c640-24a7158c23a8",
        "colab": {
          "base_uri": "https://localhost:8080/",
          "height": 51
        }
      },
      "cell_type": "code",
      "source": [
        "#Best k-value and best performance\n",
        "best_ = sorted(k_accu.items(), key=operator.itemgetter(1), reverse=True)[0]\n",
        "\n",
        "print(\"Best k=%d \\nBest cross validation accuracy:%f\" % (best_[0], best_[1]))"
      ],
      "execution_count": 22,
      "outputs": [
        {
          "output_type": "stream",
          "text": [
            "Best k=17 \n",
            "Best cross validation accuracy:65.100671\n"
          ],
          "name": "stdout"
        }
      ]
    },
    {
      "metadata": {
        "id": "PSMVLxSQyur9",
        "colab_type": "code",
        "outputId": "c8e495bb-39ea-4bb4-d822-a8a8a5e3df56",
        "colab": {
          "base_uri": "https://localhost:8080/",
          "height": 283
        }
      },
      "cell_type": "code",
      "source": [
        "#Different values of K from 1 to 31 vs cross-validation accuracy\n",
        "plt.plot(k_accu.keys(), k_accu.values())\n",
        "plt.xlabel('Value of K for KNN')\n",
        "plt.ylabel('Cross-validation accuracy')\n",
        "plt.show()"
      ],
      "execution_count": 23,
      "outputs": [
        {
          "output_type": "display_data",
          "data": {
            "image/png": "[encoded data removed]",
            "text/plain": [
              "<Figure size 432x288 with 1 Axes>"
            ]
          },
          "metadata": {
            "tags": []
          }
        }
      ]
    },
    {
      "metadata": {
        "id": "3aQCzqYab1XS",
        "colab_type": "code",
        "colab": {}
      },
      "cell_type": "code",
      "source": [
        ""
      ],
      "execution_count": 0,
      "outputs": []
    }
  ]
}