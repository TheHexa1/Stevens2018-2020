{
  "nbformat": 4,
  "nbformat_minor": 0,
  "metadata": {
    "colab": {
      "name": "Q6_CNN",
      "version": "0.3.2",
      "provenance": [],
      "collapsed_sections": [],
      "toc_visible": true
    },
    "kernelspec": {
      "name": "python3",
      "display_name": "Python 3"
    },
    "accelerator": "GPU"
  },
  "cells": [
    {
      "metadata": {
        "id": "ASnp-DM86h5I",
        "colab_type": "code",
        "outputId": "46ee5f10-f2fc-4d6d-95ab-d05e401077be",
        "colab": {
          "base_uri": "https://localhost:8080/",
          "height": 122
        }
      },
      "cell_type": "code",
      "source": [
        "from google.colab import drive\n",
        "drive.mount('/content/gdrive')"
      ],
      "execution_count": 0,
      "outputs": [
        {
          "output_type": "stream",
          "text": [
            "Go to this URL in a browser: https://accounts.google.com/o/oauth2/auth?client_id=947318989803-6bn6qk8qdgf4n4g3pfee6491hc0brc4i.apps.googleusercontent.com&redirect_uri=urn%3Aietf%3Awg%3Aoauth%3A2.0%3Aoob&scope=email%20https%3A%2F%2Fwww.googleapis.com%2Fauth%2Fdocs.test%20https%3A%2F%2Fwww.googleapis.com%2Fauth%2Fdrive%20https%3A%2F%2Fwww.googleapis.com%2Fauth%2Fdrive.photos.readonly%20https%3A%2F%2Fwww.googleapis.com%2Fauth%2Fpeopleapi.readonly&response_type=code\n",
            "\n",
            "Enter your authorization code:\n",
            "··········\n",
            "Mounted at /content/gdrive\n"
          ],
          "name": "stdout"
        }
      ]
    },
    {
      "metadata": {
        "id": "TezK_bJ3dt3Q",
        "colab_type": "code",
        "colab": {}
      },
      "cell_type": "code",
      "source": [
        "# keras import\n",
        "from keras.models import Sequential, Model\n",
        "from keras.layers import Dense, Dropout, Activation, Input, GlobalMaxPooling1D\n",
        "from keras.layers import Conv2D, MaxPooling2D, Flatten\n",
        "from keras.preprocessing import sequence, text\n",
        "from keras.initializers import Constant\n",
        "from keras.callbacks import EarlyStopping\n",
        "import cloudpickle as cp\n",
        "import numpy as np\n",
        "import pandas as pd\n",
        "from sklearn.preprocessing import OneHotEncoder\n",
        "import matplotlib.pyplot as plt\n",
        "import os\n",
        "import sys"
      ],
      "execution_count": 0,
      "outputs": []
    },
    {
      "metadata": {
        "id": "nRpdMTWGiLEW",
        "colab_type": "code",
        "outputId": "40530b80-3899-4744-9664-93b2eeeae58e",
        "colab": {
          "base_uri": "https://localhost:8080/",
          "height": 34
        }
      },
      "cell_type": "code",
      "source": [
        "# Load the dataset\n",
        "\n",
        "#### please change the file path as per your machine ####\n",
        "\n",
        "mnist_file_path = '/content/gdrive/My Drive/Stevens/Spring 2019/ML/mnist.pkl'\n",
        "# mnist_file_path = 'mnist.pkl'\n",
        "    \n",
        "with open(mnist_file_path, 'rb') as f:\n",
        "    train_set, valid_set, test_set = cp.load(f, encoding = 'bytes')\n",
        "f.close"
      ],
      "execution_count": 50,
      "outputs": [
        {
          "output_type": "execute_result",
          "data": {
            "text/plain": [
              "<function BufferedReader.close>"
            ]
          },
          "metadata": {
            "tags": []
          },
          "execution_count": 50
        }
      ]
    },
    {
      "metadata": {
        "id": "V1e0B_TckGjR",
        "colab_type": "code",
        "outputId": "5b28cec2-f366-4f2c-f623-d24252711206",
        "colab": {
          "base_uri": "https://localhost:8080/",
          "height": 241
        }
      },
      "cell_type": "code",
      "source": [
        "X_train = train_set[0]\n",
        "y_train = train_set[1]\n",
        "\n",
        "channels = 1 #either black(0) or white(1)\n",
        "img_dim_1 = 28\n",
        "img_dim_2 = 28\n",
        "\n",
        "X_train_reshaped = X_train.reshape(X_train.shape[0], img_dim_1, img_dim_2, channels)\n",
        "\n",
        "y_train = OneHotEncoder().fit_transform(y_train.reshape(-1, 1))\n",
        "# print(y_train.shape)\n",
        "\n",
        "\n",
        "X_valid = valid_set[0]\n",
        "y_valid = valid_set[1]\n",
        "\n",
        "X_valid_reshaped = X_valid.reshape(X_valid.shape[0], img_dim_1, img_dim_2, channels)\n",
        "y_valid = OneHotEncoder().fit_transform(y_valid.reshape(-1, 1))\n",
        "# print(y_valid.shape)\n",
        "\n",
        "X_test = test_set[0]\n",
        "y_test = test_set[1]\n",
        "\n",
        "X_test_reshaped = X_test.reshape(X_test.shape[0], img_dim_1, img_dim_2, channels)\n",
        "y_test = OneHotEncoder().fit_transform(y_test.reshape(-1, 1))\n",
        "# y_test.shape"
      ],
      "execution_count": 51,
      "outputs": [
        {
          "output_type": "stream",
          "text": [
            "/usr/local/lib/python3.6/dist-packages/sklearn/preprocessing/_encoders.py:371: FutureWarning: The handling of integer data will change in version 0.22. Currently, the categories are determined based on the range [0, max(values)], while in the future they will be determined based on the unique values.\n",
            "If you want the future behaviour and silence this warning, you can specify \"categories='auto'\".\n",
            "In case you used a LabelEncoder before this OneHotEncoder to convert the categories to integers, then you can now use the OneHotEncoder directly.\n",
            "  warnings.warn(msg, FutureWarning)\n",
            "/usr/local/lib/python3.6/dist-packages/sklearn/preprocessing/_encoders.py:371: FutureWarning: The handling of integer data will change in version 0.22. Currently, the categories are determined based on the range [0, max(values)], while in the future they will be determined based on the unique values.\n",
            "If you want the future behaviour and silence this warning, you can specify \"categories='auto'\".\n",
            "In case you used a LabelEncoder before this OneHotEncoder to convert the categories to integers, then you can now use the OneHotEncoder directly.\n",
            "  warnings.warn(msg, FutureWarning)\n",
            "/usr/local/lib/python3.6/dist-packages/sklearn/preprocessing/_encoders.py:371: FutureWarning: The handling of integer data will change in version 0.22. Currently, the categories are determined based on the range [0, max(values)], while in the future they will be determined based on the unique values.\n",
            "If you want the future behaviour and silence this warning, you can specify \"categories='auto'\".\n",
            "In case you used a LabelEncoder before this OneHotEncoder to convert the categories to integers, then you can now use the OneHotEncoder directly.\n",
            "  warnings.warn(msg, FutureWarning)\n"
          ],
          "name": "stderr"
        }
      ]
    },
    {
      "metadata": {
        "id": "Usi9u6UUgu-V",
        "colab_type": "code",
        "colab": {}
      },
      "cell_type": "code",
      "source": [
        "# parameters\n",
        "INPUT_SHAPE = (img_dim_1, img_dim_2, channels)\n",
        "FILTERS = 64 #number of filters/size of output layer/features maps\n",
        "KERNEL_SIZE = (3,3) #filter window size\n",
        "BATCH_SIZE = 32\n",
        "n_classes = 10\n",
        "es_callback = EarlyStopping(monitor='val_loss', mode='min', verbose=1, patience=3)\n",
        "EPOCHS = 20"
      ],
      "execution_count": 0,
      "outputs": []
    },
    {
      "metadata": {
        "id": "Vmy1b_ZBgxJy",
        "colab_type": "code",
        "outputId": "911560fd-12bf-4c6e-c68e-e5be3a945997",
        "colab": {
          "base_uri": "https://localhost:8080/",
          "height": 34
        }
      },
      "cell_type": "code",
      "source": [
        "print('Training model.')\n",
        "\n",
        "model = Sequential()\n",
        "\n",
        "model.add(Conv2D(FILTERS, KERNEL_SIZE, activation='relu', input_shape=INPUT_SHAPE))\n",
        "model.add(MaxPooling2D(pool_size=(2,2)))\n",
        "model.add(Conv2D(FILTERS, KERNEL_SIZE, activation='relu'))\n",
        "model.add(MaxPooling2D((2,2)))\n",
        "model.add(Dropout(0.25))\n",
        "model.add(Flatten())\n",
        "model.add(Dense(FILTERS, activation='relu'))\n",
        "model.add(Dropout(0.5))\n",
        "model.add(Dense(n_classes, activation='softmax'))"
      ],
      "execution_count": 53,
      "outputs": [
        {
          "output_type": "stream",
          "text": [
            "Training model.\n"
          ],
          "name": "stdout"
        }
      ]
    },
    {
      "metadata": {
        "id": "v_C_SIsuhBIW",
        "colab_type": "code",
        "colab": {}
      },
      "cell_type": "code",
      "source": [
        "model.compile(loss='categorical_crossentropy',\n",
        "              optimizer='adam',\n",
        "              metrics=['mae','accuracy'])"
      ],
      "execution_count": 0,
      "outputs": []
    },
    {
      "metadata": {
        "id": "Q4XDsHNahCui",
        "colab_type": "code",
        "outputId": "d86724ee-dd74-4644-b939-4a70b6592b03",
        "colab": {
          "base_uri": "https://localhost:8080/",
          "height": 442
        }
      },
      "cell_type": "code",
      "source": [
        "model.summary()"
      ],
      "execution_count": 55,
      "outputs": [
        {
          "output_type": "stream",
          "text": [
            "_________________________________________________________________\n",
            "Layer (type)                 Output Shape              Param #   \n",
            "=================================================================\n",
            "conv2d_9 (Conv2D)            (None, 26, 26, 64)        640       \n",
            "_________________________________________________________________\n",
            "max_pooling2d_9 (MaxPooling2 (None, 13, 13, 64)        0         \n",
            "_________________________________________________________________\n",
            "conv2d_10 (Conv2D)           (None, 11, 11, 64)        36928     \n",
            "_________________________________________________________________\n",
            "max_pooling2d_10 (MaxPooling (None, 5, 5, 64)          0         \n",
            "_________________________________________________________________\n",
            "dropout_9 (Dropout)          (None, 5, 5, 64)          0         \n",
            "_________________________________________________________________\n",
            "flatten_5 (Flatten)          (None, 1600)              0         \n",
            "_________________________________________________________________\n",
            "dense_9 (Dense)              (None, 64)                102464    \n",
            "_________________________________________________________________\n",
            "dropout_10 (Dropout)         (None, 64)                0         \n",
            "_________________________________________________________________\n",
            "dense_10 (Dense)             (None, 10)                650       \n",
            "=================================================================\n",
            "Total params: 140,682\n",
            "Trainable params: 140,682\n",
            "Non-trainable params: 0\n",
            "_________________________________________________________________\n"
          ],
          "name": "stdout"
        }
      ]
    },
    {
      "metadata": {
        "id": "__jpfGmphFPK",
        "colab_type": "code",
        "outputId": "80440b8f-0111-43a5-ab48-58484c1fc7d4",
        "colab": {
          "base_uri": "https://localhost:8080/",
          "height": 530
        }
      },
      "cell_type": "code",
      "source": [
        "test_mae = []\n",
        "test_accu = []\n",
        "\n",
        "val_loss = []\n",
        "val_accu = []\n",
        "val_mae = []\n",
        "\n",
        "train_loss = []\n",
        "train_accu = []\n",
        "train_mae = []\n",
        "\n",
        "for i in range(EPOCHS):\n",
        "  \n",
        "  history = model.fit(X_train_reshaped, y_train,\n",
        "            batch_size=BATCH_SIZE,\n",
        "            epochs=1,\n",
        "            validation_data=(X_valid_reshaped, y_valid))\n",
        "  \n",
        "  train_loss.append(history.history['loss'])\n",
        "  train_accu.append(history.history['acc'])\n",
        "  train_mae.append(history.history['mean_absolute_error'])\n",
        "  \n",
        "  val_loss.append(history.history['val_loss'])\n",
        "  val_accu.append(history.history['val_acc'])\n",
        "  val_mae.append(history.history['val_mean_absolute_error'])\n",
        "  \n",
        "  eval_ = model.evaluate(X_test_reshaped, y_test, batch_size=BATCH_SIZE)\n",
        "  \n",
        "  test_mae.append(eval_[1])\n",
        "  test_accu.append(eval_[2])\n",
        "  \n",
        "  #early stopping using validation set\n",
        "  if val_loss[i] > val_loss[i-1]:\n",
        "    print(\"Early stopping at %d epochs\"%i)\n",
        "    break\n",
        "  \n",
        "  "
      ],
      "execution_count": 56,
      "outputs": [
        {
          "output_type": "stream",
          "text": [
            "Train on 50000 samples, validate on 10000 samples\n",
            "Epoch 1/1\n",
            "50000/50000 [==============================] - 9s 184us/step - loss: 0.3247 - mean_absolute_error: 0.0314 - acc: 0.8991 - val_loss: 0.0653 - val_mean_absolute_error: 0.0058 - val_acc: 0.9818\n",
            "10000/10000 [==============================] - 1s 69us/step\n",
            "Train on 50000 samples, validate on 10000 samples\n",
            "Epoch 1/1\n",
            "50000/50000 [==============================] - 9s 173us/step - loss: 0.1370 - mean_absolute_error: 0.0134 - acc: 0.9588 - val_loss: 0.0505 - val_mean_absolute_error: 0.0044 - val_acc: 0.9854\n",
            "10000/10000 [==============================] - 1s 69us/step\n",
            "Train on 50000 samples, validate on 10000 samples\n",
            "Epoch 1/1\n",
            "50000/50000 [==============================] - 9s 185us/step - loss: 0.1050 - mean_absolute_error: 0.0102 - acc: 0.9685 - val_loss: 0.0441 - val_mean_absolute_error: 0.0036 - val_acc: 0.9870\n",
            "10000/10000 [==============================] - 1s 79us/step\n",
            "Train on 50000 samples, validate on 10000 samples\n",
            "Epoch 1/1\n",
            "50000/50000 [==============================] - 9s 176us/step - loss: 0.0907 - mean_absolute_error: 0.0088 - acc: 0.9726 - val_loss: 0.0425 - val_mean_absolute_error: 0.0028 - val_acc: 0.9889\n",
            "10000/10000 [==============================] - 1s 68us/step\n",
            "Train on 50000 samples, validate on 10000 samples\n",
            "Epoch 1/1\n",
            "50000/50000 [==============================] - 9s 170us/step - loss: 0.0773 - mean_absolute_error: 0.0074 - acc: 0.9764 - val_loss: 0.0372 - val_mean_absolute_error: 0.0028 - val_acc: 0.9902\n",
            "10000/10000 [==============================] - 1s 71us/step\n",
            "Train on 50000 samples, validate on 10000 samples\n",
            "Epoch 1/1\n",
            "50000/50000 [==============================] - 8s 169us/step - loss: 0.0730 - mean_absolute_error: 0.0069 - acc: 0.9780 - val_loss: 0.0361 - val_mean_absolute_error: 0.0027 - val_acc: 0.9898\n",
            "10000/10000 [==============================] - 1s 68us/step\n",
            "Train on 50000 samples, validate on 10000 samples\n",
            "Epoch 1/1\n",
            "50000/50000 [==============================] - 9s 170us/step - loss: 0.0669 - mean_absolute_error: 0.0065 - acc: 0.9792 - val_loss: 0.0368 - val_mean_absolute_error: 0.0025 - val_acc: 0.9905\n",
            "10000/10000 [==============================] - 1s 68us/step\n",
            "Early stopping at 6 epochs\n"
          ],
          "name": "stdout"
        }
      ]
    },
    {
      "metadata": {
        "id": "-zhF6HJWg4mV",
        "colab_type": "code",
        "outputId": "400b3b1f-bf6d-4742-e75b-5c0cc43b762b",
        "colab": {
          "base_uri": "https://localhost:8080/",
          "height": 851
        }
      },
      "cell_type": "code",
      "source": [
        "#Required plots\n",
        "\n",
        "#  \"Accuracy\"\n",
        "plt.plot(train_accu)\n",
        "plt.plot(val_accu)\n",
        "plt.plot(test_accu)\n",
        "plt.title('model accuracy')\n",
        "plt.ylabel('accuracy')\n",
        "plt.xlabel('epoch')\n",
        "plt.legend(['train', 'validation', 'test'])\n",
        "plt.show()\n",
        "# \"Loss\"\n",
        "plt.plot(train_loss)\n",
        "plt.plot(val_loss)\n",
        "plt.title('model loss')\n",
        "plt.ylabel('loss')\n",
        "plt.xlabel('epoch')\n",
        "plt.legend(['train', 'validation'])\n",
        "plt.show()\n",
        "#  \"Mean Absolute Error\"\n",
        "plt.plot(train_mae)\n",
        "plt.plot(val_mae)\n",
        "plt.plot(test_mae)\n",
        "plt.title('model Mean Absolute Error')\n",
        "plt.ylabel('Mean Absolute Error')\n",
        "plt.xlabel('epoch')\n",
        "plt.legend(['train', 'validation', 'test'])\n",
        "plt.show()"
      ],
      "execution_count": 57,
      "outputs": [
        {
          "output_type": "display_data",
          "data": {
            "image/png": "[encoded data removed]",
            "text/plain": [
              "<Figure size 432x288 with 1 Axes>"
            ]
          },
          "metadata": {
            "tags": []
          }
        },
        {
          "output_type": "display_data",
          "data": {
            "image/png": "[encoded data removed]",
            "text/plain": [
              "<Figure size 432x288 with 1 Axes>"
            ]
          },
          "metadata": {
            "tags": []
          }
        },
        {
          "output_type": "display_data",
          "data": {
            "image/png": "[encoded data removed]",
            "text/plain": [
              "<Figure size 432x288 with 1 Axes>"
            ]
          },
          "metadata": {
            "tags": []
          }
        }
      ]
    },
    {
      "metadata": {
        "id": "NUlmD8NVhH7L",
        "colab_type": "code",
        "outputId": "e333b9ab-075a-4955-d9fd-09aeeba4102e",
        "colab": {
          "base_uri": "https://localhost:8080/",
          "height": 51
        }
      },
      "cell_type": "code",
      "source": [
        "print(\"Best validation accuracy:\", max(val_accu)[0]*100,\"%\")\n",
        "print(\"Best test accuracy:\", max(test_accu)*100,\"%\")"
      ],
      "execution_count": 58,
      "outputs": [
        {
          "output_type": "stream",
          "text": [
            "Best validation accuracy: 99.05000000000001 %\n",
            "Best test accuracy: 99.11 %\n"
          ],
          "name": "stdout"
        }
      ]
    },
    {
      "metadata": {
        "id": "pzY-WmmcNPXh",
        "colab_type": "text"
      },
      "cell_type": "markdown",
      "source": [
        "### Parameter choices\n",
        "\n",
        "- I chose number of filters as 64, filter size as 3 by 3  and batch size=32.\n",
        "\n",
        "- Here we have 10 different classes. So, I decided to go with less number of filters , which will decide the number of neurons for layer before output layer.\n",
        "\n",
        "- I chose standard window size of 3x3, because we are not dealing with complex features which require bigger filters to grab finer details.\n",
        "\n",
        "- 32 is the standard size for most of the DL models.\n",
        "\n",
        "\n",
        "### Observations\n",
        "- CNN with two convolutional layers and two dropout layers seems to work very well for given mnist dataset.\n",
        "- Dropout helped in avoiding overfitting as well as it reduced learning step size of the model.\n",
        "-  From plots, we can notice that CNN is learning most the features of dataset just after first epoch itself\n",
        "\n",
        "### Effect of Pooling\n",
        "- I believe, pooling makes model less sensitive to small changes in the input images. Pooling feature makes CNN more robust.\n",
        "- Most the times we use Max pooling, which will only extract the features having maximum values.\n",
        "- So, even if we rotate image or do other small changes in the image, CNN will still be able to learn its features regardless of rotation."
      ]
    },
    {
      "metadata": {
        "id": "GqlPg182vnP3",
        "colab_type": "code",
        "colab": {}
      },
      "cell_type": "code",
      "source": [
        ""
      ],
      "execution_count": 0,
      "outputs": []
    }
  ]
}