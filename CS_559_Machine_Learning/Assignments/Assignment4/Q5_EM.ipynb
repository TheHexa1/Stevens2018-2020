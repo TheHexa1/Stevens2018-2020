{
  "nbformat": 4,
  "nbformat_minor": 0,
  "metadata": {
    "colab": {
      "name": "Q5_EM.ipynb",
      "version": "0.3.2",
      "provenance": [],
      "collapsed_sections": []
    },
    "kernelspec": {
      "name": "python3",
      "display_name": "Python 3"
    }
  },
  "cells": [
    {
      "metadata": {
        "id": "ftCt5ElYOe1H",
        "colab_type": "code",
        "colab": {}
      },
      "cell_type": "code",
      "source": [
        "import numpy as np\n",
        "import pandas as pd\n",
        "from scipy.stats import multivariate_normal"
      ],
      "execution_count": 0,
      "outputs": []
    },
    {
      "metadata": {
        "id": "7QhgZHyzbFcH",
        "colab_type": "code",
        "colab": {}
      },
      "cell_type": "code",
      "source": [
        "#preprocessing data\n",
        "with open('multigauss.txt') as f:\n",
        "  data = f.readlines()  \n",
        "  data_matrix = [line.strip().split(\" \") for line in data[4:]]\n",
        "  f.close()\n",
        "data_matrix = np.array([[float(x) for x in line] for line in data_matrix])"
      ],
      "execution_count": 0,
      "outputs": []
    },
    {
      "metadata": {
        "id": "LPoLPyr4bKbS",
        "colab_type": "code",
        "outputId": "b968eddf-2263-4df3-b370-f1e05fbdf9f2",
        "colab": {
          "base_uri": "https://localhost:8080/",
          "height": 136
        }
      },
      "cell_type": "code",
      "source": [
        "data_matrix"
      ],
      "execution_count": 3,
      "outputs": [
        {
          "output_type": "execute_result",
          "data": {
            "text/plain": [
              "array([[ 1.34397344,  0.15110434],\n",
              "       [ 0.96267177,  0.38278123],\n",
              "       [ 0.50232576, -0.1813927 ],\n",
              "       ...,\n",
              "       [-3.99595629,  3.21112544],\n",
              "       [-3.0057663 ,  1.7203983 ],\n",
              "       [-3.29047557,  0.73752212]])"
            ]
          },
          "metadata": {
            "tags": []
          },
          "execution_count": 3
        }
      ]
    },
    {
      "metadata": {
        "id": "A0wLOWIKeQlf",
        "colab_type": "code",
        "colab": {}
      },
      "cell_type": "code",
      "source": [
        "# number of training points\n",
        "n = data_matrix.shape[0]\n",
        "# number of features\n",
        "f = data_matrix.shape[1]\n",
        "# number of gaussians\n",
        "k = 5\n",
        "# training data\n",
        "X = data_matrix\n",
        "# membership weights\n",
        "w = np.random.rand(n, k)\n",
        "# gaussian prior probabilities\n",
        "_pi = np.random.rand(k, 1)\n",
        "# print(_pi)\n",
        "# cluster means\n",
        "_mu = np.random.rand(k, f)\n",
        "# covariance matrics\n",
        "_sigma = np.random.rand(f, f, k)\n"
      ],
      "execution_count": 0,
      "outputs": []
    },
    {
      "metadata": {
        "id": "__hFliE-Xxmr",
        "colab_type": "code",
        "colab": {}
      },
      "cell_type": "code",
      "source": [
        "#convert matrix to its positive semi definate\n",
        "def getPosSemiDefinite(m):\n",
        "  for i in range(k):\n",
        "    m[:,:,i] = np.dot(m[:,:,i], m[:,:,i].T)\n",
        "  return m"
      ],
      "execution_count": 0,
      "outputs": []
    },
    {
      "metadata": {
        "id": "5BhLFMPizR8F",
        "colab_type": "code",
        "colab": {}
      },
      "cell_type": "code",
      "source": [
        "_sigma = getPosSemiDefinite(_sigma)"
      ],
      "execution_count": 0,
      "outputs": []
    },
    {
      "metadata": {
        "id": "1BIxn1drhaxi",
        "colab_type": "code",
        "colab": {}
      },
      "cell_type": "code",
      "source": [
        "#E-step\n",
        "def Expectation(X, k, _pi, _mu, _sigma):\n",
        "  \n",
        "  total_multi_gauss = np.zeros((X.shape[0],))\n",
        "  \n",
        "  for i in range(k):\n",
        "    total_multi_gauss += (_pi[i]) * multivariate_normal(_mu[i, :], _sigma[:,:,i]).pdf(X)   \n",
        "  \n",
        "  for c in range(k):    \n",
        "    numer = _pi[c] * multivariate_normal(_mu[c, :], _sigma[:,:,c]).pdf(X)\n",
        "    denom = total_multi_gauss    \n",
        "    w[:, c] = numer / denom  \n",
        "    \n",
        "  return w\n",
        "  \n",
        "    \n",
        "# Expectation(X, k, _pi, _mu, _sigma)   \n"
      ],
      "execution_count": 0,
      "outputs": []
    },
    {
      "metadata": {
        "id": "C_9gxH3U_Ytn",
        "colab_type": "code",
        "colab": {}
      },
      "cell_type": "code",
      "source": [
        "def MaximizeMean(X, k, w):\n",
        "  \n",
        "  mu = np.random.rand(k, X.shape[1])\n",
        "  \n",
        "  for c in range(k):\n",
        "    total_w = np.sum(w[:,c])\n",
        "    \n",
        "    mu[c] = (1/total_w) * np.dot(w[:,c], X)\n",
        "    \n",
        "  return mu\n",
        "  \n",
        "# MaximizeMean(X, k, w)"
      ],
      "execution_count": 0,
      "outputs": []
    },
    {
      "metadata": {
        "id": "NoU74Zbj5isO",
        "colab_type": "code",
        "colab": {}
      },
      "cell_type": "code",
      "source": [
        "def MaximizeCovariance(X, k, w, _mu):\n",
        "  \n",
        "  sigma = np.zeros((f,f,k))\n",
        "  \n",
        "  \n",
        "  for c in range(k):\n",
        "    \n",
        "    total_w = np.sum(w[:,c])  \n",
        "    \n",
        "    sigma_i = np.zeros((X.shape[1], X.shape[1])) \n",
        "    \n",
        "    for i in range(X.shape[0]):\n",
        "      sigma_i += w[i,c] * ((X[i, :] - _mu[c,:]).reshape(2,1).T * (X[i, :] - _mu[c,:]).reshape(2,1))\n",
        "    \n",
        "    sigma[:,:,c] = ((1 / total_w) * sigma_i) \n",
        "    \n",
        "  return sigma\n",
        "\n",
        "# MaximizeCovariance(X, k, w, _mu)\n"
      ],
      "execution_count": 0,
      "outputs": []
    },
    {
      "metadata": {
        "id": "i9RAVfNmoJrS",
        "colab_type": "code",
        "colab": {}
      },
      "cell_type": "code",
      "source": [
        "def loglikelihood(X, k, _pi, _mu, _sigma):\n",
        "  \n",
        "  l = 0\n",
        "  \n",
        "  for i in range(X.shape[0]):\n",
        "    \n",
        "    total_ = 0\n",
        "  \n",
        "    for c in range(k):\n",
        "      total_ += (_pi[c]) * multivariate_normal(_mu[c, :], _sigma[:,:,c]).pdf(X[i, :]) \n",
        "    \n",
        "    l += np.log(total_)\n",
        "  \n",
        "  return l\n",
        "\n",
        "# loglikelihood(X, k, _pi, _mu, _sigma)[0]"
      ],
      "execution_count": 0,
      "outputs": []
    },
    {
      "metadata": {
        "id": "-yMmaCJfblTl",
        "colab_type": "code",
        "colab": {}
      },
      "cell_type": "code",
      "source": [
        "def MaximizeMixtures(k, w):\n",
        "  \n",
        "  pi = np.random.rand(k, 1)\n",
        "  \n",
        "  total_w = np.sum(w)\n",
        "    \n",
        "  for c in range(k):\n",
        "    \n",
        "    total_w_per_cluster = np.sum(w[:, c])\n",
        "    \n",
        "    pi[c] = total_w_per_cluster / total_w\n",
        "    \n",
        "  return pi\n",
        "\n",
        "\n",
        "# MaximizeMixtures(k ,w)\n",
        "    "
      ],
      "execution_count": 0,
      "outputs": []
    },
    {
      "metadata": {
        "id": "ZxnD3bEblViR",
        "colab_type": "code",
        "colab": {}
      },
      "cell_type": "code",
      "source": [
        "def EM(X, k, _pi, _mu, _sigma, nIter):  \n",
        "  \n",
        "  for i in range(nIter):\n",
        "      \n",
        "    w = Expectation(X, k, _pi, _mu, _sigma)\n",
        "    _pi = MaximizeMixtures(k, w)\n",
        "    _mu = MaximizeMean(X, k, w)\n",
        "    _sigma = MaximizeCovariance(X, k, w, _mu)\n",
        "    \n",
        "    ll = loglikelihood(X, k, _pi, _mu, _sigma)[0]\n",
        "    print('Iteration %d: log-likelihood is %.4f' % (i, ll) ) \n",
        "  \n",
        "  return _pi,_mu,_sigma"
      ],
      "execution_count": 0,
      "outputs": []
    },
    {
      "metadata": {
        "id": "h-UeDPO3q16z",
        "colab_type": "code",
        "outputId": "448f303b-e7fb-4a73-8743-7f65418c262f",
        "colab": {
          "base_uri": "https://localhost:8080/",
          "height": 1156
        }
      },
      "cell_type": "code",
      "source": [
        "# here niter=50, this can be reduced to terminate program earlier!\n",
        "EM(X, k, _pi, _mu, _sigma, 50)\n"
      ],
      "execution_count": 14,
      "outputs": [
        {
          "output_type": "stream",
          "text": [
            "Iteration 0: log-likelihood is -6122.1531\n",
            "Iteration 1: log-likelihood is -6091.1262\n",
            "Iteration 2: log-likelihood is -6072.9547\n",
            "Iteration 3: log-likelihood is -6055.7019\n",
            "Iteration 4: log-likelihood is -6037.2908\n",
            "Iteration 5: log-likelihood is -6010.8253\n",
            "Iteration 6: log-likelihood is -5970.3065\n",
            "Iteration 7: log-likelihood is -5921.6706\n",
            "Iteration 8: log-likelihood is -5875.0802\n",
            "Iteration 9: log-likelihood is -5831.5712\n",
            "Iteration 10: log-likelihood is -5787.4571\n",
            "Iteration 11: log-likelihood is -5742.4820\n",
            "Iteration 12: log-likelihood is -5700.5855\n",
            "Iteration 13: log-likelihood is -5662.2820\n",
            "Iteration 14: log-likelihood is -5634.9565\n",
            "Iteration 15: log-likelihood is -5618.1546\n",
            "Iteration 16: log-likelihood is -5608.3065\n",
            "Iteration 17: log-likelihood is -5601.5784\n",
            "Iteration 18: log-likelihood is -5596.5350\n",
            "Iteration 19: log-likelihood is -5592.8300\n",
            "Iteration 20: log-likelihood is -5590.3074\n",
            "Iteration 21: log-likelihood is -5588.7273\n",
            "Iteration 22: log-likelihood is -5587.7713\n",
            "Iteration 23: log-likelihood is -5587.1755\n",
            "Iteration 24: log-likelihood is -5586.7850\n",
            "Iteration 25: log-likelihood is -5586.5207\n",
            "Iteration 26: log-likelihood is -5586.3393\n",
            "Iteration 27: log-likelihood is -5586.2134\n",
            "Iteration 28: log-likelihood is -5586.1246\n",
            "Iteration 29: log-likelihood is -5586.0602\n",
            "Iteration 30: log-likelihood is -5586.0119\n",
            "Iteration 31: log-likelihood is -5585.9740\n",
            "Iteration 32: log-likelihood is -5585.9431\n",
            "Iteration 33: log-likelihood is -5585.9170\n",
            "Iteration 34: log-likelihood is -5585.8943\n",
            "Iteration 35: log-likelihood is -5585.8742\n",
            "Iteration 36: log-likelihood is -5585.8560\n",
            "Iteration 37: log-likelihood is -5585.8395\n",
            "Iteration 38: log-likelihood is -5585.8245\n",
            "Iteration 39: log-likelihood is -5585.8107\n",
            "Iteration 40: log-likelihood is -5585.7981\n",
            "Iteration 41: log-likelihood is -5585.7866\n",
            "Iteration 42: log-likelihood is -5585.7760\n",
            "Iteration 43: log-likelihood is -5585.7663\n",
            "Iteration 44: log-likelihood is -5585.7574\n",
            "Iteration 45: log-likelihood is -5585.7492\n",
            "Iteration 46: log-likelihood is -5585.7417\n",
            "Iteration 47: log-likelihood is -5585.7348\n",
            "Iteration 48: log-likelihood is -5585.7285\n",
            "Iteration 49: log-likelihood is -5585.7226\n"
          ],
          "name": "stdout"
        },
        {
          "output_type": "execute_result",
          "data": {
            "text/plain": [
              "(array([[0.11393141],\n",
              "        [0.08841957],\n",
              "        [0.59649165],\n",
              "        [0.19279881],\n",
              "        [0.00835856]]), array([[-3.59328884, -2.89412049],\n",
              "        [-2.52194478, -3.12403604],\n",
              "        [-0.11529306, -0.00490964],\n",
              "        [ 2.90574997,  3.05267189],\n",
              "        [ 0.61177165,  0.2632155 ]]), array([[[ 0.69778146,  0.52944496,  6.97989947,  0.84555673,\n",
              "           0.27790253],\n",
              "         [ 0.10337431,  0.06083227, -6.03488331, -0.06345865,\n",
              "           0.1010081 ]],\n",
              " \n",
              "        [[ 0.10337431,  0.06083227, -6.03488331, -0.06345865,\n",
              "           0.1010081 ],\n",
              "         [ 1.01683665,  0.96704092,  7.03430667,  0.84921123,\n",
              "           0.03774358]]]))"
            ]
          },
          "metadata": {
            "tags": []
          },
          "execution_count": 14
        }
      ]
    },
    {
      "metadata": {
        "id": "OJpIvbcRq5ib",
        "colab_type": "code",
        "colab": {}
      },
      "cell_type": "code",
      "source": [
        ""
      ],
      "execution_count": 0,
      "outputs": []
    }
  ]
}