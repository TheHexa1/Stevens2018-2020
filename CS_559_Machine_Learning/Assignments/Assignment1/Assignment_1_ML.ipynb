{
  "nbformat": 4,
  "nbformat_minor": 0,
  "metadata": {
    "colab": {
      "name": "Assignment_1_ML.ipynb",
      "version": "0.3.2",
      "provenance": [],
      "collapsed_sections": []
    },
    "kernelspec": {
      "name": "python3",
      "display_name": "Python 3"
    }
  },
  "cells": [
    {
      "metadata": {
        "id": "9u5QhFx5vJKE",
        "colab_type": "code",
        "colab": {}
      },
      "cell_type": "code",
      "source": [
        "import pandas as pd\n",
        "from sklearn.metrics import mean_squared_error\n",
        "from sklearn.model_selection import KFold\n",
        "from sklearn import linear_model\n",
        "from sklearn.model_selection import train_test_split"
      ],
      "execution_count": 0,
      "outputs": []
    },
    {
      "metadata": {
        "id": "EM366ZOy3jBq",
        "colab_type": "code",
        "outputId": "48ca97d0-a2fb-4989-fae5-b34464502f3c",
        "colab": {
          "base_uri": "https://localhost:8080/",
          "height": 255
        }
      },
      "cell_type": "code",
      "source": [
        "df_hour = pd.read_csv('hour.csv')\n",
        "\n",
        "print(df_hour.columns)\n",
        "print('\\n')\n",
        "\n",
        "# feature selection\n",
        "df_hour_X = df_hour[['season', 'mnth', 'hr', 'workingday', 'weathersit', 'temp', 'hum', 'windspeed']]\n",
        "df_hour_y = df_hour['cnt']\n",
        "\n",
        "print(df_hour_X.head())\n",
        "print('\\n')"
      ],
      "execution_count": 2,
      "outputs": [
        {
          "output_type": "stream",
          "text": [
            "Index(['instant', 'dteday', 'season', 'yr', 'mnth', 'hr', 'holiday', 'weekday',\n",
            "       'workingday', 'weathersit', 'temp', 'atemp', 'hum', 'windspeed',\n",
            "       'casual', 'registered', 'cnt'],\n",
            "      dtype='object')\n",
            "\n",
            "\n",
            "   season  mnth  hr  workingday  weathersit  temp   hum  windspeed\n",
            "0       1     1   0           0           1  0.24  0.81        0.0\n",
            "1       1     1   1           0           1  0.22  0.80        0.0\n",
            "2       1     1   2           0           1  0.22  0.80        0.0\n",
            "3       1     1   3           0           1  0.24  0.75        0.0\n",
            "4       1     1   4           0           1  0.24  0.75        0.0\n",
            "\n",
            "\n"
          ],
          "name": "stdout"
        }
      ]
    },
    {
      "metadata": {
        "id": "Thj7JpcU4BlI",
        "colab_type": "code",
        "colab": {}
      },
      "cell_type": "code",
      "source": [
        "# splitting hour data in training and testing sets\n",
        "hour_X_train, hour_X_test, hour_y_train, hour_y_test = train_test_split(df_hour_X, df_hour_y)"
      ],
      "execution_count": 0,
      "outputs": []
    },
    {
      "metadata": {
        "id": "XclenCiA8jKA",
        "colab_type": "code",
        "outputId": "9cdf6321-961f-41f2-b30e-8f65fbc38c7f",
        "colab": {
          "base_uri": "https://localhost:8080/",
          "height": 119
        }
      },
      "cell_type": "code",
      "source": [
        "# hour dataset - without Kfold cross validation\n",
        "\n",
        "# Lasso regression\n",
        "l_reg = linear_model.Lasso(alpha=0.1)\n",
        "l_reg.fit(hour_X_train, hour_y_train)\n",
        "\n",
        "hour_l_predictions = l_reg.predict(hour_X_test)\n",
        "print(\"Lasso Regression MSE on hour dataset: %f\" % mean_squared_error(hour_y_test, hour_l_predictions))\n",
        "\n",
        "# Ridge regression\n",
        "r_reg = linear_model.Ridge(alpha=0.5)\n",
        "r_reg.fit(hour_X_train, hour_y_train)\n",
        "\n",
        "hour_r_predictions = r_reg.predict(hour_X_test)\n",
        "print(\"Ridge Regression MSE on hour dataset: %f\" % mean_squared_error(hour_y_test, hour_r_predictions))\n",
        "print(\"Ridge coefficients: \", r_reg.coef_)\n",
        "print('\\n')"
      ],
      "execution_count": 4,
      "outputs": [
        {
          "output_type": "stream",
          "text": [
            "Lasso Regression MSE on hour dataset: 22606.560105\n",
            "Ridge Regression MSE on hour dataset: 22597.456105\n",
            "ridge coefficients:  [ 1.93280298e+01  3.48284584e-02  7.56623692e+00  5.08977421e+00\n",
            "  1.15437031e-01  2.96375084e+02 -2.17946784e+02  7.44291574e+00]\n",
            "\n",
            "\n"
          ],
          "name": "stdout"
        }
      ]
    },
    {
      "metadata": {
        "id": "SUckh-G59kBh",
        "colab_type": "code",
        "outputId": "621983a4-b165-4c31-e943-13392901ac32",
        "colab": {
          "base_uri": "https://localhost:8080/",
          "height": 697
        }
      },
      "cell_type": "code",
      "source": [
        "# Applying KFold cross validation with K=10\n",
        "kf = KFold(n_splits=10)\n",
        "\n",
        "for train, test in kf.split(df_hour_X):\n",
        "  hour_X_train, hour_X_test = df_hour_X.iloc[train], df_hour_X.iloc[test]\n",
        "  hour_y_train, hour_y_test = df_hour_y.iloc[train], df_hour_y.iloc[test]\n",
        "  \n",
        "  # Lasso regression\n",
        "  l_reg = linear_model.Lasso(alpha=0.1)\n",
        "  l_reg.fit(hour_X_train, hour_y_train)\n",
        "\n",
        "  hour_l_predictions = l_reg.predict(hour_X_test)\n",
        "  print(\"Lasso Regression MSE on hour dataset: %f\" % mean_squared_error(hour_y_test, hour_l_predictions))\n",
        "\n",
        "  # Ridge regression\n",
        "  r_reg = linear_model.Ridge(alpha=0.5)\n",
        "  r_reg.fit(hour_X_train, hour_y_train)\n",
        "\n",
        "  hour_r_predictions = r_reg.predict(hour_X_test)\n",
        "  print(\"Ridge Regression MSE on hour dataset: %f\" % mean_squared_error(hour_y_test, hour_r_predictions))\n",
        "  print('\\n')  "
      ],
      "execution_count": 7,
      "outputs": [
        {
          "output_type": "stream",
          "text": [
            "Lasso Regression MSE on hour dataset: 11183.715527\n",
            "Ridge Regression MSE on hour dataset: 11174.003943\n",
            "\n",
            "\n",
            "Lasso Regression MSE on hour dataset: 11589.548894\n",
            "Ridge Regression MSE on hour dataset: 11604.182375\n",
            "\n",
            "\n",
            "Lasso Regression MSE on hour dataset: 24992.733207\n",
            "Ridge Regression MSE on hour dataset: 25171.491325\n",
            "\n",
            "\n",
            "Lasso Regression MSE on hour dataset: 16254.678310\n",
            "Ridge Regression MSE on hour dataset: 16258.456204\n",
            "\n",
            "\n",
            "Lasso Regression MSE on hour dataset: 12859.541993\n",
            "Ridge Regression MSE on hour dataset: 12816.065516\n",
            "\n",
            "\n",
            "Lasso Regression MSE on hour dataset: 17338.029614\n",
            "Ridge Regression MSE on hour dataset: 17412.233133\n",
            "\n",
            "\n",
            "Lasso Regression MSE on hour dataset: 35951.613328\n",
            "Ridge Regression MSE on hour dataset: 35925.332524\n",
            "\n",
            "\n",
            "Lasso Regression MSE on hour dataset: 33695.769239\n",
            "Ridge Regression MSE on hour dataset: 33633.476928\n",
            "\n",
            "\n",
            "Lasso Regression MSE on hour dataset: 45870.249547\n",
            "Ridge Regression MSE on hour dataset: 45766.028528\n",
            "\n",
            "\n",
            "Lasso Regression MSE on hour dataset: 28029.165784\n",
            "Ridge Regression MSE on hour dataset: 28070.004082\n",
            "\n",
            "\n"
          ],
          "name": "stdout"
        }
      ]
    },
    {
      "metadata": {
        "id": "lAOvd3vBkStk",
        "colab_type": "code",
        "colab": {}
      },
      "cell_type": "code",
      "source": [
        ""
      ],
      "execution_count": 0,
      "outputs": []
    }
  ]
}