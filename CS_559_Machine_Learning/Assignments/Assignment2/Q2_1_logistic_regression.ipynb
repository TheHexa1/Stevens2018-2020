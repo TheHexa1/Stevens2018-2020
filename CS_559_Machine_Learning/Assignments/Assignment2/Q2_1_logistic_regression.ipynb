{
  "nbformat": 4,
  "nbformat_minor": 0,
  "metadata": {
    "colab": {
      "name": "Q2_1_logistic_regression.ipynb",
      "version": "0.3.2",
      "provenance": [],
      "collapsed_sections": []
    },
    "kernelspec": {
      "name": "python3",
      "display_name": "Python 3"
    }
  },
  "cells": [
    {
      "metadata": {
        "id": "8at_JfzIiNAI",
        "colab_type": "text"
      },
      "cell_type": "markdown",
      "source": [
        "## 1-Logistic regression classifier"
      ]
    },
    {
      "metadata": {
        "id": "xnfdL_IigL3o",
        "colab_type": "code",
        "colab": {}
      },
      "cell_type": "code",
      "source": [
        "import pandas as pd\n",
        "import numpy as np\n",
        "from random import randrange"
      ],
      "execution_count": 0,
      "outputs": []
    },
    {
      "metadata": {
        "id": "z02n2RubibS7",
        "colab_type": "code",
        "colab": {}
      },
      "cell_type": "code",
      "source": [
        "df_breast_cancer = pd.read_csv(\"breast-cancer-wisconsin.data.txt\", header=None)\n",
        "df_breast_cancer.replace('?',np.nan, inplace=True)\n",
        "\n",
        "df_breast_cancer.isnull().any(axis=1)\n",
        "df_breast_cancer.dropna(axis=0, inplace=True)\n",
        "df_breast_cancer.reset_index(inplace=True)"
      ],
      "execution_count": 0,
      "outputs": []
    },
    {
      "metadata": {
        "id": "wdFc6OJL-TnX",
        "colab_type": "code",
        "colab": {}
      },
      "cell_type": "code",
      "source": [
        "y = df_breast_cancer[10]\n",
        "df_breast_cancer = df_breast_cancer[[1,2,3,4,5,6,7,8,9,10]]\n",
        "# print(df_breast_cancer)"
      ],
      "execution_count": 0,
      "outputs": []
    },
    {
      "metadata": {
        "id": "XtekBvzPWQsg",
        "colab_type": "code",
        "colab": {}
      },
      "cell_type": "code",
      "source": [
        "#positive:1 or 4, negative: 0 or 2\n",
        "def get_values(actual, predicted):\n",
        "  tp = tn = fp = fn = p = 0\n",
        "#   print(len(actual))\n",
        "#   print(len(predicted))\n",
        "  for a in actual:\n",
        "    if a == 0.0 and predicted[p] == 0.0:\n",
        "      tn += 1\n",
        "    elif a == 1.0 and predicted[p] == 1.0:  \n",
        "      tp += 1\n",
        "    elif a == 1.0 and predicted[p] == 0.0:\n",
        "      fn += 1\n",
        "    elif a == 0.0 and predicted[p] == 1.0:\n",
        "      fp += 1   \n",
        "      \n",
        "    p += 1\n",
        "  \n",
        "  return tp, tn, fp, fn\n",
        "\n",
        "def precision(tp, tn, fp):\n",
        "  return (tp / (tp+fp) if (tp+fp) else 1) * 100\n",
        "  \n",
        "  \n",
        "def recall(tp, tn, fn):\n",
        "  return (tp / (tp+fn) if (tp+fn) else 1) * 100\n",
        "  \n",
        "  \n",
        "def accuracy(tp, tn, fp, fn):\n",
        "  return ((tp+tn) /(tp+tn+fp+fn)) * 100"
      ],
      "execution_count": 0,
      "outputs": []
    },
    {
      "metadata": {
        "id": "fgxKFBjw-m4s",
        "colab_type": "code",
        "outputId": "0504b176-1267-4cc5-dfea-6046e19a7a71",
        "colab": {
          "base_uri": "https://localhost:8080/",
          "height": 107
        }
      },
      "cell_type": "code",
      "source": [
        "# Split a dataset into k folds\n",
        "def cross_validation_split(dataset, n_folds):\n",
        "\tdataset_split = []\n",
        "\tdataset_copy = list(dataset)\n",
        "\tfold_size = int(len(dataset) / n_folds)\n",
        "\tfor i in range(n_folds):\n",
        "\t\tfold = list()\n",
        "\t\twhile len(fold) < fold_size:\n",
        "\t\t\tindex = randrange(len(dataset_copy))\n",
        "\t\t\tfold.append(dataset_copy.pop(index))\n",
        "\t\tdataset_split.append(fold)\n",
        "\treturn dataset_split\n",
        "\n",
        "def accuracy_metric(actual, predicted):\n",
        "  correct = 0\n",
        "#   print(predicted)\n",
        "  for i in range(len(actual)):\n",
        "    if actual[i] == predicted[i]:\n",
        "      correct += 1\n",
        "  return correct / float(len(actual)) * 100.0\n",
        " \n",
        "# Evaluate an algorithm using a cross validation \n",
        "def evaluate_algorithm(dataset, algorithm, n_folds, *args):\n",
        "  folds = cross_validation_split(dataset, n_folds)\n",
        "  scores = {}\n",
        "  accuracy_ls = []\n",
        "  precision_ls = []\n",
        "  recall_ls = []\n",
        "\n",
        "  for fold in folds:\n",
        "    train_set = list(folds)\n",
        "    train_set.remove(fold)\n",
        "    train_set = sum(train_set, [])\n",
        "    test_set = list()\n",
        "    for row in fold:\n",
        "      row_copy = list(row)\n",
        "      test_set.append(row_copy)\n",
        "    predicted = algorithm(train_set, test_set, *args)\n",
        "    actual = [row[-1] for row in fold]\n",
        "    \n",
        "    tp, tn, fp, fn = get_values(actual, predicted)\n",
        "    accuracy_ = accuracy(tp, tn, fp, fn)\n",
        "    precision_ = precision(tp, tn, fp)\n",
        "    recall_ = recall(tp, tn, fn)\n",
        "    accuracy_ls.append(accuracy_)\n",
        "    precision_ls.append(precision_)\n",
        "    recall_ls.append(recall_)\n",
        "  scores[\"Accuracy\"] = accuracy_ls\n",
        "  scores[\"Precision\"] = precision_ls\n",
        "  scores[\"Recall\"] = recall_ls\n",
        "  return scores\n",
        "\n",
        "def predict(row, coefficients):\n",
        "  f = coefficients[0]\n",
        "  for i in range(len(row)-1):\n",
        "    f += coefficients[i + 1] * int(row[i])  \n",
        "  return 1.0 / (1.0 + np.exp(-f))\n",
        " \n",
        "# Estimate logistic regression coefficients using stochastic gradient descent\n",
        "def SGD_coeffs(train, learning_rate, n_epoch):\n",
        "\tcoef = [0.0 for i in range(len(train[0]))]\n",
        "\tfor epoch in range(n_epoch):\n",
        "\t\tfor row in train:\n",
        "\t\t\tf = predict(row, coef)\n",
        "\t\t\tloss =  f - row[-1]\n",
        "\t\t\tcoef[0] = coef[0] - learning_rate * loss * f * (1.0 - f)\n",
        "\t\t\tfor i in range(len(row)-1):\n",
        "\t\t\t\tcoef[i + 1] = coef[i + 1] - learning_rate * loss * f * (1.0 - f) * int(row[i])\n",
        "\treturn coef\n",
        "\n",
        "# MiniBatch Gradient Descent - finding coefficients\n",
        "def MBGD_coeffs(train, learning_rate, n_epoch):\n",
        "  coef = [0.0 for i in range(len(train[0]))]\n",
        "  for epoch in range(n_epoch):    \n",
        "    np.random.shuffle(train)    \n",
        "    \n",
        "    #taking batch size as 32\n",
        "    batch = train[:32]  \n",
        "      \n",
        "    for data in batch:\n",
        "      f = predict(data, coef)\n",
        "      loss = f - data[-1]\n",
        "      coef[0] = coef[0] - learning_rate * loss * f * (1.0 - f)\n",
        "      for i in range(len(data)-1):\n",
        "        coef[i + 1] = coef[i + 1] - learning_rate * loss * f * (1.0 - f) * int(data[i])    \n",
        "   \n",
        "  return coef\n",
        " \n",
        "# Logistic Regression Classifier using MiniBatch Gradient Descent\n",
        "def logistic_regression_mbgd(train, test, learning_rate, n_epoch):\n",
        "  predictions = []\n",
        "  coef = MBGD_coeffs(train, learning_rate, n_epoch)\n",
        "  for data in test:\n",
        "    f = predict(data, coef)\n",
        "    f = round(f)\n",
        "    predictions.append(f)\n",
        "  return(predictions)\n",
        "\n",
        "# Logistic Regression Algorithm With Stochastic Gradient Descent\n",
        "def logistic_regression_sgd(train, test, learning_rate, n_epoch):\n",
        "  predictions = list()\n",
        "  coef = SGD_coeffs(train, learning_rate, n_epoch)\n",
        "  for row in test:\n",
        "    f = predict(row, coef)\n",
        "    f = round(f)\n",
        "    predictions.append(f)\n",
        "  return(predictions)\n",
        "\n",
        "# Convert string column to float\n",
        "def str_column_to_float(dataset, column):\n",
        "\tfor row in dataset:\n",
        "\t\trow[column] = float(row[column])\n",
        "    \n",
        "def normalize_dataset(dataset):\n",
        "  minmax = list()\n",
        "  for i in range(len(dataset[0])):\n",
        "    col_values = [row[i] for row in dataset]\n",
        "    value_min = min(col_values)\n",
        "    value_max = max(col_values)\n",
        "    minmax.append([value_min, value_max])\n",
        "  for row in dataset:\n",
        "    for i in range(len(row)):\n",
        "      row[i] = (row[i] - minmax[i][0]) / (minmax[i][1] - minmax[i][0])\n",
        "    \n",
        "#evaluation: \n",
        "\n",
        "dataset = df_breast_cancer.values.tolist()\n",
        "\n",
        "for i in range(len(dataset[0])):\n",
        "\tstr_column_to_float(dataset, i)\n",
        "  \n",
        "# normalize\n",
        "normalize_dataset(dataset)\n",
        "\n",
        "n_folds = 5\n",
        "learning_rate = 0.1\n",
        "n_epoch = 100\n",
        "\n",
        "scores = evaluate_algorithm(dataset, logistic_regression_mbgd, n_folds, learning_rate, n_epoch)\n",
        "print(\"MiniBatch:\")\n",
        "print(\"scores:%s\"%scores)\n",
        "\n",
        "scores = evaluate_algorithm(dataset, logistic_regression_sgd, n_folds, learning_rate, n_epoch)\n",
        "print(\"SGD:\")\n",
        "print('Scores: %s' % scores)"
      ],
      "execution_count": 30,
      "outputs": [
        {
          "output_type": "stream",
          "text": [
            "MiniBatch:\n",
            "scores:{'Accuracy': [90.44117647058823, 93.38235294117648, 93.38235294117648, 91.17647058823529, 89.70588235294117], 'Precision': [100.0, 100.0, 100.0, 97.22222222222221, 94.44444444444444], 'Recall': [74.0, 83.01886792452831, 79.06976744186046, 76.08695652173914, 73.91304347826086]}\n",
            "SGD:\n",
            "Scores: {'Accuracy': [95.58823529411765, 93.38235294117648, 94.11764705882352, 93.38235294117648, 90.44117647058823], 'Precision': [97.72727272727273, 97.77777777777777, 94.5945945945946, 97.36842105263158, 100.0], 'Recall': [89.58333333333334, 84.61538461538461, 85.36585365853658, 82.22222222222221, 74.50980392156863]}\n"
          ],
          "name": "stdout"
        }
      ]
    },
    {
      "metadata": {
        "id": "9wZsdFRvgbEo",
        "colab_type": "code",
        "colab": {}
      },
      "cell_type": "code",
      "source": [
        ""
      ],
      "execution_count": 0,
      "outputs": []
    }
  ]
}