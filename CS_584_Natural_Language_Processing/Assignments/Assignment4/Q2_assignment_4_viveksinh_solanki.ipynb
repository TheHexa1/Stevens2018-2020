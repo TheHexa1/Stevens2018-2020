{
 "cells": [
  {
   "cell_type": "code",
   "execution_count": 1,
   "metadata": {},
   "outputs": [
    {
     "name": "stderr",
     "output_type": "stream",
     "text": [
      "[nltk_data] Downloading package punkt to\n",
      "[nltk_data]     C:\\Users\\Dell\\AppData\\Roaming\\nltk_data...\n",
      "[nltk_data]   Package punkt is already up-to-date!\n",
      "[nltk_data] Downloading package stopwords to\n",
      "[nltk_data]     C:\\Users\\Dell\\AppData\\Roaming\\nltk_data...\n",
      "[nltk_data]   Package stopwords is already up-to-date!\n",
      "Using TensorFlow backend.\n"
     ]
    }
   ],
   "source": [
    "\"\"\"Dataset referene: \n",
    "Recursive Deep Models for Semantic Compositionality Over a Sentiment Treebank, Socher et al., \n",
    "Conference on Empirical Methods in Natural Language Processing (EMNLP, 2013).\"\"\"\n",
    "\n",
    "import pandas as pd\n",
    "import numpy as np\n",
    "from scipy import sparse\n",
    "import re\n",
    "import os\n",
    "import sys\n",
    "\n",
    "import nltk\n",
    "from nltk.corpus import stopwords\n",
    "nltk.download('punkt')\n",
    "nltk.download('stopwords')\n",
    "\n",
    "# import keras\n",
    "from tensorflow.keras.models import Sequential, Model\n",
    "from tensorflow.keras.layers import Dense, Dropout, Activation, Input, GlobalMaxPooling1D\n",
    "from tensorflow.keras.optimizers import SGD\n",
    "from tensorflow.keras.layers import Embedding\n",
    "from tensorflow.keras.layers import Conv1D, MaxPooling1D, Flatten\n",
    "from tensorflow.keras.preprocessing import sequence, text\n",
    "from tensorflow.keras.initializers import Constant\n",
    "from tensorflow.keras.callbacks import EarlyStopping\n",
    "from keras.utils import np_utils"
   ]
  },
  {
   "cell_type": "code",
   "execution_count": 91,
   "metadata": {},
   "outputs": [],
   "source": [
    "# preprocess given documents\n",
    "def preprocess_data(data):\n",
    "\n",
    "    # replace unnecessary characters with space\n",
    "    s = re.sub(r\"\\\\n\", \" \", str(data).lower())\n",
    "    s = re.sub(r\":\", \"\", s) \n",
    "    s = re.sub(r\"\\.\", \" \", s)\n",
    "    s = re.sub(r\"\\,\", \" \", s)\n",
    "    s = re.sub(r\"\\!\", \" \", s)\n",
    "    s = re.sub(r\"\\;\", \" \", s)\n",
    "    s = re.sub(r\"\\/\", \" \", s)\n",
    "    s = re.sub(r\"[^A-Za-z]\", \" \", s)    \n",
    "\n",
    "    # tokenize the lower cased string \n",
    "    s = s.split()  \n",
    "    s = \" \".join(s).rstrip()  \n",
    "\n",
    "    return str(s)"
   ]
  },
  {
   "cell_type": "code",
   "execution_count": 82,
   "metadata": {},
   "outputs": [],
   "source": [
    "# textfile path\n",
    "dir_path = 'a4-data/'\n",
    " \n",
    "with open(os.path.join(dir_path, \"datasetSentences.txt\"), 'r', encoding='utf-8') as f:\n",
    "    sentData = f.read().split('\\n') \n",
    "    doc_list = [(line.split('\\t')[0], line.split('\\t')[1]) for line in fileData if '\\t' in line]    \n",
    "    all_data_df = pd.DataFrame(data=np.array(doc_list), columns=['sentence_id', 'sentence'])\n",
    "    \n",
    "with open(os.path.join(dir_path, \"datasetSplit.txt\"), 'r', encoding='utf-8') as f:\n",
    "    splitData = f.read().split('\\n') \n",
    "    splitset_labels = [(line.split(',')[0], line.split(',')[1]) for line in splitData if ',' in line]  \n",
    "    split_labels_df = pd.DataFrame(data=np.array(splitset_labels), columns=['sentence_id', 'splitset_label'])\n",
    "    \n",
    "with open(os.path.join(dir_path, \"sentiment_labels.txt\"), 'r', encoding='utf-8') as f:\n",
    "    labelsData = f.read().split('\\n') #.split('|')\n",
    "    sentiment_values = [(line.split('|')[0], line.split('|')[1]) for line in labelsData if '|' in line] \n",
    "    sentiment_labels_df = pd.DataFrame(data=np.array(sentiment_values), columns=['phrase_id', 'sentiment_value'])\n",
    "    \n",
    "with open(os.path.join(dir_path, \"dictionary.txt\"), 'r', encoding='utf-8') as f:\n",
    "    dictData = f.read().split('\\n') #.split('|')\n",
    "    phrase_list = [(line.split('|')[0], line.split('|')[1]) for line in dictData if '|' in line]\n",
    "    phrase_list_df = pd.DataFrame(data=np.array(phrase_list), columns=['phrase', 'phrase_id'])"
   ]
  },
  {
   "cell_type": "code",
   "execution_count": 83,
   "metadata": {},
   "outputs": [
    {
     "data": {
      "text/html": [
       "<div>\n",
       "<style scoped>\n",
       "    .dataframe tbody tr th:only-of-type {\n",
       "        vertical-align: middle;\n",
       "    }\n",
       "\n",
       "    .dataframe tbody tr th {\n",
       "        vertical-align: top;\n",
       "    }\n",
       "\n",
       "    .dataframe thead th {\n",
       "        text-align: right;\n",
       "    }\n",
       "</style>\n",
       "<table border=\"1\" class=\"dataframe\">\n",
       "  <thead>\n",
       "    <tr style=\"text-align: right;\">\n",
       "      <th></th>\n",
       "      <th>sentence_id</th>\n",
       "      <th>sentence</th>\n",
       "    </tr>\n",
       "  </thead>\n",
       "  <tbody>\n",
       "    <tr>\n",
       "      <th>1</th>\n",
       "      <td>1</td>\n",
       "      <td>The Rock is destined to be the 21st Century 's...</td>\n",
       "    </tr>\n",
       "    <tr>\n",
       "      <th>2</th>\n",
       "      <td>2</td>\n",
       "      <td>The gorgeously elaborate continuation of `` Th...</td>\n",
       "    </tr>\n",
       "    <tr>\n",
       "      <th>3</th>\n",
       "      <td>3</td>\n",
       "      <td>Effective but too-tepid biopic</td>\n",
       "    </tr>\n",
       "    <tr>\n",
       "      <th>4</th>\n",
       "      <td>4</td>\n",
       "      <td>If you sometimes like to go to the movies to h...</td>\n",
       "    </tr>\n",
       "    <tr>\n",
       "      <th>5</th>\n",
       "      <td>5</td>\n",
       "      <td>Emerges as something rare , an issue movie tha...</td>\n",
       "    </tr>\n",
       "  </tbody>\n",
       "</table>\n",
       "</div>"
      ],
      "text/plain": [
       "  sentence_id                                           sentence\n",
       "1           1  The Rock is destined to be the 21st Century 's...\n",
       "2           2  The gorgeously elaborate continuation of `` Th...\n",
       "3           3                     Effective but too-tepid biopic\n",
       "4           4  If you sometimes like to go to the movies to h...\n",
       "5           5  Emerges as something rare , an issue movie tha..."
      ]
     },
     "execution_count": 83,
     "metadata": {},
     "output_type": "execute_result"
    }
   ],
   "source": [
    "all_data_df = all_data_df.iloc[1:]\n",
    "all_data_df.head()"
   ]
  },
  {
   "cell_type": "code",
   "execution_count": 84,
   "metadata": {},
   "outputs": [
    {
     "data": {
      "text/html": [
       "<div>\n",
       "<style scoped>\n",
       "    .dataframe tbody tr th:only-of-type {\n",
       "        vertical-align: middle;\n",
       "    }\n",
       "\n",
       "    .dataframe tbody tr th {\n",
       "        vertical-align: top;\n",
       "    }\n",
       "\n",
       "    .dataframe thead th {\n",
       "        text-align: right;\n",
       "    }\n",
       "</style>\n",
       "<table border=\"1\" class=\"dataframe\">\n",
       "  <thead>\n",
       "    <tr style=\"text-align: right;\">\n",
       "      <th></th>\n",
       "      <th>sentence_id</th>\n",
       "      <th>splitset_label</th>\n",
       "    </tr>\n",
       "  </thead>\n",
       "  <tbody>\n",
       "    <tr>\n",
       "      <th>1</th>\n",
       "      <td>1</td>\n",
       "      <td>1</td>\n",
       "    </tr>\n",
       "    <tr>\n",
       "      <th>2</th>\n",
       "      <td>2</td>\n",
       "      <td>1</td>\n",
       "    </tr>\n",
       "    <tr>\n",
       "      <th>3</th>\n",
       "      <td>3</td>\n",
       "      <td>2</td>\n",
       "    </tr>\n",
       "    <tr>\n",
       "      <th>4</th>\n",
       "      <td>4</td>\n",
       "      <td>2</td>\n",
       "    </tr>\n",
       "    <tr>\n",
       "      <th>5</th>\n",
       "      <td>5</td>\n",
       "      <td>2</td>\n",
       "    </tr>\n",
       "  </tbody>\n",
       "</table>\n",
       "</div>"
      ],
      "text/plain": [
       "  sentence_id splitset_label\n",
       "1           1              1\n",
       "2           2              1\n",
       "3           3              2\n",
       "4           4              2\n",
       "5           5              2"
      ]
     },
     "execution_count": 84,
     "metadata": {},
     "output_type": "execute_result"
    }
   ],
   "source": [
    "split_labels_df = split_labels_df.iloc[1:]\n",
    "split_labels_df.head()"
   ]
  },
  {
   "cell_type": "code",
   "execution_count": 85,
   "metadata": {},
   "outputs": [
    {
     "data": {
      "text/html": [
       "<div>\n",
       "<style scoped>\n",
       "    .dataframe tbody tr th:only-of-type {\n",
       "        vertical-align: middle;\n",
       "    }\n",
       "\n",
       "    .dataframe tbody tr th {\n",
       "        vertical-align: top;\n",
       "    }\n",
       "\n",
       "    .dataframe thead th {\n",
       "        text-align: right;\n",
       "    }\n",
       "</style>\n",
       "<table border=\"1\" class=\"dataframe\">\n",
       "  <thead>\n",
       "    <tr style=\"text-align: right;\">\n",
       "      <th></th>\n",
       "      <th>phrase_id</th>\n",
       "      <th>sentiment_value</th>\n",
       "    </tr>\n",
       "  </thead>\n",
       "  <tbody>\n",
       "    <tr>\n",
       "      <th>1</th>\n",
       "      <td>0</td>\n",
       "      <td>0.5</td>\n",
       "    </tr>\n",
       "    <tr>\n",
       "      <th>2</th>\n",
       "      <td>1</td>\n",
       "      <td>0.5</td>\n",
       "    </tr>\n",
       "    <tr>\n",
       "      <th>3</th>\n",
       "      <td>2</td>\n",
       "      <td>0.44444</td>\n",
       "    </tr>\n",
       "    <tr>\n",
       "      <th>4</th>\n",
       "      <td>3</td>\n",
       "      <td>0.5</td>\n",
       "    </tr>\n",
       "    <tr>\n",
       "      <th>5</th>\n",
       "      <td>4</td>\n",
       "      <td>0.42708</td>\n",
       "    </tr>\n",
       "  </tbody>\n",
       "</table>\n",
       "</div>"
      ],
      "text/plain": [
       "  phrase_id sentiment_value\n",
       "1         0             0.5\n",
       "2         1             0.5\n",
       "3         2         0.44444\n",
       "4         3             0.5\n",
       "5         4         0.42708"
      ]
     },
     "execution_count": 85,
     "metadata": {},
     "output_type": "execute_result"
    }
   ],
   "source": [
    "sentiment_labels_df = sentiment_labels_df.iloc[1:]\n",
    "sentiment_labels_df.head()"
   ]
  },
  {
   "cell_type": "code",
   "execution_count": 86,
   "metadata": {},
   "outputs": [
    {
     "data": {
      "text/html": [
       "<div>\n",
       "<style scoped>\n",
       "    .dataframe tbody tr th:only-of-type {\n",
       "        vertical-align: middle;\n",
       "    }\n",
       "\n",
       "    .dataframe tbody tr th {\n",
       "        vertical-align: top;\n",
       "    }\n",
       "\n",
       "    .dataframe thead th {\n",
       "        text-align: right;\n",
       "    }\n",
       "</style>\n",
       "<table border=\"1\" class=\"dataframe\">\n",
       "  <thead>\n",
       "    <tr style=\"text-align: right;\">\n",
       "      <th></th>\n",
       "      <th>phrase</th>\n",
       "      <th>phrase_id</th>\n",
       "    </tr>\n",
       "  </thead>\n",
       "  <tbody>\n",
       "    <tr>\n",
       "      <th>0</th>\n",
       "      <td>!</td>\n",
       "      <td>0</td>\n",
       "    </tr>\n",
       "    <tr>\n",
       "      <th>1</th>\n",
       "      <td>! '</td>\n",
       "      <td>22935</td>\n",
       "    </tr>\n",
       "    <tr>\n",
       "      <th>2</th>\n",
       "      <td>! ''</td>\n",
       "      <td>18235</td>\n",
       "    </tr>\n",
       "    <tr>\n",
       "      <th>3</th>\n",
       "      <td>! Alas</td>\n",
       "      <td>179257</td>\n",
       "    </tr>\n",
       "    <tr>\n",
       "      <th>4</th>\n",
       "      <td>! Brilliant</td>\n",
       "      <td>22936</td>\n",
       "    </tr>\n",
       "  </tbody>\n",
       "</table>\n",
       "</div>"
      ],
      "text/plain": [
       "        phrase phrase_id\n",
       "0            !         0\n",
       "1          ! '     22935\n",
       "2         ! ''     18235\n",
       "3       ! Alas    179257\n",
       "4  ! Brilliant     22936"
      ]
     },
     "execution_count": 86,
     "metadata": {},
     "output_type": "execute_result"
    }
   ],
   "source": [
    "phrase_list_df.head()"
   ]
  },
  {
   "cell_type": "code",
   "execution_count": 94,
   "metadata": {},
   "outputs": [
    {
     "data": {
      "text/html": [
       "<div>\n",
       "<style scoped>\n",
       "    .dataframe tbody tr th:only-of-type {\n",
       "        vertical-align: middle;\n",
       "    }\n",
       "\n",
       "    .dataframe tbody tr th {\n",
       "        vertical-align: top;\n",
       "    }\n",
       "\n",
       "    .dataframe thead th {\n",
       "        text-align: right;\n",
       "    }\n",
       "</style>\n",
       "<table border=\"1\" class=\"dataframe\">\n",
       "  <thead>\n",
       "    <tr style=\"text-align: right;\">\n",
       "      <th></th>\n",
       "      <th>phrase_id</th>\n",
       "      <th>sentiment_value</th>\n",
       "      <th>phrase</th>\n",
       "    </tr>\n",
       "  </thead>\n",
       "  <tbody>\n",
       "    <tr>\n",
       "      <th>0</th>\n",
       "      <td>0</td>\n",
       "      <td>0.5</td>\n",
       "      <td>!</td>\n",
       "    </tr>\n",
       "    <tr>\n",
       "      <th>1</th>\n",
       "      <td>1</td>\n",
       "      <td>0.5</td>\n",
       "      <td>'</td>\n",
       "    </tr>\n",
       "    <tr>\n",
       "      <th>2</th>\n",
       "      <td>2</td>\n",
       "      <td>0.44444</td>\n",
       "      <td>' (</td>\n",
       "    </tr>\n",
       "    <tr>\n",
       "      <th>3</th>\n",
       "      <td>3</td>\n",
       "      <td>0.5</td>\n",
       "      <td>' ( the cockettes</td>\n",
       "    </tr>\n",
       "    <tr>\n",
       "      <th>4</th>\n",
       "      <td>4</td>\n",
       "      <td>0.42708</td>\n",
       "      <td>' ( the cockettes )</td>\n",
       "    </tr>\n",
       "  </tbody>\n",
       "</table>\n",
       "</div>"
      ],
      "text/plain": [
       "  phrase_id sentiment_value               phrase\n",
       "0         0             0.5                    !\n",
       "1         1             0.5                    '\n",
       "2         2         0.44444                  ' (\n",
       "3         3             0.5    ' ( the cockettes\n",
       "4         4         0.42708  ' ( the cockettes )"
      ]
     },
     "execution_count": 94,
     "metadata": {},
     "output_type": "execute_result"
    }
   ],
   "source": [
    "full_phrase_df = sentiment_labels_df.merge(phrase_list_df, on='phrase_id')\n",
    "full_phrase_df.head()"
   ]
  },
  {
   "cell_type": "code",
   "execution_count": 95,
   "metadata": {},
   "outputs": [
    {
     "data": {
      "text/html": [
       "<div>\n",
       "<style scoped>\n",
       "    .dataframe tbody tr th:only-of-type {\n",
       "        vertical-align: middle;\n",
       "    }\n",
       "\n",
       "    .dataframe tbody tr th {\n",
       "        vertical-align: top;\n",
       "    }\n",
       "\n",
       "    .dataframe thead th {\n",
       "        text-align: right;\n",
       "    }\n",
       "</style>\n",
       "<table border=\"1\" class=\"dataframe\">\n",
       "  <thead>\n",
       "    <tr style=\"text-align: right;\">\n",
       "      <th></th>\n",
       "      <th>sentence_id</th>\n",
       "      <th>sentence</th>\n",
       "      <th>splitset_label</th>\n",
       "    </tr>\n",
       "  </thead>\n",
       "  <tbody>\n",
       "    <tr>\n",
       "      <th>0</th>\n",
       "      <td>1</td>\n",
       "      <td>The Rock is destined to be the 21st Century 's...</td>\n",
       "      <td>1</td>\n",
       "    </tr>\n",
       "    <tr>\n",
       "      <th>1</th>\n",
       "      <td>2</td>\n",
       "      <td>The gorgeously elaborate continuation of `` Th...</td>\n",
       "      <td>1</td>\n",
       "    </tr>\n",
       "    <tr>\n",
       "      <th>2</th>\n",
       "      <td>3</td>\n",
       "      <td>Effective but too-tepid biopic</td>\n",
       "      <td>2</td>\n",
       "    </tr>\n",
       "    <tr>\n",
       "      <th>3</th>\n",
       "      <td>4</td>\n",
       "      <td>If you sometimes like to go to the movies to h...</td>\n",
       "      <td>2</td>\n",
       "    </tr>\n",
       "    <tr>\n",
       "      <th>4</th>\n",
       "      <td>5</td>\n",
       "      <td>Emerges as something rare , an issue movie tha...</td>\n",
       "      <td>2</td>\n",
       "    </tr>\n",
       "  </tbody>\n",
       "</table>\n",
       "</div>"
      ],
      "text/plain": [
       "  sentence_id                                           sentence  \\\n",
       "0           1  The Rock is destined to be the 21st Century 's...   \n",
       "1           2  The gorgeously elaborate continuation of `` Th...   \n",
       "2           3                     Effective but too-tepid biopic   \n",
       "3           4  If you sometimes like to go to the movies to h...   \n",
       "4           5  Emerges as something rare , an issue movie tha...   \n",
       "\n",
       "  splitset_label  \n",
       "0              1  \n",
       "1              1  \n",
       "2              2  \n",
       "3              2  \n",
       "4              2  "
      ]
     },
     "execution_count": 95,
     "metadata": {},
     "output_type": "execute_result"
    }
   ],
   "source": [
    "full_sentence_splitlabel_df = all_data_df.merge(split_labels_df, on='sentence_id')\n",
    "full_sentence_splitlabel_df.head()"
   ]
  },
  {
   "cell_type": "code",
   "execution_count": 96,
   "metadata": {},
   "outputs": [],
   "source": [
    "full_sentence_splitlabel_df['sentence'] = full_sentence_splitlabel_df['sentence'].apply(lambda x: preprocess_data(x))"
   ]
  },
  {
   "cell_type": "code",
   "execution_count": 97,
   "metadata": {},
   "outputs": [
    {
     "data": {
      "text/html": [
       "<div>\n",
       "<style scoped>\n",
       "    .dataframe tbody tr th:only-of-type {\n",
       "        vertical-align: middle;\n",
       "    }\n",
       "\n",
       "    .dataframe tbody tr th {\n",
       "        vertical-align: top;\n",
       "    }\n",
       "\n",
       "    .dataframe thead th {\n",
       "        text-align: right;\n",
       "    }\n",
       "</style>\n",
       "<table border=\"1\" class=\"dataframe\">\n",
       "  <thead>\n",
       "    <tr style=\"text-align: right;\">\n",
       "      <th></th>\n",
       "      <th>sentence_id</th>\n",
       "      <th>sentence</th>\n",
       "      <th>splitset_label</th>\n",
       "    </tr>\n",
       "  </thead>\n",
       "  <tbody>\n",
       "    <tr>\n",
       "      <th>0</th>\n",
       "      <td>1</td>\n",
       "      <td>the rock is destined to be the st century s ne...</td>\n",
       "      <td>1</td>\n",
       "    </tr>\n",
       "    <tr>\n",
       "      <th>1</th>\n",
       "      <td>2</td>\n",
       "      <td>the gorgeously elaborate continuation of the l...</td>\n",
       "      <td>1</td>\n",
       "    </tr>\n",
       "    <tr>\n",
       "      <th>2</th>\n",
       "      <td>3</td>\n",
       "      <td>effective but too tepid biopic</td>\n",
       "      <td>2</td>\n",
       "    </tr>\n",
       "    <tr>\n",
       "      <th>3</th>\n",
       "      <td>4</td>\n",
       "      <td>if you sometimes like to go to the movies to h...</td>\n",
       "      <td>2</td>\n",
       "    </tr>\n",
       "    <tr>\n",
       "      <th>4</th>\n",
       "      <td>5</td>\n",
       "      <td>emerges as something rare an issue movie that ...</td>\n",
       "      <td>2</td>\n",
       "    </tr>\n",
       "  </tbody>\n",
       "</table>\n",
       "</div>"
      ],
      "text/plain": [
       "  sentence_id                                           sentence  \\\n",
       "0           1  the rock is destined to be the st century s ne...   \n",
       "1           2  the gorgeously elaborate continuation of the l...   \n",
       "2           3                     effective but too tepid biopic   \n",
       "3           4  if you sometimes like to go to the movies to h...   \n",
       "4           5  emerges as something rare an issue movie that ...   \n",
       "\n",
       "  splitset_label  \n",
       "0              1  \n",
       "1              1  \n",
       "2              2  \n",
       "3              2  \n",
       "4              2  "
      ]
     },
     "execution_count": 97,
     "metadata": {},
     "output_type": "execute_result"
    }
   ],
   "source": [
    "full_sentence_splitlabel_df.head()"
   ]
  },
  {
   "cell_type": "code",
   "execution_count": 109,
   "metadata": {},
   "outputs": [
    {
     "data": {
      "text/plain": [
       "array(['1', '2', '3'], dtype=object)"
      ]
     },
     "execution_count": 109,
     "metadata": {},
     "output_type": "execute_result"
    }
   ],
   "source": [
    "full_sentence_splitlabel_df['splitset_label'].unique()"
   ]
  },
  {
   "cell_type": "code",
   "execution_count": 98,
   "metadata": {},
   "outputs": [
    {
     "data": {
      "text/html": [
       "<div>\n",
       "<style scoped>\n",
       "    .dataframe tbody tr th:only-of-type {\n",
       "        vertical-align: middle;\n",
       "    }\n",
       "\n",
       "    .dataframe tbody tr th {\n",
       "        vertical-align: top;\n",
       "    }\n",
       "\n",
       "    .dataframe thead th {\n",
       "        text-align: right;\n",
       "    }\n",
       "</style>\n",
       "<table border=\"1\" class=\"dataframe\">\n",
       "  <thead>\n",
       "    <tr style=\"text-align: right;\">\n",
       "      <th></th>\n",
       "      <th>phrase_id</th>\n",
       "      <th>sentiment_value</th>\n",
       "      <th>phrase</th>\n",
       "    </tr>\n",
       "  </thead>\n",
       "  <tbody>\n",
       "    <tr>\n",
       "      <th>0</th>\n",
       "      <td>0</td>\n",
       "      <td>0.5</td>\n",
       "      <td></td>\n",
       "    </tr>\n",
       "    <tr>\n",
       "      <th>1</th>\n",
       "      <td>1</td>\n",
       "      <td>0.5</td>\n",
       "      <td></td>\n",
       "    </tr>\n",
       "    <tr>\n",
       "      <th>2</th>\n",
       "      <td>2</td>\n",
       "      <td>0.44444</td>\n",
       "      <td></td>\n",
       "    </tr>\n",
       "    <tr>\n",
       "      <th>3</th>\n",
       "      <td>3</td>\n",
       "      <td>0.5</td>\n",
       "      <td>the cockettes</td>\n",
       "    </tr>\n",
       "    <tr>\n",
       "      <th>4</th>\n",
       "      <td>4</td>\n",
       "      <td>0.42708</td>\n",
       "      <td>the cockettes</td>\n",
       "    </tr>\n",
       "  </tbody>\n",
       "</table>\n",
       "</div>"
      ],
      "text/plain": [
       "  phrase_id sentiment_value         phrase\n",
       "0         0             0.5               \n",
       "1         1             0.5               \n",
       "2         2         0.44444               \n",
       "3         3             0.5  the cockettes\n",
       "4         4         0.42708  the cockettes"
      ]
     },
     "execution_count": 98,
     "metadata": {},
     "output_type": "execute_result"
    }
   ],
   "source": [
    "full_phrase_df['phrase'] = full_phrase_df['phrase'].apply(lambda x: preprocess_data(x))\n",
    "full_phrase_df.head()"
   ]
  },
  {
   "cell_type": "code",
   "execution_count": 105,
   "metadata": {},
   "outputs": [
    {
     "name": "stdout",
     "output_type": "stream",
     "text": [
      "(197875, 3)\n",
      "(197875, 3)\n"
     ]
    },
    {
     "data": {
      "text/html": [
       "<div>\n",
       "<style scoped>\n",
       "    .dataframe tbody tr th:only-of-type {\n",
       "        vertical-align: middle;\n",
       "    }\n",
       "\n",
       "    .dataframe tbody tr th {\n",
       "        vertical-align: top;\n",
       "    }\n",
       "\n",
       "    .dataframe thead th {\n",
       "        text-align: right;\n",
       "    }\n",
       "</style>\n",
       "<table border=\"1\" class=\"dataframe\">\n",
       "  <thead>\n",
       "    <tr style=\"text-align: right;\">\n",
       "      <th></th>\n",
       "      <th>phrase_id</th>\n",
       "      <th>sentiment_value</th>\n",
       "      <th>phrase</th>\n",
       "    </tr>\n",
       "  </thead>\n",
       "  <tbody>\n",
       "    <tr>\n",
       "      <th>0</th>\n",
       "      <td>0</td>\n",
       "      <td>0.5</td>\n",
       "      <td></td>\n",
       "    </tr>\n",
       "    <tr>\n",
       "      <th>3</th>\n",
       "      <td>3</td>\n",
       "      <td>0.5</td>\n",
       "      <td>the cockettes</td>\n",
       "    </tr>\n",
       "    <tr>\n",
       "      <th>5</th>\n",
       "      <td>5</td>\n",
       "      <td>0.375</td>\n",
       "      <td>the cockettes provides a window into a subcult...</td>\n",
       "    </tr>\n",
       "    <tr>\n",
       "      <th>8</th>\n",
       "      <td>8</td>\n",
       "      <td>0.33333</td>\n",
       "      <td>a nightmare on elm street</td>\n",
       "    </tr>\n",
       "    <tr>\n",
       "      <th>10</th>\n",
       "      <td>10</td>\n",
       "      <td>0.47222</td>\n",
       "      <td>a nightmare on elm street or</td>\n",
       "    </tr>\n",
       "  </tbody>\n",
       "</table>\n",
       "</div>"
      ],
      "text/plain": [
       "   phrase_id sentiment_value  \\\n",
       "0          0             0.5   \n",
       "3          3             0.5   \n",
       "5          5           0.375   \n",
       "8          8         0.33333   \n",
       "10        10         0.47222   \n",
       "\n",
       "                                               phrase  \n",
       "0                                                      \n",
       "3                                       the cockettes  \n",
       "5   the cockettes provides a window into a subcult...  \n",
       "8                           a nightmare on elm street  \n",
       "10                       a nightmare on elm street or  "
      ]
     },
     "execution_count": 105,
     "metadata": {},
     "output_type": "execute_result"
    }
   ],
   "source": [
    "print(full_phrase_df.shape)\n",
    "\n",
    "full_phrase_df = full_phrase_df.drop_duplicates('phrase')\n",
    "full_phrase_df.dropna(inplace=True)\n",
    "\n",
    "print(full_phrase_df.shape)\n",
    "full_phrase_df.head()"
   ]
  },
  {
   "cell_type": "code",
   "execution_count": 106,
   "metadata": {},
   "outputs": [
    {
     "data": {
      "text/html": [
       "<div>\n",
       "<style scoped>\n",
       "    .dataframe tbody tr th:only-of-type {\n",
       "        vertical-align: middle;\n",
       "    }\n",
       "\n",
       "    .dataframe tbody tr th {\n",
       "        vertical-align: top;\n",
       "    }\n",
       "\n",
       "    .dataframe thead th {\n",
       "        text-align: right;\n",
       "    }\n",
       "</style>\n",
       "<table border=\"1\" class=\"dataframe\">\n",
       "  <thead>\n",
       "    <tr style=\"text-align: right;\">\n",
       "      <th></th>\n",
       "      <th>phrase_id</th>\n",
       "      <th>sentiment_value</th>\n",
       "      <th>phrase</th>\n",
       "    </tr>\n",
       "  </thead>\n",
       "  <tbody>\n",
       "    <tr>\n",
       "      <th>3</th>\n",
       "      <td>3</td>\n",
       "      <td>0.5</td>\n",
       "      <td>the cockettes</td>\n",
       "    </tr>\n",
       "    <tr>\n",
       "      <th>5</th>\n",
       "      <td>5</td>\n",
       "      <td>0.375</td>\n",
       "      <td>the cockettes provides a window into a subcult...</td>\n",
       "    </tr>\n",
       "    <tr>\n",
       "      <th>8</th>\n",
       "      <td>8</td>\n",
       "      <td>0.33333</td>\n",
       "      <td>a nightmare on elm street</td>\n",
       "    </tr>\n",
       "    <tr>\n",
       "      <th>10</th>\n",
       "      <td>10</td>\n",
       "      <td>0.47222</td>\n",
       "      <td>a nightmare on elm street or</td>\n",
       "    </tr>\n",
       "    <tr>\n",
       "      <th>12</th>\n",
       "      <td>12</td>\n",
       "      <td>0.33333</td>\n",
       "      <td>a nightmare on elm street or the hills</td>\n",
       "    </tr>\n",
       "  </tbody>\n",
       "</table>\n",
       "</div>"
      ],
      "text/plain": [
       "   phrase_id sentiment_value  \\\n",
       "3          3             0.5   \n",
       "5          5           0.375   \n",
       "8          8         0.33333   \n",
       "10        10         0.47222   \n",
       "12        12         0.33333   \n",
       "\n",
       "                                               phrase  \n",
       "3                                       the cockettes  \n",
       "5   the cockettes provides a window into a subcult...  \n",
       "8                           a nightmare on elm street  \n",
       "10                       a nightmare on elm street or  \n",
       "12             a nightmare on elm street or the hills  "
      ]
     },
     "execution_count": 106,
     "metadata": {},
     "output_type": "execute_result"
    }
   ],
   "source": [
    "full_phrase_df = full_phrase_df.iloc[1:]\n",
    "full_phrase_df.head()"
   ]
  },
  {
   "cell_type": "code",
   "execution_count": 124,
   "metadata": {},
   "outputs": [
    {
     "data": {
      "text/html": [
       "<div>\n",
       "<style scoped>\n",
       "    .dataframe tbody tr th:only-of-type {\n",
       "        vertical-align: middle;\n",
       "    }\n",
       "\n",
       "    .dataframe tbody tr th {\n",
       "        vertical-align: top;\n",
       "    }\n",
       "\n",
       "    .dataframe thead th {\n",
       "        text-align: right;\n",
       "    }\n",
       "</style>\n",
       "<table border=\"1\" class=\"dataframe\">\n",
       "  <thead>\n",
       "    <tr style=\"text-align: right;\">\n",
       "      <th></th>\n",
       "      <th>phrase_id</th>\n",
       "      <th>sentiment_value</th>\n",
       "      <th>phrase</th>\n",
       "      <th>sentence_id</th>\n",
       "      <th>splitset_label</th>\n",
       "    </tr>\n",
       "  </thead>\n",
       "  <tbody>\n",
       "    <tr>\n",
       "      <th>3</th>\n",
       "      <td>3</td>\n",
       "      <td>0.5</td>\n",
       "      <td>the cockettes</td>\n",
       "      <td>NaN</td>\n",
       "      <td>NaN</td>\n",
       "    </tr>\n",
       "    <tr>\n",
       "      <th>5</th>\n",
       "      <td>5</td>\n",
       "      <td>0.375</td>\n",
       "      <td>the cockettes provides a window into a subcult...</td>\n",
       "      <td>NaN</td>\n",
       "      <td>NaN</td>\n",
       "    </tr>\n",
       "    <tr>\n",
       "      <th>8</th>\n",
       "      <td>8</td>\n",
       "      <td>0.33333</td>\n",
       "      <td>a nightmare on elm street</td>\n",
       "      <td>NaN</td>\n",
       "      <td>NaN</td>\n",
       "    </tr>\n",
       "    <tr>\n",
       "      <th>10</th>\n",
       "      <td>10</td>\n",
       "      <td>0.47222</td>\n",
       "      <td>a nightmare on elm street or</td>\n",
       "      <td>NaN</td>\n",
       "      <td>NaN</td>\n",
       "    </tr>\n",
       "    <tr>\n",
       "      <th>12</th>\n",
       "      <td>12</td>\n",
       "      <td>0.33333</td>\n",
       "      <td>a nightmare on elm street or the hills</td>\n",
       "      <td>NaN</td>\n",
       "      <td>NaN</td>\n",
       "    </tr>\n",
       "  </tbody>\n",
       "</table>\n",
       "</div>"
      ],
      "text/plain": [
       "   phrase_id sentiment_value  \\\n",
       "3          3             0.5   \n",
       "5          5           0.375   \n",
       "8          8         0.33333   \n",
       "10        10         0.47222   \n",
       "12        12         0.33333   \n",
       "\n",
       "                                               phrase sentence_id  \\\n",
       "3                                       the cockettes         NaN   \n",
       "5   the cockettes provides a window into a subcult...         NaN   \n",
       "8                           a nightmare on elm street         NaN   \n",
       "10                       a nightmare on elm street or         NaN   \n",
       "12             a nightmare on elm street or the hills         NaN   \n",
       "\n",
       "   splitset_label  \n",
       "3             NaN  \n",
       "5             NaN  \n",
       "8             NaN  \n",
       "10            NaN  \n",
       "12            NaN  "
      ]
     },
     "execution_count": 124,
     "metadata": {},
     "output_type": "execute_result"
    }
   ],
   "source": [
    "t_split = full_sentence_splitlabel_df.set_index('sentence')\n",
    "final_df = full_phrase_df.join(t_split, on='phrase')\n",
    "final_df.head()"
   ]
  },
  {
   "cell_type": "code",
   "execution_count": 230,
   "metadata": {},
   "outputs": [],
   "source": [
    "# keeping only phrases which have 3 or more words\n",
    "final_df_1 = final_df[final_df['phrase'].apply(lambda x: len(x.split())>2)]"
   ]
  },
  {
   "cell_type": "code",
   "execution_count": 231,
   "metadata": {},
   "outputs": [
    {
     "name": "stdout",
     "output_type": "stream",
     "text": [
      "(8055, 5) (2115, 5) (1041, 5)\n"
     ]
    }
   ],
   "source": [
    "train = final_df_1[final_df_1.splitset_label == '1']\n",
    "test = final_df_1[final_df_1.splitset_label == '2']\n",
    "dev = final_df_1[final_df_1.splitset_label == '3']\n",
    "\n",
    "y_train = train['sentiment_value']\n",
    "y_test = test['sentiment_value']\n",
    "y_dev = dev['sentiment_value']\n",
    "print(train.shape, test.shape, dev.shape)"
   ]
  },
  {
   "cell_type": "code",
   "execution_count": 232,
   "metadata": {},
   "outputs": [
    {
     "data": {
      "text/html": [
       "<div>\n",
       "<style scoped>\n",
       "    .dataframe tbody tr th:only-of-type {\n",
       "        vertical-align: middle;\n",
       "    }\n",
       "\n",
       "    .dataframe tbody tr th {\n",
       "        vertical-align: top;\n",
       "    }\n",
       "\n",
       "    .dataframe thead th {\n",
       "        text-align: right;\n",
       "    }\n",
       "</style>\n",
       "<table border=\"1\" class=\"dataframe\">\n",
       "  <thead>\n",
       "    <tr style=\"text-align: right;\">\n",
       "      <th></th>\n",
       "      <th>phrase_id</th>\n",
       "      <th>sentiment_value</th>\n",
       "      <th>phrase</th>\n",
       "      <th>sentence_id</th>\n",
       "      <th>splitset_label</th>\n",
       "    </tr>\n",
       "  </thead>\n",
       "  <tbody>\n",
       "    <tr>\n",
       "      <th>102</th>\n",
       "      <td>102</td>\n",
       "      <td>0.69444</td>\n",
       "      <td>blue crush swims away with the sleeper movie o...</td>\n",
       "      <td>3103</td>\n",
       "      <td>1</td>\n",
       "    </tr>\n",
       "    <tr>\n",
       "      <th>123</th>\n",
       "      <td>123</td>\n",
       "      <td>0.83333</td>\n",
       "      <td>a brilliant absurd collection of vignettes tha...</td>\n",
       "      <td>5481</td>\n",
       "      <td>1</td>\n",
       "    </tr>\n",
       "    <tr>\n",
       "      <th>135</th>\n",
       "      <td>135</td>\n",
       "      <td>0.44444</td>\n",
       "      <td>a clash between the artificial structure of th...</td>\n",
       "      <td>10820</td>\n",
       "      <td>1</td>\n",
       "    </tr>\n",
       "    <tr>\n",
       "      <th>147</th>\n",
       "      <td>147</td>\n",
       "      <td>0.77778</td>\n",
       "      <td>a decent enough nail biter that stands a good ...</td>\n",
       "      <td>2565</td>\n",
       "      <td>1</td>\n",
       "    </tr>\n",
       "    <tr>\n",
       "      <th>157</th>\n",
       "      <td>157</td>\n",
       "      <td>0.19444</td>\n",
       "      <td>a dreary indulgence</td>\n",
       "      <td>11817</td>\n",
       "      <td>1</td>\n",
       "    </tr>\n",
       "  </tbody>\n",
       "</table>\n",
       "</div>"
      ],
      "text/plain": [
       "    phrase_id sentiment_value  \\\n",
       "102       102         0.69444   \n",
       "123       123         0.83333   \n",
       "135       135         0.44444   \n",
       "147       147         0.77778   \n",
       "157       157         0.19444   \n",
       "\n",
       "                                                phrase sentence_id  \\\n",
       "102  blue crush swims away with the sleeper movie o...        3103   \n",
       "123  a brilliant absurd collection of vignettes tha...        5481   \n",
       "135  a clash between the artificial structure of th...       10820   \n",
       "147  a decent enough nail biter that stands a good ...        2565   \n",
       "157                                a dreary indulgence       11817   \n",
       "\n",
       "    splitset_label  \n",
       "102              1  \n",
       "123              1  \n",
       "135              1  \n",
       "147              1  \n",
       "157              1  "
      ]
     },
     "execution_count": 232,
     "metadata": {},
     "output_type": "execute_result"
    }
   ],
   "source": [
    "train.head()"
   ]
  },
  {
   "cell_type": "code",
   "execution_count": 233,
   "metadata": {},
   "outputs": [
    {
     "name": "stdout",
     "output_type": "stream",
     "text": [
      "All tokens size:  140078\n",
      "Unique tokens size:  14717\n"
     ]
    }
   ],
   "source": [
    "all_tokens = (\" \".join(train['phrase'])).split()\n",
    "unique_tokens = set(all_tokens)\n",
    "\n",
    "print(\"All tokens size: \", len(all_tokens))\n",
    "print(\"Unique tokens size: \", len(unique_tokens))"
   ]
  },
  {
   "cell_type": "code",
   "execution_count": 234,
   "metadata": {},
   "outputs": [],
   "source": [
    "# Hyperparameters\n",
    "VOCAB_SIZE = len(unique_tokens)\n",
    "EMBEDDING_DIMS = 100\n",
    "MAX_SEQUENCE_LENGTH = 300\n",
    "FILTERS = 128 \n",
    "KERNEL_SIZE = 3 \n",
    "BATCH_SIZE = 128\n",
    "es = EarlyStopping(monitor='val_loss', mode='min', verbose=1, patience=5)"
   ]
  },
  {
   "cell_type": "code",
   "execution_count": 235,
   "metadata": {},
   "outputs": [],
   "source": [
    "#zero padding\n",
    "tokenizer = text.Tokenizer(num_words=VOCAB_SIZE)\n",
    "tokenizer.fit_on_texts(train['phrase'])\n",
    "\n",
    "train_tokenizer = tokenizer.texts_to_matrix(train['phrase'])\n",
    "test_tokenizer = tokenizer.texts_to_matrix(test['phrase'])\n",
    "dev_tokenizer = tokenizer.texts_to_matrix(dev['phrase'])\n",
    "\n",
    "train_encoded = sequence.pad_sequences(train_tokenizer, maxlen=MAX_SEQUENCE_LENGTH)\n",
    "test_encoded = sequence.pad_sequences(test_tokenizer, maxlen=MAX_SEQUENCE_LENGTH)\n",
    "dev_encoded = sequence.pad_sequences(dev_tokenizer, maxlen=MAX_SEQUENCE_LENGTH)"
   ]
  },
  {
   "cell_type": "code",
   "execution_count": 246,
   "metadata": {},
   "outputs": [
    {
     "data": {
      "text/plain": [
       "(8055, 300)"
      ]
     },
     "execution_count": 246,
     "metadata": {},
     "output_type": "execute_result"
    }
   ],
   "source": [
    "train_encoded.shape"
   ]
  },
  {
   "cell_type": "code",
   "execution_count": 236,
   "metadata": {},
   "outputs": [],
   "source": [
    "# using pretrained glove\n",
    "\"\"\" NOTE: To run this cell you need to download glove.6B.100d.txt file from http://nlp.stanford.edu/data/glove.6B.zip \"\"\"\n",
    "embedding_matrix = np.zeros((VOCAB_SIZE, EMBEDDING_DIMS))\n",
    "\n",
    "embeddings_index = dict()\n",
    "f = open('word_embeddings/glove.6B/glove.6B.100d.txt', encoding='utf-8')\n",
    "for line in f:\n",
    "    values = line.split()\n",
    "    word = values[0]\n",
    "    coefs = np.asarray(values[1:], dtype='float32')\n",
    "    embeddings_index[word] = coefs\n",
    "f.close()\n",
    "\n",
    "for word, index in tokenizer.word_index.items():\n",
    "    if index > VOCAB_SIZE - 1:\n",
    "        break\n",
    "    else:\n",
    "        embedding_vector = embeddings_index.get(word)\n",
    "        if embedding_vector is not None:\n",
    "            embedding_matrix[index] = embedding_vector"
   ]
  },
  {
   "cell_type": "code",
   "execution_count": 237,
   "metadata": {},
   "outputs": [
    {
     "data": {
      "text/plain": [
       "(14717, 100)"
      ]
     },
     "execution_count": 237,
     "metadata": {},
     "output_type": "execute_result"
    }
   ],
   "source": [
    "embedding_matrix.shape"
   ]
  },
  {
   "cell_type": "code",
   "execution_count": 238,
   "metadata": {},
   "outputs": [
    {
     "name": "stdout",
     "output_type": "stream",
     "text": [
      "Training model...\n"
     ]
    }
   ],
   "source": [
    "# load pre-trained word embeddings into an Embedding layer\n",
    "# note that we set trainable = False so as to keep the embeddings fixed\n",
    "embedding_layer = Embedding(VOCAB_SIZE,\n",
    "                            EMBEDDING_DIMS,\n",
    "                            embeddings_initializer=Constant(embedding_matrix),\n",
    "                            input_length=MAX_SEQUENCE_LENGTH,\n",
    "                            trainable=False)\n",
    "\n",
    "print('Training model...')\n",
    "\n",
    "# train a 1D convnet with global maxpooling\n",
    "sequence_input = Input(shape=(MAX_SEQUENCE_LENGTH,), dtype='int32')\n",
    "embedded_sequences = embedding_layer(sequence_input)\n",
    "x = Dropout(0.5)(embedded_sequences)\n",
    "x = Conv1D(FILTERS, KERNEL_SIZE, activation='relu')(x)\n",
    "x = MaxPooling1D()(x)\n",
    "x = Conv1D(FILTERS, KERNEL_SIZE, activation='relu')(x)\n",
    "x = MaxPooling1D()(x)\n",
    "x = Conv1D(FILTERS, KERNEL_SIZE, activation='relu')(x)\n",
    "x = GlobalMaxPooling1D()(x)\n",
    "x = Dropout(0.25)(x)\n",
    "x = Dense(FILTERS, activation='relu')(x)\n",
    "final_layer_output = Dense(1, activation='relu')(x)"
   ]
  },
  {
   "cell_type": "code",
   "execution_count": 239,
   "metadata": {},
   "outputs": [],
   "source": [
    "from keras import backend as K\n",
    "\n",
    "def root_mean_squared_error(y_true, y_pred):\n",
    "    return K.sqrt(K.mean(K.square(y_pred - y_true)))  "
   ]
  },
  {
   "cell_type": "code",
   "execution_count": 240,
   "metadata": {},
   "outputs": [
    {
     "name": "stdout",
     "output_type": "stream",
     "text": [
      "Model: \"model_11\"\n",
      "_________________________________________________________________\n",
      "Layer (type)                 Output Shape              Param #   \n",
      "=================================================================\n",
      "input_14 (InputLayer)        [(None, 300)]             0         \n",
      "_________________________________________________________________\n",
      "embedding_13 (Embedding)     (None, 300, 100)          1471700   \n",
      "_________________________________________________________________\n",
      "dropout_12 (Dropout)         (None, 300, 100)          0         \n",
      "_________________________________________________________________\n",
      "conv1d_18 (Conv1D)           (None, 298, 128)          38528     \n",
      "_________________________________________________________________\n",
      "max_pooling1d_12 (MaxPooling (None, 149, 128)          0         \n",
      "_________________________________________________________________\n",
      "conv1d_19 (Conv1D)           (None, 147, 128)          49280     \n",
      "_________________________________________________________________\n",
      "max_pooling1d_13 (MaxPooling (None, 73, 128)           0         \n",
      "_________________________________________________________________\n",
      "conv1d_20 (Conv1D)           (None, 71, 128)           49280     \n",
      "_________________________________________________________________\n",
      "global_max_pooling1d_6 (Glob (None, 128)               0         \n",
      "_________________________________________________________________\n",
      "dropout_13 (Dropout)         (None, 128)               0         \n",
      "_________________________________________________________________\n",
      "dense_20 (Dense)             (None, 128)               16512     \n",
      "_________________________________________________________________\n",
      "dense_21 (Dense)             (None, 1)                 129       \n",
      "=================================================================\n",
      "Total params: 1,625,429\n",
      "Trainable params: 153,729\n",
      "Non-trainable params: 1,471,700\n",
      "_________________________________________________________________\n"
     ]
    }
   ],
   "source": [
    "model = Model(sequence_input, final_layer_output)\n",
    "model.compile(loss=root_mean_squared_error,\n",
    "              optimizer='rmsprop')\n",
    "model.summary()"
   ]
  },
  {
   "cell_type": "code",
   "execution_count": 241,
   "metadata": {},
   "outputs": [
    {
     "name": "stdout",
     "output_type": "stream",
     "text": [
      "Train on 8055 samples, validate on 1041 samples\n",
      "Epoch 1/100\n",
      "8055/8055 [==============================] - 24s 3ms/sample - loss: 0.2824 - val_loss: 0.2638\n",
      "Epoch 2/100\n",
      "8055/8055 [==============================] - 28s 4ms/sample - loss: 0.2580 - val_loss: 0.2601\n",
      "Epoch 3/100\n",
      "8055/8055 [==============================] - 29s 4ms/sample - loss: 0.2545 - val_loss: 0.2550\n",
      "Epoch 4/100\n",
      "8055/8055 [==============================] - 29s 4ms/sample - loss: 0.2522 - val_loss: 0.2508\n",
      "Epoch 5/100\n",
      "8055/8055 [==============================] - 29s 4ms/sample - loss: 0.2514 - val_loss: 0.2522\n",
      "Epoch 6/100\n",
      "8055/8055 [==============================] - 29s 4ms/sample - loss: 0.2505 - val_loss: 0.2533\n",
      "Epoch 7/100\n",
      "8055/8055 [==============================] - 29s 4ms/sample - loss: 0.2503 - val_loss: 0.2519\n",
      "Epoch 8/100\n",
      "8055/8055 [==============================] - 29s 4ms/sample - loss: 0.2503 - val_loss: 0.2509\n",
      "Epoch 9/100\n",
      "8055/8055 [==============================] - 30s 4ms/sample - loss: 0.2500 - val_loss: 0.2506\n",
      "Epoch 10/100\n",
      "8055/8055 [==============================] - 33s 4ms/sample - loss: 0.2498 - val_loss: 0.2519\n",
      "Epoch 11/100\n",
      "8055/8055 [==============================] - 29s 4ms/sample - loss: 0.2497 - val_loss: 0.2510\n",
      "Epoch 12/100\n",
      "8055/8055 [==============================] - 29s 4ms/sample - loss: 0.2497 - val_loss: 0.2508\n",
      "Epoch 13/100\n",
      "8055/8055 [==============================] - 29s 4ms/sample - loss: 0.2498 - val_loss: 0.2508\n",
      "Epoch 14/100\n",
      "8055/8055 [==============================] - 31s 4ms/sample - loss: 0.2497 - val_loss: 0.2508\n",
      "Epoch 00014: early stopping\n"
     ]
    }
   ],
   "source": [
    "EPOCHS = 100\n",
    "\n",
    "history = model.fit(train_encoded, y_train, batch_size=BATCH_SIZE, epochs=EPOCHS, \n",
    "                    validation_data=(dev_encoded, y_dev), callbacks=[es])"
   ]
  },
  {
   "cell_type": "code",
   "execution_count": 245,
   "metadata": {},
   "outputs": [
    {
     "name": "stdout",
     "output_type": "stream",
     "text": [
      "2115/2115 [==============================] - 2s 842us/sample - loss: 0.2546\n",
      "\n",
      "RMSE for sentiment values prediction:  0.254613383244679\n"
     ]
    }
   ],
   "source": [
    "final_rmse = model.evaluate(test_encoded, y_test)\n",
    "print(\"\\nRMSE for sentiment values prediction: \", final_rmse)"
   ]
  },
  {
   "cell_type": "code",
   "execution_count": null,
   "metadata": {},
   "outputs": [],
   "source": []
  }
 ],
 "metadata": {
  "kernelspec": {
   "display_name": "Python 3",
   "language": "python",
   "name": "python3"
  },
  "language_info": {
   "codemirror_mode": {
    "name": "ipython",
    "version": 3
   },
   "file_extension": ".py",
   "mimetype": "text/x-python",
   "name": "python",
   "nbconvert_exporter": "python",
   "pygments_lexer": "ipython3",
   "version": "3.7.3"
  }
 },
 "nbformat": 4,
 "nbformat_minor": 2
}
