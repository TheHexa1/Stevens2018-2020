{
 "cells": [
  {
   "cell_type": "code",
   "execution_count": 2,
   "metadata": {
    "colab": {
     "base_uri": "https://localhost:8080/",
     "height": 165
    },
    "colab_type": "code",
    "id": "QNf3kKbUnnD0",
    "outputId": "4bcf1d61-b1e3-4356-c570-fe6e29e1b897"
   },
   "outputs": [
    {
     "name": "stdout",
     "output_type": "stream",
     "text": [
      "[nltk_data] Downloading package punkt to /root/nltk_data...\n",
      "[nltk_data]   Unzipping tokenizers/punkt.zip.\n",
      "[nltk_data] Downloading package stopwords to /root/nltk_data...\n",
      "[nltk_data]   Unzipping corpora/stopwords.zip.\n"
     ]
    },
    {
     "data": {
      "text/html": [
       "<p style=\"color: red;\">\n",
       "The default version of TensorFlow in Colab will soon switch to TensorFlow 2.x.<br>\n",
       "We recommend you <a href=\"https://www.tensorflow.org/guide/migrate\" target=\"_blank\">upgrade</a> now \n",
       "or ensure your notebook will continue to use TensorFlow 1.x via the <code>%tensorflow_version 1.x</code> magic:\n",
       "<a href=\"https://colab.research.google.com/notebooks/tensorflow_version.ipynb\" target=\"_blank\">more info</a>.</p>\n"
      ],
      "text/plain": [
       "<IPython.core.display.HTML object>"
      ]
     },
     "metadata": {
      "tags": []
     },
     "output_type": "display_data"
    },
    {
     "name": "stderr",
     "output_type": "stream",
     "text": [
      "Using TensorFlow backend.\n"
     ]
    }
   ],
   "source": [
    "import pandas as pd\n",
    "import numpy as np\n",
    "from scipy import sparse\n",
    "import re\n",
    "import os\n",
    "import sys\n",
    "\n",
    "from matplotlib import pyplot as plt\n",
    "\n",
    "import nltk\n",
    "from nltk.corpus import stopwords\n",
    "nltk.download('punkt')\n",
    "nltk.download('stopwords')\n",
    "\n",
    "from sklearn.model_selection import train_test_split\n",
    "from sklearn.feature_extraction.text import TfidfVectorizer\n",
    "\n",
    "# import keras\n",
    "from tensorflow.keras.models import Sequential, Model\n",
    "from tensorflow.keras.layers import Dense, Dropout, Activation, Input, GlobalMaxPooling1D\n",
    "from tensorflow.keras.optimizers import SGD\n",
    "from tensorflow.keras.layers import Embedding\n",
    "from tensorflow.keras.layers import Conv1D, MaxPooling1D, Flatten\n",
    "from tensorflow.keras.preprocessing import sequence, text\n",
    "from tensorflow.keras.initializers import Constant\n",
    "from tensorflow.keras.callbacks import EarlyStopping\n",
    "from keras.utils import np_utils"
   ]
  },
  {
   "cell_type": "code",
   "execution_count": 0,
   "metadata": {
    "colab": {},
    "colab_type": "code",
    "id": "A2SLYdqnnnD6"
   },
   "outputs": [],
   "source": [
    "def preprocess_data(data):\n",
    "\n",
    "    # replace unnecessary characters with space\n",
    "    s = re.sub(r\"\\\\n\", \" \", str(data).lower())\n",
    "    s = re.sub(r\":\", \"\", s) \n",
    "    s = re.sub(r\"\\.\", \" \", s)\n",
    "    s = re.sub(r\"\\,\", \" \", s)\n",
    "    s = re.sub(r\"\\!\", \" \", s)\n",
    "    s = re.sub(r\"\\;\", \" \", s)\n",
    "    s = re.sub(r\"\\/\", \" \", s)\n",
    "    s = re.sub(r\"[^A-Za-z0-9^+-=]\", \" \", s)    \n",
    "\n",
    "    # tokenize the lower cased string \n",
    "    s = s.split()  \n",
    "    \n",
    "    # standard stop words list\n",
    "    stop_words = list(stopwords.words('english'))    \n",
    "\n",
    "    # Remove stop_words\n",
    "    s = [w for w in s if not w in stop_words] \n",
    "\n",
    "    # convert tokens back to document\n",
    "    s = \" \".join(s).rstrip()  \n",
    "\n",
    "    return str(s)\n",
    "\n",
    "def read_data_into_dataframe(dir_path, filename):\n",
    "    \n",
    "    doc_list = []\n",
    "  \n",
    "    with open(os.path.join(dir_path, filename), 'r', encoding='utf-8') as f:\n",
    "        doc_list = f.read().split('\\n\\n')        \n",
    "        \n",
    "    return pd.DataFrame(data=np.array(doc_list).reshape(-1, 1), columns=['doc'])\n",
    "\n",
    "def create_final_dataset():\n",
    "    # textfile path\n",
    "    dir_path = 'data/'\n",
    "\n",
    "    df_corpus_1, corpus_label_1 = read_data_into_dataframe(dir_path, \"28054-0.txt\"), \"Fyodor Dostoyevsky\"\n",
    "    df_corpus_2, corpus_label_2 = read_data_into_dataframe(dir_path, \"pg1661.txt\"), \"Arthur Conan Doyle\"\n",
    "    df_corpus_3, corpus_label_3 = read_data_into_dataframe(dir_path, \"pg31100.txt\"), \"Jane Austen\"\n",
    "\n",
    "    df_corpus_1['label'] = corpus_label_1\n",
    "    df_corpus_2['label'] = corpus_label_2\n",
    "    df_corpus_3['label'] = corpus_label_3\n",
    "\n",
    "    df_corpus_1 = df_corpus_1.iloc[29:6083]\n",
    "    df_corpus_2 = df_corpus_2.iloc[21:2567]\n",
    "    df_corpus_3 = df_corpus_3.iloc[40:11533]\n",
    "    \n",
    "    corpus_1_len = df_corpus_1.shape[0]\n",
    "    corpus_2_len = df_corpus_2.shape[0]\n",
    "    corpus_3_len = df_corpus_3.shape[0]\n",
    "    \n",
    "    # Balance all 3 classes\n",
    "    print(df_corpus_1.sample(frac=corpus_2_len/corpus_1_len).shape,\n",
    "                         df_corpus_2.shape,\n",
    "                         df_corpus_3.sample(frac=corpus_2_len/corpus_3_len).shape)\n",
    "    \n",
    "    # combining all corpus into dataframe of documents\n",
    "    df_docs = pd.concat([df_corpus_1.sample(frac=corpus_2_len/corpus_1_len),\n",
    "                         df_corpus_2,\n",
    "                         df_corpus_3.sample(frac=corpus_2_len/corpus_3_len)])\n",
    "\n",
    "    # to make sure all docs are of string type\n",
    "    df_docs.doc = df_docs.doc.astype(str)\n",
    "    \n",
    "    df_docs.reset_index(inplace=True, drop=True)\n",
    "    \n",
    "    return df_docs  \n",
    "\n",
    "def split_data(data):\n",
    "    # shuffle dataset\n",
    "    data = data.sample(frac=1).reset_index(drop=True)\n",
    "    test_size = int(0.2*data.shape[0])\n",
    "    n_len = data.shape[0]\n",
    "    X_train, X_test = data.iloc[:n_len-test_size, 0], data.iloc[-test_size:, 0]\n",
    "    y_train, y_test = data.iloc[:n_len-test_size, 1], data.iloc[-test_size:, 1]\n",
    "    return X_train, X_test, y_train, y_test\n",
    "\n",
    "def feature_extraction(X_train, X_test):\n",
    "    tfidf = TfidfVectorizer()\n",
    "    tfidf_ = tfidf.fit(X_train)    \n",
    "    return tfidf_.transform(X_train), tfidf_.transform(X_test)\n",
    "\n",
    "def plot_loss(train_loss, val_loss, title):\n",
    "    plt.plot(train_loss)\n",
    "    plt.plot(val_loss)\n",
    "    plt.title(title)\n",
    "    plt.ylabel('loss')\n",
    "    plt.xlabel('epoch')\n",
    "    plt.legend(['train', 'validation'], loc='upper left')\n",
    "    plt.show()"
   ]
  },
  {
   "cell_type": "code",
   "execution_count": 10,
   "metadata": {
    "colab": {
     "base_uri": "https://localhost:8080/",
     "height": 34
    },
    "colab_type": "code",
    "id": "iX7G5UiYnnD9",
    "outputId": "ce6f5bd0-2bca-42ce-f9fb-0d0bc12e4643"
   },
   "outputs": [
    {
     "name": "stdout",
     "output_type": "stream",
     "text": [
      "(2546, 2) (2546, 2) (2546, 2)\n"
     ]
    }
   ],
   "source": [
    "## Create dataset ##\n",
    "\n",
    "df_docs = create_final_dataset()"
   ]
  },
  {
   "cell_type": "code",
   "execution_count": 0,
   "metadata": {
    "colab": {},
    "colab_type": "code",
    "id": "uluOZc87nnD_"
   },
   "outputs": [],
   "source": [
    "## Data Cleaning and Preprocessing ##\n",
    "\n",
    "df_docs.doc = df_docs.doc.apply(lambda x: preprocess_data(x))\n",
    "df_docs.label = df_docs.label.replace({\"Fyodor Dostoyevsky\":0, \"Arthur Conan Doyle\":1, \"Jane Austen\":2})\n",
    "df = df_docs[df_docs.doc != \"\"]"
   ]
  },
  {
   "cell_type": "code",
   "execution_count": 12,
   "metadata": {
    "colab": {
     "base_uri": "https://localhost:8080/",
     "height": 204
    },
    "colab_type": "code",
    "id": "jZfAdxgcqd5P",
    "outputId": "73879d13-cab1-4a3b-ff80-97d598e536b7"
   },
   "outputs": [
    {
     "data": {
      "text/html": [
       "<div>\n",
       "<style scoped>\n",
       "    .dataframe tbody tr th:only-of-type {\n",
       "        vertical-align: middle;\n",
       "    }\n",
       "\n",
       "    .dataframe tbody tr th {\n",
       "        vertical-align: top;\n",
       "    }\n",
       "\n",
       "    .dataframe thead th {\n",
       "        text-align: right;\n",
       "    }\n",
       "</style>\n",
       "<table border=\"1\" class=\"dataframe\">\n",
       "  <thead>\n",
       "    <tr style=\"text-align: right;\">\n",
       "      <th></th>\n",
       "      <th>doc</th>\n",
       "      <th>label</th>\n",
       "    </tr>\n",
       "  </thead>\n",
       "  <tbody>\n",
       "    <tr>\n",
       "      <th>0</th>\n",
       "      <td>sum spent yesterday asserted dmitri fyodorovit...</td>\n",
       "      <td>0</td>\n",
       "    </tr>\n",
       "    <tr>\n",
       "      <th>1</th>\n",
       "      <td>easily imagine father man could would bring ch...</td>\n",
       "      <td>0</td>\n",
       "    </tr>\n",
       "    <tr>\n",
       "      <th>2</th>\n",
       "      <td>mentioned already looked bloated countenance t...</td>\n",
       "      <td>0</td>\n",
       "    </tr>\n",
       "    <tr>\n",
       "      <th>3</th>\n",
       "      <td>ran room</td>\n",
       "      <td>0</td>\n",
       "    </tr>\n",
       "    <tr>\n",
       "      <th>4</th>\n",
       "      <td>know see god one apart nothing rubbish fancy</td>\n",
       "      <td>0</td>\n",
       "    </tr>\n",
       "  </tbody>\n",
       "</table>\n",
       "</div>"
      ],
      "text/plain": [
       "                                                 doc  label\n",
       "0  sum spent yesterday asserted dmitri fyodorovit...      0\n",
       "1  easily imagine father man could would bring ch...      0\n",
       "2  mentioned already looked bloated countenance t...      0\n",
       "3                                           ran room      0\n",
       "4       know see god one apart nothing rubbish fancy      0"
      ]
     },
     "execution_count": 12,
     "metadata": {
      "tags": []
     },
     "output_type": "execute_result"
    }
   ],
   "source": [
    "df.head()"
   ]
  },
  {
   "cell_type": "code",
   "execution_count": 13,
   "metadata": {
    "colab": {
     "base_uri": "https://localhost:8080/",
     "height": 34
    },
    "colab_type": "code",
    "id": "oYqCYed2nnEC",
    "outputId": "8c37a84f-fd90-48c6-8da0-278b34b154b1"
   },
   "outputs": [
    {
     "name": "stdout",
     "output_type": "stream",
     "text": [
      "(5932,) (1482,) (5932,) (1482,)\n"
     ]
    }
   ],
   "source": [
    "## Split data into train and test sets ##\n",
    "\n",
    "X_train, X_test, y_train, y_test = split_data(df)\n",
    "print(X_train.shape, X_test.shape, y_train.shape, y_test.shape)"
   ]
  },
  {
   "cell_type": "code",
   "execution_count": 14,
   "metadata": {
    "colab": {
     "base_uri": "https://localhost:8080/",
     "height": 85
    },
    "colab_type": "code",
    "id": "S2zG124InnEI",
    "outputId": "a84c2053-87b7-4a60-b436-2f012b418b59"
   },
   "outputs": [
    {
     "data": {
      "text/plain": [
       "0    2001\n",
       "1    1967\n",
       "2    1964\n",
       "Name: label, dtype: int64"
      ]
     },
     "execution_count": 14,
     "metadata": {
      "tags": []
     },
     "output_type": "execute_result"
    }
   ],
   "source": [
    "y_train.value_counts()"
   ]
  },
  {
   "cell_type": "code",
   "execution_count": 15,
   "metadata": {
    "colab": {
     "base_uri": "https://localhost:8080/",
     "height": 34
    },
    "colab_type": "code",
    "id": "0ZlrLiZ2nnEL",
    "outputId": "7f27d166-b20c-403f-f1f8-bacce1eed173"
   },
   "outputs": [
    {
     "name": "stdout",
     "output_type": "stream",
     "text": [
      "(5932, 3) (1482, 3)\n"
     ]
    }
   ],
   "source": [
    "y_train_encoded = np_utils.to_categorical(y_train)\n",
    "y_test_encoded = np_utils.to_categorical(y_test)\n",
    "\n",
    "print(y_train_encoded.shape, y_test_encoded.shape)"
   ]
  },
  {
   "cell_type": "code",
   "execution_count": 16,
   "metadata": {
    "colab": {
     "base_uri": "https://localhost:8080/",
     "height": 51
    },
    "colab_type": "code",
    "id": "uliXIwiAnnEP",
    "outputId": "a5fba121-ab9e-49bd-f8a4-8d53b8a78847"
   },
   "outputs": [
    {
     "name": "stdout",
     "output_type": "stream",
     "text": [
      "All tokens size:  154837\n",
      "Unique tokens size:  15297\n"
     ]
    }
   ],
   "source": [
    "all_tokens = (\" \".join(X_train)).split()\n",
    "unique_tokens = set(all_tokens)\n",
    "\n",
    "print(\"All tokens size: \", len(all_tokens))\n",
    "print(\"Unique tokens size: \", len(unique_tokens))"
   ]
  },
  {
   "cell_type": "code",
   "execution_count": 17,
   "metadata": {
    "colab": {
     "base_uri": "https://localhost:8080/",
     "height": 34
    },
    "colab_type": "code",
    "id": "Ym3g43txnnET",
    "outputId": "caa276a1-65eb-41d4-db04-f6c2ea84fbeb"
   },
   "outputs": [
    {
     "data": {
      "text/plain": [
       "5670"
      ]
     },
     "execution_count": 17,
     "metadata": {
      "tags": []
     },
     "output_type": "execute_result"
    }
   ],
   "source": [
    "max(X_train.apply(lambda x: len(x)))"
   ]
  },
  {
   "cell_type": "code",
   "execution_count": 0,
   "metadata": {
    "colab": {},
    "colab_type": "code",
    "id": "U7FR8k07nnEW"
   },
   "outputs": [],
   "source": [
    "# Hyperparameters\n",
    "VOCAB_SIZE = len(unique_tokens) + 1\n",
    "EMBEDDING_DIMS = 100\n",
    "MAX_SEQUENCE_LENGTH = 3000\n",
    "FILTERS = 128 \n",
    "KERNEL_SIZE = 5 \n",
    "BATCH_SIZE = 128\n",
    "learning_rate = 1e-3\n",
    "es = EarlyStopping(monitor='val_loss', mode='min', verbose=1, patience=5)"
   ]
  },
  {
   "cell_type": "code",
   "execution_count": 19,
   "metadata": {
    "colab": {
     "base_uri": "https://localhost:8080/",
     "height": 34
    },
    "colab_type": "code",
    "id": "Gith1pUcnnEZ",
    "outputId": "b7221d9d-d6e6-42ee-e6bd-3709c7bee480"
   },
   "outputs": [
    {
     "name": "stdout",
     "output_type": "stream",
     "text": [
      "(5932, 3000)\n"
     ]
    }
   ],
   "source": [
    "#zero padding\n",
    "tokenizer = text.Tokenizer(num_words=VOCAB_SIZE)\n",
    "tokenizer.fit_on_texts(X_train)\n",
    "\n",
    "train = tokenizer.texts_to_sequences(X_train)\n",
    "test = tokenizer.texts_to_sequences(X_test)\n",
    "\n",
    "train = sequence.pad_sequences(train, maxlen=MAX_SEQUENCE_LENGTH)\n",
    "test = sequence.pad_sequences(test, maxlen=MAX_SEQUENCE_LENGTH)\n",
    "\n",
    "print(train.shape)"
   ]
  },
  {
   "cell_type": "code",
   "execution_count": 0,
   "metadata": {
    "colab": {},
    "colab_type": "code",
    "id": "4P9y35w7nnEb"
   },
   "outputs": [],
   "source": [
    "# using pretrained glove\n",
    "\n",
    "embedding_matrix = np.zeros((VOCAB_SIZE, EMBEDDING_DIMS))\n",
    "\n",
    "embeddings_index = dict()\n",
    "f = open('/content/gdrive/My Drive/Stevens/Spring 2019/ML/glove.6B.100d.txt', encoding='utf-8')\n",
    "for line in f:\n",
    "    values = line.split()\n",
    "    word = values[0]\n",
    "    coefs = np.asarray(values[1:], dtype='float32')\n",
    "    embeddings_index[word] = coefs\n",
    "f.close()\n",
    "\n",
    "for word, index in tokenizer.word_index.items():\n",
    "    if index > VOCAB_SIZE - 1:\n",
    "        break\n",
    "    else:\n",
    "        embedding_vector = embeddings_index.get(word)\n",
    "        if embedding_vector is not None:\n",
    "            embedding_matrix[index] = embedding_vector"
   ]
  },
  {
   "cell_type": "code",
   "execution_count": 28,
   "metadata": {
    "colab": {
     "base_uri": "https://localhost:8080/",
     "height": 34
    },
    "colab_type": "code",
    "id": "wFPr8_NDnnEh",
    "outputId": "9dd863e6-2e6f-4717-e49b-9bb6b5108069"
   },
   "outputs": [
    {
     "name": "stdout",
     "output_type": "stream",
     "text": [
      "Training model...\n"
     ]
    }
   ],
   "source": [
    "embedding_layer = Embedding(VOCAB_SIZE,\n",
    "                            EMBEDDING_DIMS,\n",
    "                            input_length=MAX_SEQUENCE_LENGTH,\n",
    "                            trainable=False)\n",
    "\n",
    "print('Training model...')\n",
    "\n",
    "# train a 1D convnet with global maxpooling\n",
    "sequence_input = Input(shape=(MAX_SEQUENCE_LENGTH,), dtype='int32')\n",
    "embedded_sequences = embedding_layer(sequence_input)\n",
    "x = Conv1D(FILTERS, KERNEL_SIZE, activation='relu')(embedded_sequences)\n",
    "x = GlobalMaxPooling1D()(x)\n",
    "output_layer = Dense(3, activation='softmax')(x)"
   ]
  },
  {
   "cell_type": "code",
   "execution_count": 0,
   "metadata": {
    "colab": {},
    "colab_type": "code",
    "id": "dQqv69IXnnEk"
   },
   "outputs": [],
   "source": [
    "from tensorflow.keras.optimizers import Adam\n",
    "\n",
    "optimizer = Adam(learning_rate=learning_rate)\n",
    "\n",
    "model = Model(sequence_input, output_layer)\n",
    "model.compile(loss='categorical_crossentropy',\n",
    "              optimizer=optimizer)"
   ]
  },
  {
   "cell_type": "code",
   "execution_count": 30,
   "metadata": {
    "colab": {
     "base_uri": "https://localhost:8080/",
     "height": 323
    },
    "colab_type": "code",
    "id": "nE4h6JVfnnEp",
    "outputId": "7c48fab5-5be9-45a2-fdfa-8c402f1ea1c4"
   },
   "outputs": [
    {
     "name": "stdout",
     "output_type": "stream",
     "text": [
      "Model: \"model_1\"\n",
      "_________________________________________________________________\n",
      "Layer (type)                 Output Shape              Param #   \n",
      "=================================================================\n",
      "input_2 (InputLayer)         [(None, 3000)]            0         \n",
      "_________________________________________________________________\n",
      "embedding_1 (Embedding)      (None, 3000, 100)         1529800   \n",
      "_________________________________________________________________\n",
      "conv1d_3 (Conv1D)            (None, 2996, 128)         64128     \n",
      "_________________________________________________________________\n",
      "global_max_pooling1d_1 (Glob (None, 128)               0         \n",
      "_________________________________________________________________\n",
      "dense_2 (Dense)              (None, 3)                 387       \n",
      "=================================================================\n",
      "Total params: 1,594,315\n",
      "Trainable params: 64,515\n",
      "Non-trainable params: 1,529,800\n",
      "_________________________________________________________________\n"
     ]
    }
   ],
   "source": [
    "model.summary()"
   ]
  },
  {
   "cell_type": "code",
   "execution_count": 31,
   "metadata": {
    "colab": {
     "base_uri": "https://localhost:8080/",
     "height": 1000
    },
    "colab_type": "code",
    "id": "X7Ym6gXennEr",
    "outputId": "547be055-f9a1-48af-ebc5-665045ec179c"
   },
   "outputs": [
    {
     "name": "stdout",
     "output_type": "stream",
     "text": [
      "Train on 4745 samples, validate on 1187 samples\n",
      "Epoch 1/100\n",
      "4745/4745 [==============================] - 4s 864us/sample - loss: 1.0783 - val_loss: 1.0639\n",
      "Epoch 2/100\n",
      "4745/4745 [==============================] - 4s 811us/sample - loss: 1.0465 - val_loss: 1.0417\n",
      "Epoch 3/100\n",
      "4745/4745 [==============================] - 4s 810us/sample - loss: 1.0142 - val_loss: 1.0142\n",
      "Epoch 4/100\n",
      "4745/4745 [==============================] - 4s 815us/sample - loss: 0.9680 - val_loss: 0.9713\n",
      "Epoch 5/100\n",
      "4745/4745 [==============================] - 4s 810us/sample - loss: 0.9066 - val_loss: 0.9194\n",
      "Epoch 6/100\n",
      "4745/4745 [==============================] - 4s 808us/sample - loss: 0.8443 - val_loss: 0.8747\n",
      "Epoch 7/100\n",
      "4745/4745 [==============================] - 4s 812us/sample - loss: 0.7847 - val_loss: 0.8416\n",
      "Epoch 8/100\n",
      "4745/4745 [==============================] - 4s 807us/sample - loss: 0.7378 - val_loss: 0.8126\n",
      "Epoch 9/100\n",
      "4745/4745 [==============================] - 4s 806us/sample - loss: 0.6938 - val_loss: 0.7924\n",
      "Epoch 10/100\n",
      "4745/4745 [==============================] - 4s 805us/sample - loss: 0.6563 - val_loss: 0.7771\n",
      "Epoch 11/100\n",
      "4745/4745 [==============================] - 4s 803us/sample - loss: 0.6248 - val_loss: 0.7627\n",
      "Epoch 12/100\n",
      "4745/4745 [==============================] - 4s 799us/sample - loss: 0.5927 - val_loss: 0.7497\n",
      "Epoch 13/100\n",
      "4745/4745 [==============================] - 4s 802us/sample - loss: 0.5597 - val_loss: 0.7371\n",
      "Epoch 14/100\n",
      "4745/4745 [==============================] - 4s 798us/sample - loss: 0.5325 - val_loss: 0.7327\n",
      "Epoch 15/100\n",
      "4745/4745 [==============================] - 4s 800us/sample - loss: 0.5060 - val_loss: 0.7174\n",
      "Epoch 16/100\n",
      "4745/4745 [==============================] - 4s 801us/sample - loss: 0.4812 - val_loss: 0.7113\n",
      "Epoch 17/100\n",
      "4745/4745 [==============================] - 4s 800us/sample - loss: 0.4599 - val_loss: 0.7053\n",
      "Epoch 18/100\n",
      "4745/4745 [==============================] - 4s 801us/sample - loss: 0.4355 - val_loss: 0.7005\n",
      "Epoch 19/100\n",
      "4745/4745 [==============================] - 4s 802us/sample - loss: 0.4145 - val_loss: 0.6944\n",
      "Epoch 20/100\n",
      "4745/4745 [==============================] - 4s 803us/sample - loss: 0.3952 - val_loss: 0.6862\n",
      "Epoch 21/100\n",
      "4745/4745 [==============================] - 4s 801us/sample - loss: 0.3756 - val_loss: 0.6803\n",
      "Epoch 22/100\n",
      "4745/4745 [==============================] - 4s 801us/sample - loss: 0.3573 - val_loss: 0.6764\n",
      "Epoch 23/100\n",
      "4745/4745 [==============================] - 4s 800us/sample - loss: 0.3406 - val_loss: 0.6752\n",
      "Epoch 24/100\n",
      "4745/4745 [==============================] - 4s 802us/sample - loss: 0.3237 - val_loss: 0.6751\n",
      "Epoch 25/100\n",
      "4745/4745 [==============================] - 4s 796us/sample - loss: 0.3086 - val_loss: 0.6660\n",
      "Epoch 26/100\n",
      "4745/4745 [==============================] - 4s 799us/sample - loss: 0.2936 - val_loss: 0.6614\n",
      "Epoch 27/100\n",
      "4745/4745 [==============================] - 4s 800us/sample - loss: 0.2796 - val_loss: 0.6586\n",
      "Epoch 28/100\n",
      "4745/4745 [==============================] - 4s 798us/sample - loss: 0.2668 - val_loss: 0.6590\n",
      "Epoch 29/100\n",
      "4745/4745 [==============================] - 4s 799us/sample - loss: 0.2558 - val_loss: 0.6555\n",
      "Epoch 30/100\n",
      "4745/4745 [==============================] - 4s 799us/sample - loss: 0.2434 - val_loss: 0.6541\n",
      "Epoch 31/100\n",
      "4745/4745 [==============================] - 4s 802us/sample - loss: 0.2326 - val_loss: 0.6522\n",
      "Epoch 32/100\n",
      "4745/4745 [==============================] - 4s 804us/sample - loss: 0.2243 - val_loss: 0.6507\n",
      "Epoch 33/100\n",
      "4745/4745 [==============================] - 4s 807us/sample - loss: 0.2116 - val_loss: 0.6481\n",
      "Epoch 34/100\n",
      "4745/4745 [==============================] - 4s 803us/sample - loss: 0.2023 - val_loss: 0.6454\n",
      "Epoch 35/100\n",
      "4745/4745 [==============================] - 4s 806us/sample - loss: 0.1927 - val_loss: 0.6459\n",
      "Epoch 36/100\n",
      "4745/4745 [==============================] - 4s 802us/sample - loss: 0.1870 - val_loss: 0.6445\n",
      "Epoch 37/100\n",
      "4745/4745 [==============================] - 4s 804us/sample - loss: 0.1773 - val_loss: 0.6418\n",
      "Epoch 38/100\n",
      "4745/4745 [==============================] - 4s 802us/sample - loss: 0.1706 - val_loss: 0.6560\n",
      "Epoch 39/100\n",
      "4745/4745 [==============================] - 4s 804us/sample - loss: 0.1653 - val_loss: 0.6444\n",
      "Epoch 40/100\n",
      "4745/4745 [==============================] - 4s 804us/sample - loss: 0.1565 - val_loss: 0.6446\n",
      "Epoch 41/100\n",
      "4745/4745 [==============================] - 4s 804us/sample - loss: 0.1531 - val_loss: 0.6403\n",
      "Epoch 42/100\n",
      "4745/4745 [==============================] - 4s 804us/sample - loss: 0.1443 - val_loss: 0.6452\n",
      "Epoch 43/100\n",
      "4745/4745 [==============================] - 4s 805us/sample - loss: 0.1397 - val_loss: 0.6481\n",
      "Epoch 44/100\n",
      "4745/4745 [==============================] - 4s 804us/sample - loss: 0.1330 - val_loss: 0.6455\n",
      "Epoch 45/100\n",
      "4745/4745 [==============================] - 4s 806us/sample - loss: 0.1322 - val_loss: 0.6555\n",
      "Epoch 46/100\n",
      "4745/4745 [==============================] - 4s 801us/sample - loss: 0.1252 - val_loss: 0.6464\n",
      "Epoch 00046: early stopping\n"
     ]
    }
   ],
   "source": [
    "EPOCHS = 100\n",
    "\n",
    "history = model.fit(train, y_train_encoded, batch_size=BATCH_SIZE, epochs=EPOCHS,\n",
    "                   validation_split=0.20, callbacks=[es])"
   ]
  },
  {
   "cell_type": "code",
   "execution_count": 32,
   "metadata": {
    "colab": {
     "base_uri": "https://localhost:8080/",
     "height": 295
    },
    "colab_type": "code",
    "id": "Qnt_RcvunnEu",
    "outputId": "f0db5e01-fb20-4832-a1a7-0f3b56c3fe9b"
   },
   "outputs": [
    {
     "data": {
      "image/png": "[encoded data removed]",
      "text/plain": [
       "<Figure size 432x288 with 1 Axes>"
      ]
     },
     "metadata": {
      "tags": []
     },
     "output_type": "display_data"
    }
   ],
   "source": [
    "# plot\n",
    "plot_loss(history.history['loss'], history.history['val_loss'], \"plot\")"
   ]
  },
  {
   "cell_type": "code",
   "execution_count": 33,
   "metadata": {
    "colab": {
     "base_uri": "https://localhost:8080/",
     "height": 85
    },
    "colab_type": "code",
    "id": "VmgfzIFEwXeG",
    "outputId": "2d440844-d190-4ba1-9439-86347d347646"
   },
   "outputs": [
    {
     "name": "stdout",
     "output_type": "stream",
     "text": [
      "Classification loss on validation set:  0.6464307480683925\n",
      "\n",
      "1482/1482 [==============================] - 1s 531us/sample - loss: 0.6704\n",
      "Classification loss on test set:  0.6703664288829695\n"
     ]
    }
   ],
   "source": [
    "print(\"Classification loss on validation set: \", history.history['val_loss'][-1])\n",
    "print()\n",
    "classification_loss = model.evaluate(test, y_test_encoded)\n",
    "print(\"Classification loss on test set: \", classification_loss)"
   ]
  },
  {
   "cell_type": "code",
   "execution_count": 34,
   "metadata": {
    "colab": {
     "base_uri": "https://localhost:8080/",
     "height": 136
    },
    "colab_type": "code",
    "id": "MKipglD4nnE4",
    "outputId": "b5fa8735-2862-45b0-8be6-9b9584965651"
   },
   "outputs": [
    {
     "data": {
      "text/plain": [
       "array([[2.7280137e-01, 5.1823342e-01, 2.0896527e-01],\n",
       "       [8.0405008e-03, 8.3174400e-02, 9.0878510e-01],\n",
       "       [1.4867629e-01, 6.7012526e-02, 7.8431118e-01],\n",
       "       ...,\n",
       "       [9.8187968e-02, 7.3745149e-01, 1.6436054e-01],\n",
       "       [3.4700677e-01, 3.2723764e-01, 3.2575554e-01],\n",
       "       [9.9907339e-01, 6.0670695e-04, 3.1995753e-04]], dtype=float32)"
      ]
     },
     "execution_count": 34,
     "metadata": {
      "tags": []
     },
     "output_type": "execute_result"
    }
   ],
   "source": [
    "preds = model.predict(test)\n",
    "preds"
   ]
  },
  {
   "cell_type": "code",
   "execution_count": 0,
   "metadata": {
    "colab": {},
    "colab_type": "code",
    "id": "RpSQWGGqy4cF"
   },
   "outputs": [],
   "source": [
    "classes = np.argmax(preds, axis=1)"
   ]
  },
  {
   "cell_type": "code",
   "execution_count": 36,
   "metadata": {
    "colab": {
     "base_uri": "https://localhost:8080/",
     "height": 34
    },
    "colab_type": "code",
    "id": "wjkyxlqvy4cI",
    "outputId": "0a5d72b9-b7c2-4548-f82a-a74da39a3aff"
   },
   "outputs": [
    {
     "data": {
      "text/plain": [
       "0.7105263157894737"
      ]
     },
     "execution_count": 36,
     "metadata": {
      "tags": []
     },
     "output_type": "execute_result"
    }
   ],
   "source": [
    "from sklearn.metrics import accuracy_score\n",
    "\n",
    "accuracy_score(y_test, classes)"
   ]
  },
  {
   "cell_type": "code",
   "execution_count": 37,
   "metadata": {
    "colab": {
     "base_uri": "https://localhost:8080/",
     "height": 85
    },
    "colab_type": "code",
    "id": "qHL9GJaCy4cK",
    "outputId": "fdcab392-ce2c-42dc-87b3-a7ed95bba104"
   },
   "outputs": [
    {
     "data": {
      "text/plain": [
       "1    576\n",
       "2    455\n",
       "0    451\n",
       "dtype: int64"
      ]
     },
     "execution_count": 37,
     "metadata": {
      "tags": []
     },
     "output_type": "execute_result"
    }
   ],
   "source": [
    "pd.Series(classes).value_counts()"
   ]
  },
  {
   "cell_type": "code",
   "execution_count": 0,
   "metadata": {
    "colab": {},
    "colab_type": "code",
    "id": "XEedQROiy4cQ"
   },
   "outputs": [],
   "source": []
  }
 ],
 "metadata": {
  "accelerator": "GPU",
  "colab": {
   "collapsed_sections": [],
   "name": "Q1_assignment_4_viveksinh_solanki.ipynb",
   "provenance": []
  },
  "kernelspec": {
   "display_name": "Python 3",
   "language": "python",
   "name": "python3"
  },
  "language_info": {
   "codemirror_mode": {
    "name": "ipython",
    "version": 3
   },
   "file_extension": ".py",
   "mimetype": "text/x-python",
   "name": "python",
   "nbconvert_exporter": "python",
   "pygments_lexer": "ipython3",
   "version": "3.7.3"
  }
 },
 "nbformat": 4,
 "nbformat_minor": 1
}
