{
 "cells": [
  {
   "cell_type": "code",
   "execution_count": 0,
   "metadata": {
    "colab": {},
    "colab_type": "code",
    "id": "RJZIflock3wK"
   },
   "outputs": [],
   "source": [
    "# execute this to mount google drive inside colab\n",
    "# from google.colab import drive\n",
    "# drive.mount('/content/drive')"
   ]
  },
  {
   "cell_type": "code",
   "execution_count": 0,
   "metadata": {
    "colab": {},
    "colab_type": "code",
    "id": "tnxXKDjq3jEL"
   },
   "outputs": [],
   "source": [
    "# for google colab only\n",
    "%tensorflow_version 2.x\n",
    "\n",
    "import tensorflow as tf\n",
    "from tensorflow.keras.preprocessing.text import Tokenizer\n",
    "from tensorflow.keras.preprocessing import sequence\n",
    "\n",
    "import matplotlib.pyplot as plt\n",
    "import matplotlib.ticker as ticker\n",
    "from sklearn.model_selection import train_test_split\n",
    "\n",
    "import unicodedata\n",
    "import re\n",
    "import numpy as np\n",
    "import os\n",
    "\n",
    "### Reference article ###\n",
    "### https://www.tensorflow.org/tutorials/text/nmt_with_attention"
   ]
  },
  {
   "cell_type": "code",
   "execution_count": 0,
   "metadata": {
    "colab": {},
    "colab_type": "code",
    "id": "kRVATYOgJs1b"
   },
   "outputs": [],
   "source": [
    "# this path is for google drive mounted in google colab. If you want to use file from local directory\n",
    "# I request you to modify this path\n",
    "\n",
    "file_path = \"/content/drive/My Drive/Stevens/Fall 2019/NLP/fra.txt\" "
   ]
  },
  {
   "cell_type": "code",
   "execution_count": 0,
   "metadata": {
    "colab": {},
    "colab_type": "code",
    "id": "rd0jw-eC3jEh"
   },
   "outputs": [],
   "source": [
    "# Converts the unicode file to ascii\n",
    "def unicode_to_ascii(s):\n",
    "    return ''.join(c for c in unicodedata.normalize('NFD', s)\n",
    "        if unicodedata.category(c) != 'Mn')\n",
    "\n",
    "# data preprocessing\n",
    "def data_preprocessing(w):\n",
    "    w = unicode_to_ascii(w.lower().strip())\n",
    "\n",
    "    # adding extra space before punctuation\n",
    "    w = re.sub(r\"([?.!,¿])\", r\" \\1 \", w)\n",
    "    w = re.sub(r'[\" \"]+', \" \", w)\n",
    "\n",
    "    # removing unnecessary characters\n",
    "    w = re.sub(r\"[^a-zA-Z?.!,¿]+\", \" \", w)\n",
    "\n",
    "    w = w.rstrip().strip()\n",
    "\n",
    "    # adding a start and end token \n",
    "    w = '<start> ' + w + ' <end>'\n",
    "    return w\n",
    "\n",
    "# dataset creation\n",
    "def getPreprocessedLanguagePairs(path, sample_size):\n",
    "    with open(path, encoding='UTF-8') as f:\n",
    "        lines = f.read().strip().split('\\n')\n",
    "        lang_pairs = [[data_preprocessing(w) for w in l.split('\\t')]  for l in lines[:sample_size]]\n",
    "\n",
    "    return zip(*lang_pairs)\n",
    "\n",
    "def tokenize_corpus(corpus):\n",
    "    tokenizer = Tokenizer(filters='')\n",
    "    tokenizer.fit_on_texts(corpus)\n",
    "    tokenized_text = tokenizer.texts_to_sequences(corpus)\n",
    "    tokenized_text = sequence.pad_sequences(tokenized_text, padding='post')\n",
    "\n",
    "    return tokenized_text, tokenizer\n",
    "\n",
    "def getTokenizedPairs(path, sample_size=None):\n",
    "    eng_set, fr_set, _ = getPreprocessedLanguagePairs(path, sample_size)\n",
    "    eng_tokenized_text, eng_set_tokenizer = tokenize_corpus(eng_set)\n",
    "    fr_tokenized_text, fr_set_tokenizer = tokenize_corpus(fr_set)\n",
    "\n",
    "    return eng_tokenized_text, fr_tokenized_text, eng_set_tokenizer, fr_set_tokenizer"
   ]
  },
  {
   "cell_type": "code",
   "execution_count": 0,
   "metadata": {
    "colab": {},
    "colab_type": "code",
    "id": "cnxC7q-j3jFD"
   },
   "outputs": [],
   "source": [
    "# Google colab is crashing when using whole dataset, so taking small sample out of it\n",
    "sample_size = 50000\n",
    "eng_tokenized_text, fr_tokenized_text, eng_set_tokenizer, fr_set_tokenizer = getTokenizedPairs(file_path, \n",
    "                                                                                               sample_size)\n",
    "\n",
    "max_length_fr = max(len(text) for text in fr_tokenized_text) \n",
    "max_length_eng = max(len(text) for text in eng_tokenized_text) "
   ]
  },
  {
   "cell_type": "code",
   "execution_count": 0,
   "metadata": {
    "colab": {},
    "colab_type": "code",
    "id": "4QILQkOs3jFG"
   },
   "outputs": [],
   "source": [
    "# Splitting set into train and test\n",
    "X_train, X_test, y_train, y_test = train_test_split(eng_tokenized_text, fr_tokenized_text, test_size=0.2, random_state=13)\n",
    "\n",
    "# Show length\n",
    "print(len(X_train), len(y_train), len(X_test), len(y_test))"
   ]
  },
  {
   "cell_type": "code",
   "execution_count": 0,
   "metadata": {
    "colab": {},
    "colab_type": "code",
    "id": "TqHsArVZ3jFS"
   },
   "outputs": [],
   "source": [
    "# Hyperparameters\n",
    "BUFFER_SIZE = len(X_train)\n",
    "BATCH_SIZE = 64\n",
    "steps_per_epoch = len(X_train)//BATCH_SIZE\n",
    "embedding_dim = 100 \n",
    "units = 512 \n",
    "vocab_en_size = len(eng_set_tokenizer.word_index)+1\n",
    "vocab_fr_size = len(fr_set_tokenizer.word_index)+1\n",
    "\n",
    "dataset = tf.data.Dataset.from_tensor_slices((X_train, y_train)).shuffle(BUFFER_SIZE)\n",
    "dataset = dataset.batch(BATCH_SIZE, drop_remainder=True)\n",
    "\n",
    "input_batch, target_batch = next(iter(dataset))"
   ]
  },
  {
   "cell_type": "code",
   "execution_count": 0,
   "metadata": {
    "colab": {},
    "colab_type": "code",
    "id": "nZ2rI24i3jFg"
   },
   "outputs": [],
   "source": [
    "# Encoder RNN Class\n",
    "class Encoder(tf.keras.Model):\n",
    "    def __init__(self, vocab_size, embedding_dim, encoder_units, batch_size):\n",
    "        super(Encoder, self).__init__()\n",
    "        self.batch_size = batch_size\n",
    "        self.encoder_units = encoder_units\n",
    "        self.embedding = tf.keras.layers.Embedding(vocab_size, embedding_dim)\n",
    "        self.gru = tf.keras.layers.GRU(self.encoder_units,\n",
    "                                       return_sequences=True,\n",
    "                                       return_state=True)\n",
    "\n",
    "    def call(self, x, hidden):\n",
    "        x = self.embedding(x)\n",
    "        output, state = self.gru(x, initial_state = hidden)\n",
    "        return output, state\n",
    "\n",
    "    def initialize_hidden_state(self):\n",
    "        return tf.zeros((self.batch_size, self.encoder_units))\n",
    "\n",
    "# Attention Class\n",
    "class AttentionLayer(tf.keras.layers.Layer):\n",
    "    def __init__(self, units):\n",
    "        super(AttentionLayer, self).__init__()\n",
    "        self.W1 = tf.keras.layers.Dense(units)\n",
    "        self.W2 = tf.keras.layers.Dense(units)\n",
    "        self.V = tf.keras.layers.Dense(1)\n",
    "\n",
    "    def call(self, query, values):\n",
    "        hidden_with_time_axis = tf.expand_dims(query, 1)\n",
    "\n",
    "        score = self.V(tf.nn.tanh(\n",
    "            self.W1(values) + self.W2(hidden_with_time_axis)))\n",
    "\n",
    "        # attention_weights.shape = (batch_size, max_length, 1)\n",
    "        attention_weights = tf.nn.softmax(score, axis=1)\n",
    "\n",
    "        # context_vector.shape = (batch_size, hidden_size)\n",
    "        context_vector = attention_weights * values\n",
    "        context_vector = tf.reduce_sum(context_vector, axis=1)\n",
    "\n",
    "        return context_vector, attention_weights\n",
    "\n",
    "# Decoder RNN class\n",
    "class Decoder(tf.keras.Model):\n",
    "    def __init__(self, vocab_size, embedding_dim, decoder_units, batch_size):\n",
    "        super(Decoder, self).__init__()\n",
    "        self.batch_size = batch_size\n",
    "        self.decoder_units = decoder_units\n",
    "        self.embedding = tf.keras.layers.Embedding(vocab_size, embedding_dim)\n",
    "        self.gru = tf.keras.layers.GRU(self.decoder_units,\n",
    "                                       return_sequences=True,\n",
    "                                       return_state=True)\n",
    "        self.fc = tf.keras.layers.Dense(vocab_size)\n",
    "\n",
    "        # attention\n",
    "        self.attention = AttentionLayer(self.decoder_units)\n",
    "\n",
    "    def call(self, x, hidden, enc_output):\n",
    "        context_vector, attention_weights = self.attention(hidden, enc_output)\n",
    "\n",
    "        x = self.embedding(x)\n",
    "        x = tf.concat([tf.expand_dims(context_vector, 1), x], axis=-1)\n",
    "\n",
    "        # passing the concatenated vector to the LSTM\n",
    "        output, state = self.gru(x)\n",
    "        output = tf.reshape(output, (-1, output.shape[2]))\n",
    "        x = self.fc(output)\n",
    "\n",
    "        return x, state, attention_weights"
   ]
  },
  {
   "cell_type": "code",
   "execution_count": 0,
   "metadata": {
    "colab": {},
    "colab_type": "code",
    "id": "60gSVh05Jl6l"
   },
   "outputs": [],
   "source": [
    "encoder = Encoder(vocab_en_size, embedding_dim, units, BATCH_SIZE)\n",
    "\n",
    "# sample input\n",
    "encoder_hidden = encoder.initialize_hidden_state()\n",
    "encoder_output, encoder_hidden = encoder(input_batch, encoder_hidden)\n",
    "\n",
    "attention_layer = AttentionLayer(10)\n",
    "attention_result, attention_weights = attention_layer(encoder_hidden, encoder_output)\n",
    "\n",
    "decoder = Decoder(vocab_fr_size, embedding_dim, units, BATCH_SIZE)\n",
    "\n",
    "sample_decoder_output, _, _ = decoder(tf.random.uniform((64, 1)),\n",
    "                                      encoder_hidden, encoder_output)"
   ]
  },
  {
   "cell_type": "code",
   "execution_count": 0,
   "metadata": {
    "colab": {},
    "colab_type": "code",
    "id": "WmTHr5iV3jFr"
   },
   "outputs": [],
   "source": [
    "# Loss\n",
    "optimizer = tf.keras.optimizers.Adam()\n",
    "loss_object = tf.keras.losses.SparseCategoricalCrossentropy(from_logits=True, reduction='none')\n",
    "\n",
    "def loss_function(real, pred):\n",
    "    mask = tf.math.logical_not(tf.math.equal(real, 0))\n",
    "    loss_ = loss_object(real, pred)\n",
    "\n",
    "    mask = tf.cast(mask, dtype=loss_.dtype)\n",
    "    loss_ *= mask\n",
    "\n",
    "    return tf.reduce_mean(loss_)"
   ]
  },
  {
   "cell_type": "code",
   "execution_count": 0,
   "metadata": {
    "colab": {},
    "colab_type": "code",
    "id": "sC9ArXSsVfqn"
   },
   "outputs": [],
   "source": [
    "# Model training\n",
    "@tf.function\n",
    "def training(en, fr, enc_hidden):\n",
    "    loss = 0\n",
    "\n",
    "    with tf.GradientTape() as tape:\n",
    "        enc_output, enc_hidden = encoder(en, enc_hidden)\n",
    "        dec_hidden = enc_hidden\n",
    "        dec_input = tf.expand_dims([fr_set_tokenizer.word_index['<start>']] * BATCH_SIZE, 1)\n",
    "\n",
    "        # taking target as input to next \n",
    "        for t in range(1, fr.shape[1]):\n",
    "            # passing enc_output to the decoder\n",
    "            predictions, dec_hidden, _ = decoder(dec_input, dec_hidden, enc_output)\n",
    "            loss += loss_function(fr[:, t], predictions)\n",
    "            dec_input = tf.expand_dims(fr[:, t], 1)\n",
    "\n",
    "    # calculate batch loss\n",
    "    batch_loss = (loss / int(fr.shape[1]))\n",
    "\n",
    "    variables = encoder.trainable_variables + decoder.trainable_variables\n",
    "    gradients = tape.gradient(loss, variables)\n",
    "    optimizer.apply_gradients(zip(gradients, variables))\n",
    "\n",
    "    return batch_loss"
   ]
  },
  {
   "cell_type": "code",
   "execution_count": 0,
   "metadata": {
    "colab": {},
    "colab_type": "code",
    "id": "ddefjBMa3jF0"
   },
   "outputs": [],
   "source": [
    "EPOCHS = 201\n",
    "\n",
    "for epoch in range(1, EPOCHS):\n",
    "    # print(\"Epoch #%d\"%epoch)\n",
    "    enc_hidden = encoder.initialize_hidden_state()\n",
    "    total_loss = 0\n",
    "\n",
    "    for (batch, (en, fr)) in enumerate(dataset.take(steps_per_epoch)):\n",
    "        batch_loss = training(en, fr, enc_hidden)\n",
    "        total_loss += batch_loss\n",
    "\n",
    "    # printing loss after every 20 epochs  \n",
    "    if(epoch%20==0):\n",
    "        print('Epoch {} Loss {:.4f}'.format(epoch, total_loss / steps_per_epoch))"
   ]
  },
  {
   "cell_type": "code",
   "execution_count": 0,
   "metadata": {
    "colab": {},
    "colab_type": "code",
    "id": "EbQpyYs13jF_"
   },
   "outputs": [],
   "source": [
    "def translate(sentence):\n",
    "    inputs = [eng_set_tokenizer.word_index[i] for i in sentence.split(' ')]\n",
    "    inputs = tf.keras.preprocessing.sequence.pad_sequences([inputs],\n",
    "                                                           maxlen=max_length_eng,\n",
    "                                                           padding='post')\n",
    "    inputs = tf.convert_to_tensor(inputs)\n",
    "\n",
    "    result = ''\n",
    "\n",
    "    hidden = [tf.zeros((1, units))]\n",
    "    enc_out, enc_hidden = encoder(inputs, hidden)\n",
    "\n",
    "    dec_hidden = enc_hidden\n",
    "    dec_input = tf.expand_dims([fr_set_tokenizer.word_index['<start>']], 0)\n",
    "\n",
    "    for t in range(max_length_fr):\n",
    "        predictions, dec_hidden, attention_weights = decoder(dec_input,\n",
    "                                                             dec_hidden,\n",
    "                                                             enc_out)\n",
    "\n",
    "        attention_weights = tf.reshape(attention_weights, (-1, ))\n",
    "\n",
    "        predicted_id = tf.argmax(predictions[0]).numpy()\n",
    "\n",
    "        result += fr_set_tokenizer.index_word[predicted_id] + ' '\n",
    "\n",
    "        if fr_set_tokenizer.index_word[predicted_id] == '<end>':\n",
    "            return result\n",
    "\n",
    "        # the predicted ID is fed back into the model\n",
    "        dec_input = tf.expand_dims([predicted_id], 0)\n",
    "\n",
    "    return result "
   ]
  },
  {
   "cell_type": "code",
   "execution_count": 0,
   "metadata": {
    "colab": {},
    "colab_type": "code",
    "id": "sl9zUHzg3jGI"
   },
   "outputs": [],
   "source": [
    "# train-test set split in raw sentence format\n",
    "full_en_, full_fr_, _ = getPreprocessedLanguagePairs(file_path, sample_size)\n",
    "\n",
    "X_train_en, X_test_en, y_train_fr, y_test_fr = train_test_split(list(full_en_), list(full_fr_), test_size=0.2, random_state=13)\n",
    "\n",
    "len(y_test_fr), len(X_test_en)"
   ]
  },
  {
   "cell_type": "markdown",
   "metadata": {
    "colab_type": "text",
    "id": "pJAKXHsU47Wn"
   },
   "source": [
    "### Translation Demo"
   ]
  },
  {
   "cell_type": "code",
   "execution_count": 17,
   "metadata": {
    "colab": {
     "base_uri": "https://localhost:8080/",
     "height": 357
    },
    "colab_type": "code",
    "id": "-5jJTSgw4j9s",
    "outputId": "57a0c2c2-e1ee-4d8a-fe2f-5d106beff926"
   },
   "outputs": [
    {
     "name": "stdout",
     "output_type": "stream",
     "text": [
      "English Sentence: <start> add a little milk . <end>\n",
      "Predicted French translation: ajoute un peu de lait . <end> \n",
      "English Sentence: <start> i think it s funny . <end>\n",
      "Predicted French translation: je pense que c est drole . <end> \n",
      "English Sentence: <start> i liked the movie . <end>\n",
      "Predicted French translation: j ai aime le film . <end> \n",
      "English Sentence: <start> don t judge me . <end>\n",
      "Predicted French translation: ne me jugez pas . <end> \n",
      "English Sentence: <start> please come this way . <end>\n",
      "Predicted French translation: par ici , je vous prie . <end> \n",
      "English Sentence: <start> can you do it faster ? <end>\n",
      "Predicted French translation: arrives tu a le faire plus vite ? <end> \n",
      "English Sentence: <start> the airplane is ready . <end>\n",
      "Predicted French translation: le vent est pret . <end> \n",
      "English Sentence: <start> no one does that . <end>\n",
      "Predicted French translation: personne ne le sait . <end> \n",
      "English Sentence: <start> this is tasteless . <end>\n",
      "Predicted French translation: c est absurde . <end> \n",
      "English Sentence: <start> may i join you ? <end>\n",
      "Predicted French translation: puis je me joindre a vous ? <end> \n"
     ]
    }
   ],
   "source": [
    "for english_sent in X_test_en[:10]:\n",
    "    french_translation = translate(english_sent)\n",
    "    print('English Sentence: %s' % (english_sent))\n",
    "    print('Predicted French translation: {}'.format(french_translation))"
   ]
  },
  {
   "cell_type": "markdown",
   "metadata": {
    "colab_type": "text",
    "id": "n250XbnjOaqP"
   },
   "source": [
    "## BLEU Calculation for test set"
   ]
  },
  {
   "cell_type": "code",
   "execution_count": 0,
   "metadata": {
    "colab": {},
    "colab_type": "code",
    "id": "DUQVLVqUE1YW"
   },
   "outputs": [],
   "source": [
    "from nltk.translate.bleu_score import corpus_bleu\n",
    "from nltk.translate import bleu_score\n",
    "import nltk\n",
    "nltk.download('punkt')\n",
    "\n",
    "def remove_unnecessary_tokens(sentence):\n",
    "\n",
    "    # remove <start> and <end> tokens\n",
    "    w = re.sub(r'<start>', \"\", sentence)\n",
    "    w = re.sub(r'<end>', \"\", w)\n",
    "\n",
    "    # removing unnecessary characters\n",
    "    w = re.sub(r\"[^a-zA-Z]\", \" \", w)\n",
    "\n",
    "    return w.strip()"
   ]
  },
  {
   "cell_type": "code",
   "execution_count": 0,
   "metadata": {
    "colab": {},
    "colab_type": "code",
    "id": "r6JYWzdXDg9T"
   },
   "outputs": [],
   "source": [
    "references = []\n",
    "hypotheses = []\n",
    "\n",
    "for i in range(len(X_test_en)):\n",
    "    french_translation = translate(X_test_en[i])\n",
    "\n",
    "    #remove <start> and <end> tokens and other unnecessary characters\n",
    "    fr_ref = nltk.word_tokenize(remove_unnecessary_tokens(y_test_fr[i]))\n",
    "    fr_trans = nltk.word_tokenize(remove_unnecessary_tokens(french_translation))\n",
    "\n",
    "    references.append([fr_ref])\n",
    "    hypotheses.append(fr_trans)"
   ]
  },
  {
   "cell_type": "code",
   "execution_count": 20,
   "metadata": {
    "colab": {
     "base_uri": "https://localhost:8080/",
     "height": 187
    },
    "colab_type": "code",
    "id": "Rqj5lOIiEX52",
    "outputId": "19ce74ef-57b1-4cf9-e79f-48dc472ca5ad"
   },
   "outputs": [
    {
     "data": {
      "text/plain": [
       "[[['ajoutez', 'un', 'peu', 'de', 'lait']],\n",
       " [['je', 'pense', 'que', 'c', 'est', 'drole']],\n",
       " [['j', 'ai', 'aime', 'le', 'film']],\n",
       " [['ne', 'me', 'juge', 'pas']],\n",
       " [['par', 'ici', 's', 'il', 'vous', 'plait']],\n",
       " [['arrivez', 'vous', 'a', 'le', 'faire', 'plus', 'vite']],\n",
       " [['l', 'avion', 'est', 'pret']],\n",
       " [['personne', 'ne', 'fait', 'cela']],\n",
       " [['ca', 'n', 'a', 'aucun', 'gout']],\n",
       " [['puis', 'je', 'me', 'joindre', 'a', 'vous']]]"
      ]
     },
     "execution_count": 20,
     "metadata": {
      "tags": []
     },
     "output_type": "execute_result"
    }
   ],
   "source": [
    "references[:10]"
   ]
  },
  {
   "cell_type": "code",
   "execution_count": 21,
   "metadata": {
    "colab": {
     "base_uri": "https://localhost:8080/",
     "height": 187
    },
    "colab_type": "code",
    "id": "DpiB8WIoEhkG",
    "outputId": "ab730164-a5fa-4547-cc4e-7f9c39dd26f0"
   },
   "outputs": [
    {
     "data": {
      "text/plain": [
       "[['ajoute', 'un', 'peu', 'de', 'lait'],\n",
       " ['je', 'pense', 'que', 'c', 'est', 'drole'],\n",
       " ['j', 'ai', 'aime', 'le', 'film'],\n",
       " ['ne', 'me', 'jugez', 'pas'],\n",
       " ['par', 'ici', 'je', 'vous', 'prie'],\n",
       " ['arrives', 'tu', 'a', 'le', 'faire', 'plus', 'vite'],\n",
       " ['le', 'vent', 'est', 'pret'],\n",
       " ['personne', 'ne', 'le', 'sait'],\n",
       " ['c', 'est', 'absurde'],\n",
       " ['puis', 'je', 'me', 'joindre', 'a', 'vous']]"
      ]
     },
     "execution_count": 21,
     "metadata": {
      "tags": []
     },
     "output_type": "execute_result"
    }
   ],
   "source": [
    "hypotheses[:10]"
   ]
  },
  {
   "cell_type": "code",
   "execution_count": 22,
   "metadata": {
    "colab": {
     "base_uri": "https://localhost:8080/",
     "height": 34
    },
    "colab_type": "code",
    "id": "9cprqKTgE9LR",
    "outputId": "bc858dd8-009c-4114-eead-6c41d1842d31"
   },
   "outputs": [
    {
     "data": {
      "text/plain": [
       "0.3106569217107635"
      ]
     },
     "execution_count": 22,
     "metadata": {
      "tags": []
     },
     "output_type": "execute_result"
    }
   ],
   "source": [
    "corpus_bleu(references, hypotheses) "
   ]
  },
  {
   "cell_type": "code",
   "execution_count": 0,
   "metadata": {
    "colab": {},
    "colab_type": "code",
    "id": "4UdTpTVx5hBf"
   },
   "outputs": [],
   "source": []
  }
 ],
 "metadata": {
  "accelerator": "GPU",
  "colab": {
   "collapsed_sections": [],
   "name": "assignment_5_nlp.ipynb",
   "provenance": [],
   "toc_visible": true
  },
  "kernelspec": {
   "display_name": "Python 3",
   "language": "python",
   "name": "python3"
  },
  "language_info": {
   "codemirror_mode": {
    "name": "ipython",
    "version": 3
   },
   "file_extension": ".py",
   "mimetype": "text/x-python",
   "name": "python",
   "nbconvert_exporter": "python",
   "pygments_lexer": "ipython3",
   "version": "3.7.3"
  }
 },
 "nbformat": 4,
 "nbformat_minor": 1
}
