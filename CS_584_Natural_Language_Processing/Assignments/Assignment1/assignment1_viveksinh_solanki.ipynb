{
 "cells": [
  {
   "cell_type": "markdown",
   "metadata": {},
   "source": [
    "### Imports"
   ]
  },
  {
   "cell_type": "code",
   "execution_count": 1,
   "metadata": {},
   "outputs": [
    {
     "name": "stderr",
     "output_type": "stream",
     "text": [
      "[nltk_data] Downloading package punkt to\n",
      "[nltk_data]     C:\\Users\\Dell\\AppData\\Roaming\\nltk_data...\n",
      "[nltk_data]   Package punkt is already up-to-date!\n",
      "[nltk_data] Downloading package stopwords to\n",
      "[nltk_data]     C:\\Users\\Dell\\AppData\\Roaming\\nltk_data...\n",
      "[nltk_data]   Package stopwords is already up-to-date!\n",
      "Using TensorFlow backend.\n"
     ]
    }
   ],
   "source": [
    "import pandas as pd\n",
    "import numpy as np\n",
    "from scipy import sparse\n",
    "import re\n",
    "import os\n",
    "import sys\n",
    "import matplotlib.pyplot as plt\n",
    "\n",
    "from sklearn.neural_network import MLPClassifier\n",
    "from sklearn.feature_extraction.text import TfidfVectorizer\n",
    "from sklearn.model_selection import train_test_split\n",
    "from sklearn.model_selection import cross_validate\n",
    "from sklearn.model_selection import KFold\n",
    "from sklearn.metrics import accuracy_score\n",
    "\n",
    "import nltk\n",
    "from nltk.corpus import stopwords\n",
    "nltk.download('punkt')\n",
    "nltk.download('stopwords')\n",
    "\n",
    "# import keras\n",
    "from tensorflow.keras.models import Sequential\n",
    "from tensorflow.keras.layers import Dense\n",
    "from tensorflow.keras.optimizers import SGD\n",
    "from keras.utils import np_utils"
   ]
  },
  {
   "cell_type": "markdown",
   "metadata": {},
   "source": [
    "### Helper functions"
   ]
  },
  {
   "cell_type": "code",
   "execution_count": 2,
   "metadata": {},
   "outputs": [],
   "source": [
    "# preprocess given documents\n",
    "def preprocess_data(data):\n",
    "\n",
    "    # replace unnecessary characters with space\n",
    "    s = re.sub(r\"\\\\n\", \" \", str(data).lower())\n",
    "    s = re.sub(r\":\", \"\", s) \n",
    "    s = re.sub(r\"\\.\", \" \", s)\n",
    "    s = re.sub(r\"\\,\", \" \", s)\n",
    "    s = re.sub(r\"\\!\", \" \", s)\n",
    "    s = re.sub(r\"\\;\", \" \", s)\n",
    "    s = re.sub(r\"\\/\", \" \", s)\n",
    "    s = re.sub(r\"[^A-Za-z0-9^+-=]\", \" \", s)    \n",
    "\n",
    "    # tokenize the lower cased string \n",
    "    s = s.split()  \n",
    "    \n",
    "    # standard stop words list\n",
    "    stop_words = list(stopwords.words('english'))    \n",
    "\n",
    "    # Remove stop_words\n",
    "    s = [w for w in s if not w in stop_words] \n",
    "\n",
    "    # convert tokens back to document\n",
    "    s = \" \".join(s).rstrip()  \n",
    "\n",
    "    return str(s)\n",
    "\n",
    "def read_data_into_dataframe(dir_path, filename):\n",
    "    \n",
    "    doc_list = []\n",
    "  \n",
    "    with open(os.path.join(dir_path, filename), 'r', encoding='utf-8') as f:\n",
    "        doc_list = f.read().split('\\n\\n')        \n",
    "        \n",
    "    return pd.DataFrame(data=np.array(doc_list).reshape(-1, 1), columns=['doc'])\n",
    "\n",
    "def create_final_dataset():\n",
    "    # textfile path\n",
    "    dir_path = 'data/'\n",
    "\n",
    "    df_corpus_1, corpus_label_1 = read_data_into_dataframe(dir_path, \"28054-0.txt\"), \"Fyodor Dostoyevsky\"\n",
    "    df_corpus_2, corpus_label_2 = read_data_into_dataframe(dir_path, \"pg1661.txt\"), \"Arthur Conan Doyle\"\n",
    "    df_corpus_3, corpus_label_3 = read_data_into_dataframe(dir_path, \"pg31100.txt\"), \"Jane Austen\"\n",
    "\n",
    "    df_corpus_1['label'] = corpus_label_1\n",
    "    df_corpus_2['label'] = corpus_label_2\n",
    "    df_corpus_3['label'] = corpus_label_3\n",
    "\n",
    "    df_corpus_1 = df_corpus_1.iloc[29:6083]\n",
    "    df_corpus_2 = df_corpus_2.iloc[21:2567]\n",
    "    df_corpus_3 = df_corpus_3.iloc[40:11533]\n",
    "    \n",
    "    corpus_1_len = df_corpus_1.shape[0]\n",
    "    corpus_2_len = df_corpus_2.shape[0]\n",
    "    corpus_3_len = df_corpus_3.shape[0]\n",
    "    \n",
    "    # Balance all 3 classes\n",
    "    print(df_corpus_1.sample(frac=corpus_2_len/corpus_1_len).shape,\n",
    "                         df_corpus_2.shape,\n",
    "                         df_corpus_3.sample(frac=corpus_2_len/corpus_3_len).shape)\n",
    "    \n",
    "    # combining all corpus into dataframe of documents\n",
    "    df_docs = pd.concat([df_corpus_1.sample(frac=corpus_2_len/corpus_1_len),\n",
    "                         df_corpus_2,\n",
    "                         df_corpus_3.sample(frac=corpus_2_len/corpus_3_len)])\n",
    "\n",
    "    # to make sure all docs are of string type\n",
    "    df_docs.doc = df_docs.doc.astype(str)\n",
    "    \n",
    "    df_docs.reset_index(inplace=True, drop=True)\n",
    "    \n",
    "    return df_docs  \n",
    "\n",
    "def split_data(data):\n",
    "    # shuffle dataset\n",
    "    data = data.sample(frac=1).reset_index(drop=True)\n",
    "    test_size = int(0.2*data.shape[0])\n",
    "    n_len = data.shape[0]\n",
    "    X_train, X_test = data.iloc[:n_len-test_size, 0], data.iloc[-test_size:, 0]\n",
    "    y_train, y_test = data.iloc[:n_len-test_size, 1], data.iloc[-test_size:, 1]\n",
    "    return X_train, X_test, y_train, y_test\n",
    "\n",
    "def feature_extraction(X_train, X_test):\n",
    "    tfidf = TfidfVectorizer()\n",
    "    tfidf_ = tfidf.fit(X_train)    \n",
    "    return tfidf_.transform(X_train), tfidf_.transform(X_test)\n",
    "\n",
    "def plot_loss(train_loss, val_loss, title):\n",
    "    plt.plot(train_loss)\n",
    "    plt.plot(val_loss)\n",
    "    plt.title(title)\n",
    "    plt.ylabel('loss')\n",
    "    plt.xlabel('epoch')\n",
    "    plt.legend(['train', 'validation'], loc='upper right')\n",
    "    plt.show()\n",
    "    \n",
    "def perform_cross_validation(X, y, fold, isSGD):\n",
    "    print('Is it stochastic gradient descent?: ', isSGD)\n",
    "    kf = KFold(n_splits=fold)    \n",
    "    scores = []\n",
    "    train_loss = []\n",
    "    val_loss = []\n",
    "    \n",
    "    for train_index, test_index in kf.split(X):\n",
    "        X_train, X_test = X[train_index], X[test_index]\n",
    "        y_train, y_test = y[train_index], y[test_index]\n",
    "        \n",
    "        lr = LogisticRegression(X_test, y_test, isSGD)\n",
    "        lr.fit(X_train, y_train)\n",
    "        preds, t_loss, v_loss = lr.predict(X_test)\n",
    "        train_loss.append(t_loss)\n",
    "        val_loss.append(v_loss)\n",
    "        scores.append(accuracy_score(np.argmax(y_test, axis=1), np.array(preds)))\n",
    "        \n",
    "    return scores, train_loss, val_loss\n",
    "\n",
    "def classify_with_mlp(input_shape, x_train, y_train, x_test, y_test):\n",
    "    model = Sequential()\n",
    "    model.add(Dense(64, activation='relu', input_shape=input_shape))\n",
    "    model.add(Dense(64, activation='relu'))\n",
    "    model.add(Dense(3, activation='softmax'))\n",
    "\n",
    "    sgd = SGD(lr=0.01, decay=1e-6, momentum=0.9, nesterov=True)\n",
    "    model.compile(loss='categorical_crossentropy', optimizer=sgd, metrics=['accuracy'])\n",
    "\n",
    "    history = model.fit(x_train, y_train, epochs=25, batch_size=128, validation_split = 0.1)\n",
    "    score = model.evaluate(x_test, y_test, batch_size=128)\n",
    "    return score, history\n",
    "    "
   ]
  },
  {
   "cell_type": "markdown",
   "metadata": {},
   "source": [
    "### Dataset manipulation"
   ]
  },
  {
   "cell_type": "code",
   "execution_count": 3,
   "metadata": {},
   "outputs": [
    {
     "name": "stdout",
     "output_type": "stream",
     "text": [
      "(2546, 2) (2546, 2) (2546, 2)\n"
     ]
    }
   ],
   "source": [
    "## Create dataset ##\n",
    "\n",
    "df_docs = create_final_dataset()"
   ]
  },
  {
   "cell_type": "code",
   "execution_count": 4,
   "metadata": {},
   "outputs": [],
   "source": [
    "## Data Cleaning and Preprocessing ##\n",
    "\n",
    "df_docs.doc = df_docs.doc.apply(lambda x: preprocess_data(x))\n",
    "df_docs.label = df_docs.label.replace({\"Fyodor Dostoyevsky\":0, \"Arthur Conan Doyle\":1, \"Jane Austen\":2})\n",
    "df = df_docs[df_docs.doc != \"\"]"
   ]
  },
  {
   "cell_type": "code",
   "execution_count": 5,
   "metadata": {},
   "outputs": [
    {
     "name": "stdout",
     "output_type": "stream",
     "text": [
      "(5924,) (1481,) (5924,) (1481,)\n"
     ]
    }
   ],
   "source": [
    "## Split data into train and test sets ##\n",
    "\n",
    "X_train, X_test, y_train, y_test = split_data(df)\n",
    "print(X_train.shape, X_test.shape, y_train.shape, y_test.shape)"
   ]
  },
  {
   "cell_type": "code",
   "execution_count": 6,
   "metadata": {},
   "outputs": [
    {
     "name": "stdout",
     "output_type": "stream",
     "text": [
      "(5924, 14207) (1481, 14207)\n"
     ]
    }
   ],
   "source": [
    "## Feature extraction - TFIDF ##\n",
    "\n",
    "tfidf_train, tfidf_test = feature_extraction(X_train, X_test)\n",
    "print(tfidf_train.shape, tfidf_test.shape)"
   ]
  },
  {
   "cell_type": "markdown",
   "metadata": {},
   "source": [
    "### MLP Classifier"
   ]
  },
  {
   "cell_type": "code",
   "execution_count": 310,
   "metadata": {},
   "outputs": [],
   "source": [
    "## Preprocessing for keras\n",
    "\n",
    "input_shape = (tfidf_train.shape[1],)\n",
    "y_train_encoded = np_utils.to_categorical(y_train)\n",
    "y_test_encoded = np_utils.to_categorical(y_test)"
   ]
  },
  {
   "cell_type": "code",
   "execution_count": 311,
   "metadata": {},
   "outputs": [
    {
     "name": "stdout",
     "output_type": "stream",
     "text": [
      "Train on 5332 samples, validate on 593 samples\n",
      "Epoch 1/25\n",
      "5332/5332 [==============================] - 1s 264us/sample - loss: 1.0985 - accuracy: 0.3342 - val_loss: 1.0986 - val_accuracy: 0.3170\n",
      "Epoch 2/25\n",
      "5332/5332 [==============================] - 1s 220us/sample - loss: 1.0959 - accuracy: 0.3811 - val_loss: 1.0960 - val_accuracy: 0.3272\n",
      "Epoch 3/25\n",
      "5332/5332 [==============================] - 1s 218us/sample - loss: 1.0915 - accuracy: 0.4345 - val_loss: 1.0900 - val_accuracy: 0.4486\n",
      "Epoch 4/25\n",
      "5332/5332 [==============================] - 1s 222us/sample - loss: 1.0850 - accuracy: 0.5553 - val_loss: 1.0855 - val_accuracy: 0.5177\n",
      "Epoch 5/25\n",
      "5332/5332 [==============================] - 1s 222us/sample - loss: 1.0768 - accuracy: 0.5034 - val_loss: 1.0768 - val_accuracy: 0.3997\n",
      "Epoch 6/25\n",
      "5332/5332 [==============================] - 1s 223us/sample - loss: 1.0652 - accuracy: 0.6288 - val_loss: 1.0615 - val_accuracy: 0.6121\n",
      "Epoch 7/25\n",
      "5332/5332 [==============================] - 1s 220us/sample - loss: 1.0489 - accuracy: 0.6514 - val_loss: 1.0440 - val_accuracy: 0.7757\n",
      "Epoch 8/25\n",
      "5332/5332 [==============================] - 1s 230us/sample - loss: 1.0251 - accuracy: 0.7980 - val_loss: 1.0206 - val_accuracy: 0.7032\n",
      "Epoch 9/25\n",
      "5332/5332 [==============================] - 1s 251us/sample - loss: 0.9912 - accuracy: 0.7637 - val_loss: 0.9834 - val_accuracy: 0.7960\n",
      "Epoch 10/25\n",
      "5332/5332 [==============================] - 1s 265us/sample - loss: 0.9429 - accuracy: 0.8066 - val_loss: 0.9366 - val_accuracy: 0.7521\n",
      "Epoch 11/25\n",
      "5332/5332 [==============================] - 1s 270us/sample - loss: 0.8766 - accuracy: 0.8280 - val_loss: 0.8701 - val_accuracy: 0.7943\n",
      "Epoch 12/25\n",
      "5332/5332 [==============================] - 1s 253us/sample - loss: 0.7957 - accuracy: 0.8443 - val_loss: 0.7920 - val_accuracy: 0.8044\n",
      "Epoch 13/25\n",
      "5332/5332 [==============================] - 1s 217us/sample - loss: 0.7067 - accuracy: 0.8535 - val_loss: 0.7233 - val_accuracy: 0.7960\n",
      "Epoch 14/25\n",
      "5332/5332 [==============================] - 1s 219us/sample - loss: 0.6212 - accuracy: 0.8693 - val_loss: 0.6522 - val_accuracy: 0.8128\n",
      "Epoch 15/25\n",
      "5332/5332 [==============================] - 1s 247us/sample - loss: 0.5433 - accuracy: 0.8787 - val_loss: 0.5916 - val_accuracy: 0.8196\n",
      "Epoch 16/25\n",
      "5332/5332 [==============================] - 1s 275us/sample - loss: 0.4749 - accuracy: 0.8877 - val_loss: 0.5384 - val_accuracy: 0.8398\n",
      "Epoch 17/25\n",
      "5332/5332 [==============================] - 1s 242us/sample - loss: 0.4169 - accuracy: 0.8989 - val_loss: 0.4957 - val_accuracy: 0.8449\n",
      "Epoch 18/25\n",
      "5332/5332 [==============================] - 1s 253us/sample - loss: 0.3675 - accuracy: 0.9092 - val_loss: 0.4620 - val_accuracy: 0.8499\n",
      "Epoch 19/25\n",
      "5332/5332 [==============================] - 1s 254us/sample - loss: 0.3252 - accuracy: 0.9169 - val_loss: 0.4332 - val_accuracy: 0.8533\n",
      "Epoch 20/25\n",
      "5332/5332 [==============================] - 1s 235us/sample - loss: 0.2887 - accuracy: 0.9284 - val_loss: 0.4100 - val_accuracy: 0.8550\n",
      "Epoch 21/25\n",
      "5332/5332 [==============================] - 1s 231us/sample - loss: 0.2584 - accuracy: 0.9375 - val_loss: 0.3925 - val_accuracy: 0.8567\n",
      "Epoch 22/25\n",
      "5332/5332 [==============================] - 1s 236us/sample - loss: 0.2318 - accuracy: 0.9439 - val_loss: 0.3753 - val_accuracy: 0.8651\n",
      "Epoch 23/25\n",
      "5332/5332 [==============================] - 1s 276us/sample - loss: 0.2086 - accuracy: 0.9509 - val_loss: 0.3755 - val_accuracy: 0.8516\n",
      "Epoch 24/25\n",
      "5332/5332 [==============================] - 1s 237us/sample - loss: 0.1887 - accuracy: 0.9574 - val_loss: 0.3522 - val_accuracy: 0.8685\n",
      "Epoch 25/25\n",
      "5332/5332 [==============================] - 1s 255us/sample - loss: 0.1709 - accuracy: 0.9644 - val_loss: 0.3436 - val_accuracy: 0.8668\n",
      "1481/1481 [==============================] - 0s 192us/sample - loss: 0.3615 - accuracy: 0.8609\n"
     ]
    }
   ],
   "source": [
    "## Classification using MLP classifier\n",
    "\n",
    "score, history = classify_with_mlp(input_shape, tfidf_train, y_train_encoded, tfidf_test, y_test_encoded)"
   ]
  },
  {
   "cell_type": "code",
   "execution_count": 312,
   "metadata": {},
   "outputs": [
    {
     "name": "stdout",
     "output_type": "stream",
     "text": [
      "Accuracy for MLP model: 86.090481 %\n"
     ]
    }
   ],
   "source": [
    "# Accuracy\n",
    "print(\"Accuracy for MLP model: %f\" % (score[1]*100), \"%\")"
   ]
  },
  {
   "cell_type": "code",
   "execution_count": 313,
   "metadata": {},
   "outputs": [
    {
     "data": {
      "image/png": "[encoded data removed]",
      "text/plain": [
       "<Figure size 432x288 with 1 Axes>"
      ]
     },
     "metadata": {
      "needs_background": "light"
     },
     "output_type": "display_data"
    }
   ],
   "source": [
    "# plot training and validation loss\n",
    "plot_loss(history.history['loss'], history.history['val_loss'], \"MLP loss\")"
   ]
  },
  {
   "cell_type": "markdown",
   "metadata": {},
   "source": [
    "### Logistic Regression Classifier"
   ]
  },
  {
   "cell_type": "code",
   "execution_count": 7,
   "metadata": {},
   "outputs": [],
   "source": [
    "class LogisticRegression():\n",
    "    \n",
    "    def __init__ (self, x_val, y_val, lr=0.01, epochs=100, isSGD=False):\n",
    "        self.lr = lr\n",
    "        self.epochs = epochs\n",
    "        self.isSGD = isSGD\n",
    "        self.x_val = x_val\n",
    "        self.y_val = y_val\n",
    "    \n",
    "    def softmax(self, z):\n",
    "        exps = np.exp(z)\n",
    "        return exps / np.sum(exps)\n",
    "    \n",
    "    def categorical_cross_entropy(self, p, y_true): \n",
    "        return -np.sum(np.multiply(y_true, np.log(p))) / self.m     \n",
    "    \n",
    "    def evaluate_gradient(self, X, Y, _sig):\n",
    "        return np.dot(X.T, (_sig - Y)) / self.m\n",
    "\n",
    "    def gradient_descent(self, X, Y): \n",
    "        for i in range(self.epochs):            \n",
    "            # train set\n",
    "            z_train = np.dot(X, self.w) \n",
    "            h_train = self.softmax(z_train)\n",
    "            \n",
    "            # validation set\n",
    "            z_val = np.dot(self.x_val, self.w)\n",
    "            h_val = self.softmax(z_val)\n",
    "            \n",
    "            self.w = self.w - self.lr * self.evaluate_gradient(X, Y, h_train)\n",
    "            \n",
    "            self.train_loss[i] = self.categorical_cross_entropy(h_train, Y) \n",
    "            self.val_loss[i] = self.categorical_cross_entropy(h_val, self.y_val)\n",
    "\n",
    "    def stochastic_gradient_descent(self, X, Y):\n",
    "        for e in range(self.epochs):\n",
    "            train_loss = val_loss = 0.0\n",
    "            for i in range(self.m):                \n",
    "                # train set\n",
    "                \n",
    "                # to pick random datapoint\n",
    "                t_index = np.random.randint(0, self.m)\n",
    "                \n",
    "                x_train = X[t_index, :]\n",
    "                y_train = Y[t_index]\n",
    "                z_train = np.dot(x_train, self.w) \n",
    "                h_train = self.softmax(z_train)                \n",
    "                \n",
    "                # validation set\n",
    "                \n",
    "                # to pick random datapoint\n",
    "                v_index = np.random.randint(0, len(self.y_val))\n",
    "                \n",
    "                x_val = self.x_val[v_index, :]\n",
    "                y_val = self.y_val[v_index]\n",
    "                z_val = np.dot(x_val, self.w) \n",
    "                h_val = self.softmax(z_val)\n",
    "                \n",
    "                self.w = self.w - self.lr * self.evaluate_gradient(x_train, y_train, h_train)\n",
    "                train_loss += self.categorical_cross_entropy(h_train, y_train)\n",
    "                val_loss += self.categorical_cross_entropy(h_val, y_val)\n",
    "                \n",
    "            self.train_loss[e] = train_loss        \n",
    "            self.val_loss[e] = val_loss\n",
    "    \n",
    "    def fit(self, X, Y):   \n",
    "        self.m = len(Y)\n",
    "        \n",
    "        # initialize weights\n",
    "        self.w = np.zeros(shape=(X.shape[1], Y.shape[1]))        \n",
    "        # initialize train loss array\n",
    "        self.train_loss = np.zeros(self.epochs)\n",
    "        # initialize validation loss array\n",
    "        self.val_loss = np.zeros(self.epochs)\n",
    "        \n",
    "        if(self.isSGD):\n",
    "            self.stochastic_gradient_descent(X, Y)\n",
    "        else:\n",
    "            self.gradient_descent(X, Y)       \n",
    "            \n",
    "    def predict_proba(self, X):    \n",
    "        return self.softmax(np.dot(X, self.w))\n",
    "    \n",
    "    def predict(self, test):\n",
    "        return np.argmax(self.predict_proba(test), axis=1), self.train_loss, self.val_loss    "
   ]
  },
  {
   "cell_type": "code",
   "execution_count": 12,
   "metadata": {},
   "outputs": [
    {
     "name": "stdout",
     "output_type": "stream",
     "text": [
      "[[0. 0. 0. ... 0. 0. 0.]\n",
      " [0. 0. 0. ... 0. 0. 0.]\n",
      " [0. 0. 0. ... 0. 0. 0.]\n",
      " ...\n",
      " [0. 0. 0. ... 0. 0. 0.]\n",
      " [0. 0. 0. ... 0. 0. 0.]\n",
      " [0. 0. 0. ... 0. 0. 0.]]\n"
     ]
    },
    {
     "data": {
      "text/plain": [
       "<1481x14207 sparse matrix of type '<class 'numpy.float64'>'\n",
       "\twith 33353 stored elements in Compressed Sparse Row format>"
      ]
     },
     "execution_count": 12,
     "metadata": {},
     "output_type": "execute_result"
    }
   ],
   "source": [
    "print(tfidf_test.toarray())\n",
    "tfidf_test"
   ]
  },
  {
   "cell_type": "code",
   "execution_count": 315,
   "metadata": {},
   "outputs": [
    {
     "name": "stdout",
     "output_type": "stream",
     "text": [
      "Wall time: 8min 4s\n"
     ]
    }
   ],
   "source": [
    "%%time\n",
    "\n",
    "# Run time: for given settings \n",
    "# within 1min for GD \n",
    "# around 8mins for SGD\n",
    "\n",
    "learning_rate = 0.01\n",
    "epochs = 100\n",
    "\n",
    "# To run using SGD\n",
    "lr = LogisticRegression(tfidf_test.todense(), y_test_encoded, epochs=epochs, lr=learning_rate, isSGD=True)\n",
    "\n",
    "# To run using GD\n",
    "# lr = LogisticRegression(tfidf_test.todense(), y_test_encoded, epochs=epochs, lr=learning_rate, isSGD=False)\n",
    "\n",
    "lr.fit(tfidf_train.todense(), y_train_encoded)\n",
    "preds, train_loss, val_loss = lr.predict(tfidf_test.todense())\n"
   ]
  },
  {
   "cell_type": "code",
   "execution_count": 316,
   "metadata": {},
   "outputs": [],
   "source": [
    "preds = np.array(preds)\n",
    "true = np.argmax(y_test_encoded, axis=1)"
   ]
  },
  {
   "cell_type": "code",
   "execution_count": 317,
   "metadata": {},
   "outputs": [
    {
     "name": "stdout",
     "output_type": "stream",
     "text": [
      "Accuracy: 77.717758 %\n"
     ]
    }
   ],
   "source": [
    "print(\"Accuracy: %f\" % (accuracy_score(true, preds)*100), \"%\")"
   ]
  },
  {
   "cell_type": "code",
   "execution_count": 318,
   "metadata": {},
   "outputs": [
    {
     "name": "stdout",
     "output_type": "stream",
     "text": [
      "              precision    recall  f1-score   support\n",
      "\n",
      "           0       0.86      0.84      0.85       485\n",
      "           1       0.87      0.58      0.69       498\n",
      "           2       0.68      0.92      0.78       498\n",
      "\n",
      "    accuracy                           0.78      1481\n",
      "   macro avg       0.80      0.78      0.77      1481\n",
      "weighted avg       0.80      0.78      0.77      1481\n",
      "\n"
     ]
    }
   ],
   "source": [
    "# classification report\n",
    "from sklearn.metrics import classification_report\n",
    "print(classification_report(true, preds))"
   ]
  },
  {
   "cell_type": "code",
   "execution_count": 319,
   "metadata": {},
   "outputs": [
    {
     "data": {
      "image/png": "[encoded data removed]",
      "text/plain": [
       "<Figure size 432x288 with 1 Axes>"
      ]
     },
     "metadata": {
      "needs_background": "light"
     },
     "output_type": "display_data"
    }
   ],
   "source": [
    "# plot training and valiation loss\n",
    "\n",
    "plot_loss(train_loss, val_loss, \"Logistic regression loss\")"
   ]
  },
  {
   "cell_type": "markdown",
   "metadata": {},
   "source": [
    "### 10-fold Cross-validation with Logistic Regression using Gradient Descent"
   ]
  },
  {
   "cell_type": "code",
   "execution_count": 320,
   "metadata": {},
   "outputs": [
    {
     "name": "stdout",
     "output_type": "stream",
     "text": [
      "Is it stochastic gradient descent?:  False\n",
      "Wall time: 4min 25s\n"
     ]
    }
   ],
   "source": [
    "%%time \n",
    "\n",
    "# Run time for given settings: 4mins\n",
    "# to run using GD\n",
    "scores, cv_train_loss, cv_val_loss = perform_cross_validation(tfidf_train.todense(), y_train_encoded, 10, False)\n",
    "\n",
    "# to run using SGD\n",
    "# scores, cv_train_loss, cv_val_loss = perform_cross_validation(tfidf_train.todense(), y_train_encoded, 10, True)"
   ]
  },
  {
   "cell_type": "code",
   "execution_count": 321,
   "metadata": {},
   "outputs": [
    {
     "name": "stdout",
     "output_type": "stream",
     "text": [
      "Accuracy Scores:\n",
      "[0.35581787521079256, 0.33220910623946037, 0.3490725126475548, 0.35413153456998314, 0.3102866779089376, 0.3277027027027027, 0.3564189189189189, 0.33614864864864863, 0.3141891891891892, 0.31756756756756754]\n"
     ]
    }
   ],
   "source": [
    "print(\"Accuracy Scores:\")\n",
    "print(scores)"
   ]
  },
  {
   "cell_type": "code",
   "execution_count": 322,
   "metadata": {},
   "outputs": [],
   "source": [
    "# extract minimum loss\n",
    "max_score = np.max(scores)\n",
    "\n",
    "m_index = [i for i,j in enumerate(scores) if j == max_score]\n",
    "min_train_loss = cv_train_loss[m_index[0]]\n",
    "min_val_loss = cv_val_loss[m_index[0]]"
   ]
  },
  {
   "cell_type": "code",
   "execution_count": 324,
   "metadata": {},
   "outputs": [
    {
     "data": {
      "image/png": "[encoded data removed]",
      "text/plain": [
       "<Figure size 432x288 with 1 Axes>"
      ]
     },
     "metadata": {
      "needs_background": "light"
     },
     "output_type": "display_data"
    }
   ],
   "source": [
    "# plot training and valiation loss\n",
    "\n",
    "plot_loss(min_train_loss, min_val_loss, \"10-fold CV Logistic regression loss\")"
   ]
  },
  {
   "cell_type": "markdown",
   "metadata": {},
   "source": [
    "### Comparision and Analysis "
   ]
  },
  {
   "cell_type": "markdown",
   "metadata": {},
   "source": [
    "- Multilayer perceptron(MLP) is giving about 88% accuracy with just 25 epochs. On other hand, Logistic regression(LR) is giving 77% accuracy using 100 epochs. <br>\n",
    "- If we compare train vs validation loss plot for both, we can clearly see that, for MLP both losses are smoothly reducing with each epoch. But for LR, reduction in loss is not smooth and it is very very small reduction. So, we can assume that it would take huge number of epochs(i.e 2000/3000) for convergence in LR. <br>\n",
    "- Running time for MLP with 25 epochs is about 25 seconds only. On other hand LR with gradient descent takes around 1min and LR with stochastic gradient descent takes around 8mins to complete 100 epochs. <br>\n",
    "- When we run LR with 10-fold cross-validation, we get very low accuracy scores for each fold. This suggests that LR is kind of underfitting when dataset size is low. So, LR model is not complex enough as compared to neural nets to perform tasks such as document classification for multiple classes.<br>\n",
    "\n",
    "- Hence, neural network(MLP) is clear winner for the given task of document classification"
   ]
  },
  {
   "cell_type": "code",
   "execution_count": null,
   "metadata": {},
   "outputs": [],
   "source": []
  }
 ],
 "metadata": {
  "kernelspec": {
   "display_name": "Python 3",
   "language": "python",
   "name": "python3"
  },
  "language_info": {
   "codemirror_mode": {
    "name": "ipython",
    "version": 3
   },
   "file_extension": ".py",
   "mimetype": "text/x-python",
   "name": "python",
   "nbconvert_exporter": "python",
   "pygments_lexer": "ipython3",
   "version": "3.7.3"
  }
 },
 "nbformat": 4,
 "nbformat_minor": 2
}
