{
  "nbformat": 4,
  "nbformat_minor": 0,
  "metadata": {
    "colab": {
      "name": "Asst_3_NLP_v4_trying_seq_loss.ipynb",
      "provenance": [],
      "collapsed_sections": [],
      "machine_shape": "hm"
    },
    "kernelspec": {
      "name": "python3",
      "display_name": "Python 3"
    }
  },
  "cells": [
    {
      "cell_type": "code",
      "metadata": {
        "id": "ZCVrn1qHZP0c",
        "colab_type": "code",
        "colab": {}
      },
      "source": [
        "import pandas as pd\n",
        "import numpy as np\n",
        "import re\n",
        "\n",
        "import tensorflow as tf\n",
        "from tensorflow.keras.models import Sequential\n",
        "from tensorflow.keras.layers import LSTM, Embedding, Dense, Dropout\n",
        "from tensorflow.keras.callbacks import EarlyStopping\n",
        "from keras_preprocessing import text \n",
        "from keras.utils import to_categorical"
      ],
      "execution_count": 0,
      "outputs": []
    },
    {
      "cell_type": "code",
      "metadata": {
        "id": "duL1oGyq57cV",
        "colab_type": "code",
        "colab": {}
      },
      "source": [
        "# create corpus\n",
        "def getText(filepath):\n",
        "  with open(filepath) as f:\n",
        "    return f.read()\n",
        "\n",
        "train_corpus = getText('train.5k.txt') #getText('train.txt') #\n",
        "val_corpus = getText('valid.txt')"
      ],
      "execution_count": 0,
      "outputs": []
    },
    {
      "cell_type": "code",
      "metadata": {
        "id": "rmDGvIfL6ptf",
        "colab_type": "code",
        "outputId": "42a38882-b327-459e-a8ca-9de289b385ac",
        "colab": {
          "base_uri": "https://localhost:8080/",
          "height": 122
        }
      },
      "source": [
        "print(train_corpus[:200])\n",
        "print()\n",
        "print(val_corpus[:200])"
      ],
      "execution_count": 67,
      "outputs": [
        {
          "output_type": "stream",
          "text": [
            " aer banknote berlitz calloway centrust cluett fromstein gitano guterman hydro-quebec ipo kia memotec mlx nahb punts rake regatta rubens sim snack-food ssangyong swapo wachter \n",
            " pierre <unk> N years o\n",
            "\n",
            " consumers may want to move their telephones a little closer to the tv set \n",
            " <unk> <unk> watching abc 's monday night football can now vote during <unk> for the greatest play in N years from among fou\n"
          ],
          "name": "stdout"
        }
      ]
    },
    {
      "cell_type": "code",
      "metadata": {
        "id": "jwzJYuhI7iaZ",
        "colab_type": "code",
        "colab": {}
      },
      "source": [
        "# preprocess given documents\n",
        "def preprocess_data(data):\n",
        "\n",
        "    # replace unnecessary characters with space\n",
        "    s = re.sub(r\"\\\\n\", \" \", str(data).lower())\n",
        "    s = re.sub(r\":\", \"\", s) \n",
        "    s = re.sub(r\"\\.\", \" \", s)\n",
        "    s = re.sub(r\"\\,\", \" \", s)\n",
        "    s = re.sub(r\"\\!\", \" \", s)\n",
        "    s = re.sub(r\"\\;\", \" \", s)\n",
        "    s = re.sub(r\"\\/\", \" \", s)\n",
        "    s = re.sub(r\"[^A-Za-z0-9<>]\", \" \", s)    \n",
        "\n",
        "    # tokenize document\n",
        "    return s.split()"
      ],
      "execution_count": 0,
      "outputs": []
    },
    {
      "cell_type": "code",
      "metadata": {
        "id": "eKxRwy6d9WmR",
        "colab_type": "code",
        "outputId": "9deba522-80af-4bf3-9a35-fd876a86c53b",
        "colab": {
          "base_uri": "https://localhost:8080/",
          "height": 173
        }
      },
      "source": [
        "# processed corpus\n",
        "train_tokens = preprocess_data(train_corpus)\n",
        "val_tokens = preprocess_data(val_corpus)\n",
        "\n",
        "print(train_tokens[:200])\n",
        "print(val_tokens[:200])\n",
        "print()\n",
        "# tokens in train set\n",
        "print('Total Tokens: %d' % len(train_tokens))\n",
        "print('Unique Tokens: %d' % len(set(train_tokens)))\n",
        "print()\n",
        "# tokens in validation set\n",
        "print('Total Tokens: %d' % len(val_tokens))\n",
        "print('Unique Tokens: %d' % len(set(val_tokens)))\n"
      ],
      "execution_count": 69,
      "outputs": [
        {
          "output_type": "stream",
          "text": [
            "['aer', 'banknote', 'berlitz', 'calloway', 'centrust', 'cluett', 'fromstein', 'gitano', 'guterman', 'hydro', 'quebec', 'ipo', 'kia', 'memotec', 'mlx', 'nahb', 'punts', 'rake', 'regatta', 'rubens', 'sim', 'snack', 'food', 'ssangyong', 'swapo', 'wachter', 'pierre', '<unk>', 'n', 'years', 'old', 'will', 'join', 'the', 'board', 'as', 'a', 'nonexecutive', 'director', 'nov', 'n', 'mr', '<unk>', 'is', 'chairman', 'of', '<unk>', 'n', 'v', 'the', 'dutch', 'publishing', 'group', 'rudolph', '<unk>', 'n', 'years', 'old', 'and', 'former', 'chairman', 'of', 'consolidated', 'gold', 'fields', 'plc', 'was', 'named', 'a', 'nonexecutive', 'director', 'of', 'this', 'british', 'industrial', 'conglomerate', 'a', 'form', 'of', 'asbestos', 'once', 'used', 'to', 'make', 'kent', 'cigarette', 'filters', 'has', 'caused', 'a', 'high', 'percentage', 'of', 'cancer', 'deaths', 'among', 'a', 'group', 'of', 'workers', 'exposed', 'to', 'it', 'more', 'than', 'n', 'years', 'ago', 'researchers', 'reported', 'the', 'asbestos', 'fiber', '<unk>', 'is', 'unusually', '<unk>', 'once', 'it', 'enters', 'the', '<unk>', 'with', 'even', 'brief', 'exposures', 'to', 'it', 'causing', 'symptoms', 'that', 'show', 'up', 'decades', 'later', 'researchers', 'said', '<unk>', 'inc', 'the', 'unit', 'of', 'new', 'york', 'based', '<unk>', 'corp', 'that', 'makes', 'kent', 'cigarettes', 'stopped', 'using', '<unk>', 'in', 'its', '<unk>', 'cigarette', 'filters', 'in', 'n', 'although', 'preliminary', 'findings', 'were', 'reported', 'more', 'than', 'a', 'year', 'ago', 'the', 'latest', 'results', 'appear', 'in', 'today', 's', 'new', 'england', 'journal', 'of', 'medicine', 'a', 'forum', 'likely', 'to', 'bring', 'new', 'attention', 'to', 'the', 'problem', 'a', '<unk>', '<unk>', 'said', 'this', 'is', 'an']\n",
            "['consumers', 'may', 'want', 'to', 'move', 'their', 'telephones', 'a', 'little', 'closer', 'to', 'the', 'tv', 'set', '<unk>', '<unk>', 'watching', 'abc', 's', 'monday', 'night', 'football', 'can', 'now', 'vote', 'during', '<unk>', 'for', 'the', 'greatest', 'play', 'in', 'n', 'years', 'from', 'among', 'four', 'or', 'five', '<unk>', '<unk>', 'two', 'weeks', 'ago', 'viewers', 'of', 'several', 'nbc', '<unk>', 'consumer', 'segments', 'started', 'calling', 'a', 'n', 'number', 'for', 'advice', 'on', 'various', '<unk>', 'issues', 'and', 'the', 'new', 'syndicated', 'reality', 'show', 'hard', 'copy', 'records', 'viewers', 'opinions', 'for', 'possible', 'airing', 'on', 'the', 'next', 'day', 's', 'show', 'interactive', 'telephone', 'technology', 'has', 'taken', 'a', 'new', 'leap', 'in', '<unk>', 'and', 'television', 'programmers', 'are', 'racing', 'to', 'exploit', 'the', 'possibilities', 'eventually', 'viewers', 'may', 'grow', '<unk>', 'with', 'the', 'technology', 'and', '<unk>', 'the', 'cost', 'but', 'right', 'now', 'programmers', 'are', 'figuring', 'that', 'viewers', 'who', 'are', 'busy', 'dialing', 'up', 'a', 'range', 'of', 'services', 'may', 'put', 'down', 'their', '<unk>', 'control', '<unk>', 'and', 'stay', '<unk>', 'we', 've', 'been', 'spending', 'a', 'lot', 'of', 'time', 'in', 'los', 'angeles', 'talking', 'to', 'tv', 'production', 'people', 'says', 'mike', 'parks', 'president', 'of', 'call', 'interactive', 'which', 'supplied', 'technology', 'for', 'both', 'abc', 'sports', 'and', 'nbc', 's', 'consumer', 'minutes', 'with', 'the', 'competitiveness', 'of', 'the', 'television', 'market', 'these', 'days', 'everyone', 'is', 'looking', 'for', 'a', 'way', 'to', 'get', 'viewers', 'more', 'excited', 'one', 'of', 'the', 'leaders', 'behind']\n",
            "\n",
            "Total Tokens: 106481\n",
            "Unique Tokens: 6970\n",
            "\n",
            "Total Tokens: 70570\n",
            "Unique Tokens: 5850\n"
          ],
          "name": "stdout"
        }
      ]
    },
    {
      "cell_type": "code",
      "metadata": {
        "id": "PKr51J5ndtpj",
        "colab_type": "code",
        "colab": {}
      },
      "source": [
        "# build sequences set\n",
        "# Window size\n",
        "max_seq_length = 20 + 1\n",
        "\n",
        "def getSequences(tokens):\n",
        "  sequences = []\n",
        "  for i in range(max_seq_length, len(tokens)):\n",
        "    seq = tokens[i-max_seq_length:i]\n",
        "    # convert into a line\n",
        "    line = ' '.join(seq)\n",
        "    sequences.append(line)\n",
        "\n",
        "  return sequences\n"
      ],
      "execution_count": 0,
      "outputs": []
    },
    {
      "cell_type": "code",
      "metadata": {
        "id": "JrdYbiUqCbPC",
        "colab_type": "code",
        "colab": {}
      },
      "source": [
        "train_sequences = getSequences(train_tokens)\n",
        "val_sequences = getSequences(val_tokens)"
      ],
      "execution_count": 0,
      "outputs": []
    },
    {
      "cell_type": "code",
      "metadata": {
        "id": "1AToUs2ICyjV",
        "colab_type": "code",
        "colab": {}
      },
      "source": [
        "# Sequence encoding\n",
        "tokenizer = text.Tokenizer(oov_token = True)\n",
        "tokenizer.fit_on_texts(train_sequences)\n",
        "\n",
        "# transform text sequences to encodings(integers)\n",
        "encoded_train_sequences = tokenizer.texts_to_sequences(train_sequences)\n",
        "encoded_val_sequences = tokenizer.texts_to_sequences(val_sequences)"
      ],
      "execution_count": 0,
      "outputs": []
    },
    {
      "cell_type": "code",
      "metadata": {
        "id": "gmWoPehfD81i",
        "colab_type": "code",
        "outputId": "a19d769a-a8c3-44c6-a54b-e24f555790df",
        "colab": {
          "base_uri": "https://localhost:8080/",
          "height": 34
        }
      },
      "source": [
        "# param: vocabulary size\n",
        "vocab_size = len(tokenizer.word_index) + 1\n",
        "vocab_size"
      ],
      "execution_count": 73,
      "outputs": [
        {
          "output_type": "execute_result",
          "data": {
            "text/plain": [
              "6972"
            ]
          },
          "metadata": {
            "tags": []
          },
          "execution_count": 73
        }
      ]
    },
    {
      "cell_type": "code",
      "metadata": {
        "id": "tBd1ihNM3kvF",
        "colab_type": "code",
        "outputId": "b0e478b2-db31-4687-b7cc-dd472679f353",
        "colab": {
          "base_uri": "https://localhost:8080/",
          "height": 51
        }
      },
      "source": [
        "print(np.array(encoded_val_sequences).shape)\n",
        "print(np.array(encoded_train_sequences).shape)"
      ],
      "execution_count": 74,
      "outputs": [
        {
          "output_type": "stream",
          "text": [
            "(70549, 21)\n",
            "(106460, 21)\n"
          ],
          "name": "stdout"
        }
      ]
    },
    {
      "cell_type": "code",
      "metadata": {
        "id": "etbr4yMoEWy3",
        "colab_type": "code",
        "colab": {}
      },
      "source": [
        "# translate set into features and targets\n",
        "encoded_train_sequences = np.array(encoded_train_sequences)\n",
        "encoded_val_sequences = np.array(encoded_val_sequences)\n",
        "\n",
        "# train set\n",
        "X_train, y_train = encoded_train_sequences[:,:-1], encoded_train_sequences[:,-1]\n",
        "y_train = to_categorical(y_train, num_classes=vocab_size)\n",
        "\n",
        "# validation set\n",
        "X_val, y_val = encoded_val_sequences[:30000,:-1], encoded_val_sequences[:30000,-1]\n",
        "y_val = to_categorical(y_val, num_classes=vocab_size)"
      ],
      "execution_count": 0,
      "outputs": []
    },
    {
      "cell_type": "code",
      "metadata": {
        "id": "_dAdl3_yVcrm",
        "colab_type": "code",
        "outputId": "35210906-4afb-46c1-f9f6-3e15f2e1a76b",
        "colab": {
          "base_uri": "https://localhost:8080/",
          "height": 34
        }
      },
      "source": [
        "print(X_train.shape, y_train.shape, X_val.shape, y_val.shape)"
      ],
      "execution_count": 76,
      "outputs": [
        {
          "output_type": "stream",
          "text": [
            "(106460, 20) (106460, 6972) (30000, 20) (30000, 6972)\n"
          ],
          "name": "stdout"
        }
      ]
    },
    {
      "cell_type": "code",
      "metadata": {
        "id": "AtPmtFW-FnQ_",
        "colab_type": "code",
        "colab": {}
      },
      "source": [
        "# params\n",
        "input_length = X_train.shape[1]\n",
        "learning_rate = 0.001\n",
        "batch_size = 512\n",
        "epochs = 100\n",
        "\n",
        "es = EarlyStopping(monitor='val_loss', mode='min', verbose=1, patience=3)"
      ],
      "execution_count": 0,
      "outputs": []
    },
    {
      "cell_type": "code",
      "metadata": {
        "id": "GjKB8f8hMG-l",
        "colab_type": "code",
        "outputId": "36d7707b-48f4-4420-c2e1-053f6ff5ed27",
        "colab": {
          "base_uri": "https://localhost:8080/",
          "height": 323
        }
      },
      "source": [
        "# model building\n",
        "model = Sequential()\n",
        "\n",
        "# Embedding layer\n",
        "model.add(Embedding(vocab_size, 50, input_length=input_length))\n",
        "\n",
        "# LSTM layer\n",
        "model.add(LSTM(100))\n",
        "\n",
        "model.add(Dense(100, activation='relu'))\n",
        "model.add(Dropout(0.25))\n",
        "model.add(Dense(vocab_size, activation='softmax'))\n",
        "model.summary()"
      ],
      "execution_count": 88,
      "outputs": [
        {
          "output_type": "stream",
          "text": [
            "Model: \"sequential_11\"\n",
            "_________________________________________________________________\n",
            "Layer (type)                 Output Shape              Param #   \n",
            "=================================================================\n",
            "embedding_11 (Embedding)     (None, 20, 50)            348600    \n",
            "_________________________________________________________________\n",
            "lstm_11 (LSTM)               (None, 100)               60400     \n",
            "_________________________________________________________________\n",
            "dense_13 (Dense)             (None, 100)               10100     \n",
            "_________________________________________________________________\n",
            "dropout_3 (Dropout)          (None, 100)               0         \n",
            "_________________________________________________________________\n",
            "dense_14 (Dense)             (None, 6972)              704172    \n",
            "=================================================================\n",
            "Total params: 1,123,272\n",
            "Trainable params: 1,123,272\n",
            "Non-trainable params: 0\n",
            "_________________________________________________________________\n"
          ],
          "name": "stdout"
        }
      ]
    },
    {
      "cell_type": "code",
      "metadata": {
        "id": "XtQg0BjcMMfe",
        "colab_type": "code",
        "colab": {}
      },
      "source": [
        "from tensorflow.keras.optimizers import Adam\n",
        "\n",
        "optimizer = Adam(learning_rate=learning_rate)\n",
        "\n",
        "# compile model\n",
        "model.compile(loss='categorical_crossentropy', optimizer=optimizer) #, metrics=['accuracy'])"
      ],
      "execution_count": 0,
      "outputs": []
    },
    {
      "cell_type": "code",
      "metadata": {
        "id": "pZetEF7wMOcS",
        "colab_type": "code",
        "outputId": "f2d8d68d-3e62-4eea-ffec-33b45bcc7404",
        "colab": {
          "base_uri": "https://localhost:8080/",
          "height": 357
        }
      },
      "source": [
        "# fit model\n",
        "history = model.fit(X_train, y_train, batch_size=batch_size, epochs=epochs, \n",
        "                    validation_data=(X_val, y_val), callbacks=[es])"
      ],
      "execution_count": 90,
      "outputs": [
        {
          "output_type": "stream",
          "text": [
            "Train on 106460 samples, validate on 30000 samples\n",
            "Epoch 1/100\n",
            "106460/106460 [==============================] - 46s 435us/sample - loss: 6.8807 - val_loss: 6.6615\n",
            "Epoch 2/100\n",
            "106460/106460 [==============================] - 45s 419us/sample - loss: 6.5025 - val_loss: 6.6496\n",
            "Epoch 3/100\n",
            "106460/106460 [==============================] - 44s 413us/sample - loss: 6.3940 - val_loss: 6.5645\n",
            "Epoch 4/100\n",
            "106460/106460 [==============================] - 44s 409us/sample - loss: 6.2534 - val_loss: 6.4982\n",
            "Epoch 5/100\n",
            "106460/106460 [==============================] - 42s 397us/sample - loss: 6.1081 - val_loss: 6.4386\n",
            "Epoch 6/100\n",
            "106460/106460 [==============================] - 43s 401us/sample - loss: 5.9919 - val_loss: 6.4140\n",
            "Epoch 7/100\n",
            "106460/106460 [==============================] - 43s 400us/sample - loss: 5.9064 - val_loss: 6.4215\n",
            "Epoch 8/100\n",
            "106460/106460 [==============================] - 45s 427us/sample - loss: 5.8379 - val_loss: 6.4286\n",
            "Epoch 9/100\n",
            "106460/106460 [==============================] - 43s 403us/sample - loss: 5.7749 - val_loss: 6.4411\n",
            "Epoch 00009: early stopping\n"
          ],
          "name": "stdout"
        }
      ]
    },
    {
      "cell_type": "code",
      "metadata": {
        "id": "T31k9-EpTtPD",
        "colab_type": "code",
        "outputId": "fc465899-e9ad-4dd9-dd8f-e9a275e0627a",
        "colab": {
          "base_uri": "https://localhost:8080/",
          "height": 295
        }
      },
      "source": [
        "import matplotlib.pyplot as plt\n",
        "\n",
        "# \"Loss\"\n",
        "plt.plot(history.history['loss'])\n",
        "plt.plot(history.history['val_loss'])\n",
        "plt.title('model loss')\n",
        "plt.ylabel('loss')\n",
        "plt.xlabel('epoch')\n",
        "plt.legend(['train', 'validation'], loc='upper left')\n",
        "plt.show()"
      ],
      "execution_count": 91,
      "outputs": [
        {
          "output_type": "display_data",
          "data": {
            "image/png": "[encoded data removed]",
            "text/plain": [
              "<Figure size 432x288 with 1 Axes>"
            ]
          },
          "metadata": {
            "tags": []
          }
        }
      ]
    },
    {
      "cell_type": "code",
      "metadata": {
        "id": "YIDp2tXt1UEp",
        "colab_type": "code",
        "outputId": "d70de28f-0a06-4281-c47b-937f70f07fce",
        "colab": {
          "base_uri": "https://localhost:8080/",
          "height": 51
        }
      },
      "source": [
        "# perplexity \n",
        "trained_model_loss = history.history['loss'][-1]\n",
        "print(\"Trained model loss: %f\"%trained_model_loss)\n",
        "train_prp = np.exp(trained_model_loss)\n",
        "\n",
        "validation_loss = history.history['val_loss'][-1]\n",
        "print(\"Trained model validation loss: %f\"%validation_loss)\n",
        "validation_prp = np.exp(validation_loss)"
      ],
      "execution_count": 103,
      "outputs": [
        {
          "output_type": "stream",
          "text": [
            "Trained model loss: 5.774881\n",
            "Trained model validation loss: 6.441102\n"
          ],
          "name": "stdout"
        }
      ]
    },
    {
      "cell_type": "code",
      "metadata": {
        "id": "dvIdYvJQXaWd",
        "colab_type": "code",
        "outputId": "1d314f0c-428f-4eed-be49-b49bd01db710",
        "colab": {
          "base_uri": "https://localhost:8080/",
          "height": 68
        }
      },
      "source": [
        "print(\"Perplexity based on categorical cross entropy loss: \")\n",
        "print(\"Train perplexity: %f\" % train_prp)\n",
        "print(\"Validation perplexity: %f\" % validation_prp)"
      ],
      "execution_count": 104,
      "outputs": [
        {
          "output_type": "stream",
          "text": [
            "Perplexity based on categorical cross entropy loss: \n",
            "Train perplexity: 322.106081\n",
            "Validation perplexity: 627.097649\n"
          ],
          "name": "stdout"
        }
      ]
    },
    {
      "cell_type": "code",
      "metadata": {
        "id": "ElLuvvndpyZL",
        "colab_type": "code",
        "colab": {}
      },
      "source": [
        ""
      ],
      "execution_count": 0,
      "outputs": []
    }
  ]
}