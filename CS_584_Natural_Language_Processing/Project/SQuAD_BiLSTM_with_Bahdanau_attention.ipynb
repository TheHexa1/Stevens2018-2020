{
  "nbformat": 4,
  "nbformat_minor": 0,
  "metadata": {
    "accelerator": "GPU",
    "colab": {
      "name": "SQuAD_BiLSTM_with_Bahdanau_attention.ipynb",
      "provenance": [],
      "collapsed_sections": []
    },
    "kernelspec": {
      "display_name": "Python 3",
      "language": "python",
      "name": "python3"
    },
    "language_info": {
      "codemirror_mode": {
        "name": "ipython",
        "version": 3
      },
      "file_extension": ".py",
      "mimetype": "text/x-python",
      "name": "python",
      "nbconvert_exporter": "python",
      "pygments_lexer": "ipython3",
      "version": "3.5.3"
    }
  },
  "cells": [
    {
      "cell_type": "code",
      "metadata": {
        "colab_type": "code",
        "id": "qj0BLlwKHAi5",
        "outputId": "9e795162-6aa8-40e5-813e-0414cf010c6f",
        "colab": {
          "base_uri": "https://localhost:8080/",
          "height": 122
        }
      },
      "source": [
        "# from google.colab import drive\n",
        "# drive.mount('/content/drive')\n"
      ],
      "execution_count": 0,
      "outputs": [
        {
          "output_type": "stream",
          "text": [
            "Go to this URL in a browser: https://accounts.google.com/o/oauth2/auth?client_id=947318989803-6bn6qk8qdgf4n4g3pfee6491hc0brc4i.apps.googleusercontent.com&redirect_uri=urn%3aietf%3awg%3aoauth%3a2.0%3aoob&response_type=code&scope=email%20https%3a%2f%2fwww.googleapis.com%2fauth%2fdocs.test%20https%3a%2f%2fwww.googleapis.com%2fauth%2fdrive%20https%3a%2f%2fwww.googleapis.com%2fauth%2fdrive.photos.readonly%20https%3a%2f%2fwww.googleapis.com%2fauth%2fpeopleapi.readonly\n",
            "\n",
            "Enter your authorization code:\n",
            "··········\n",
            "Mounted at /content/drive\n"
          ],
          "name": "stdout"
        }
      ]
    },
    {
      "cell_type": "code",
      "metadata": {
        "colab_type": "code",
        "id": "Xcv68eo3HA_S",
        "outputId": "5453d465-5f9b-419a-c92b-05d6ce4c5eea",
        "colab": {
          "base_uri": "https://localhost:8080/",
          "height": 131
        }
      },
      "source": [
        "import json\n",
        "from pprint import pprint\n",
        "import numpy as np\n",
        "import re\n",
        "import io\n",
        "import nltk\n",
        "nltk.download('punkt')\n",
        "import json\n",
        "import nltk\n",
        "import pandas as pd\n",
        "import numpy as np\n",
        "from keras.models import Sequential, Model\n",
        "from keras.layers import Embedding, Dropout, Dense, Activation\n",
        "from keras.layers import LSTM, Bidirectional, Input\n",
        "from keras.layers import concatenate,merge\n",
        "from keras.preprocessing.sequence import pad_sequences\n",
        "import tensorflow as tf\n",
        "from keras.preprocessing.text import Tokenizer\n",
        "from sklearn.model_selection import train_test_split\n",
        "from keras import backend as K\n",
        "from keras.utils.data_utils import get_file\n",
        "from keras.layers.embeddings import Embedding\n",
        "from keras.layers import Input, Dense, concatenate, Dropout, RepeatVector, Activation, merge, Lambda, Flatten, Reshape\n",
        "from keras.layers import LSTM, Bidirectional, TimeDistributed, GRU, AveragePooling1D, Reshape, GlobalAveragePooling1D\n",
        "from keras.layers import Recurrent, InputSpec\n",
        "from keras.models import Model, load_model\n",
        "from keras import initializers\n",
        "from keras.preprocessing.sequence import pad_sequences\n",
        "\n",
        "from keras.models import Model\n",
        "from keras import optimizers\n",
        "from keras.optimizers import Adam, RMSprop\n",
        "from keras.callbacks import ModelCheckpoint, EarlyStopping\n"
      ],
      "execution_count": 0,
      "outputs": [
        {
          "output_type": "stream",
          "text": [
            "[nltk_data] Downloading package punkt to /home/jupyter/nltk_data...\n",
            "[nltk_data]   Package punkt is already up-to-date!\n",
            "Using TensorFlow backend.\n"
          ],
          "name": "stderr"
        }
      ]
    },
    {
      "cell_type": "code",
      "metadata": {
        "colab_type": "code",
        "id": "84ReBe_nHJRa",
        "colab": {}
      },
      "source": [
        "with open('train-v2.0.json') as data_file:\n",
        "    data = json.load(data_file)\n",
        "\n",
        "data_entity_list = []\n",
        "for item in data['data']:\n",
        "    for p in item['paragraphs']:\n",
        "        for qq in p['qas']:\n",
        "            for a in qq['answers']:\n",
        "                data_entity_list.append((p['context'],qq['question'],a['text'],a['answer_start']))\n",
        "\n",
        "with open('dev-v2.0.json') as data_file:\n",
        "    data1 = json.load(data_file)\n",
        "\n",
        "data_entity_list1 = []\n",
        "for item in data1['data']:\n",
        "    for p in item['paragraphs']:\n",
        "        for qq in p['qas']:\n",
        "            for a in qq['answers']:\n",
        "                data_entity_list1.append((p['context'],qq['question'],a['text'],a['answer_start']))\n"
      ],
      "execution_count": 0,
      "outputs": []
    },
    {
      "cell_type": "code",
      "metadata": {
        "colab_type": "code",
        "id": "FPoVjVCUJMr1",
        "colab": {}
      },
      "source": [
        "import pandas as pd\n",
        "\n",
        "df=pd.DataFrame(data_entity_list, columns=['context','question','answer','answer_start'])\n",
        "val=pd.DataFrame(data_entity_list1, columns=['context','question','answer','answer_start'])"
      ],
      "execution_count": 0,
      "outputs": []
    },
    {
      "cell_type": "code",
      "metadata": {
        "id": "gZVdLBDD2LkI",
        "colab_type": "code",
        "colab": {},
        "outputId": "521c2607-5497-4787-c6e4-b4dc39c8ec94"
      },
      "source": [
        "import re\n",
        "df['answer_end']= 0\n",
        "for i in range(len(df)):\n",
        "    new=df['answer'][i].split()\n",
        "    df['answer_end'][i]=(len(new)-1)+df['answer_start'][i]\n",
        "\n",
        "val['answer_end']= 0\n",
        "for i in range(len(val)):\n",
        "    new=val['answer'][i].split()\n",
        "    val['answer_end'][i]=(len(new)-1)+val['answer_start'][i]\n"
      ],
      "execution_count": 0,
      "outputs": [
        {
          "output_type": "stream",
          "text": [
            "/usr/local/lib/python3.5/dist-packages/ipykernel_launcher.py:5: SettingWithCopyWarning: \n",
            "A value is trying to be set on a copy of a slice from a DataFrame\n",
            "\n",
            "See the caveats in the documentation: http://pandas.pydata.org/pandas-docs/stable/user_guide/indexing.html#returning-a-view-versus-a-copy\n",
            "  \"\"\"\n",
            "/usr/local/lib/python3.5/dist-packages/ipykernel_launcher.py:10: SettingWithCopyWarning: \n",
            "A value is trying to be set on a copy of a slice from a DataFrame\n",
            "\n",
            "See the caveats in the documentation: http://pandas.pydata.org/pandas-docs/stable/user_guide/indexing.html#returning-a-view-versus-a-copy\n",
            "  # Remove the CWD from sys.path while we load stuff.\n"
          ],
          "name": "stderr"
        }
      ]
    },
    {
      "cell_type": "code",
      "metadata": {
        "id": "kX23enoD2LkS",
        "colab_type": "code",
        "colab": {}
      },
      "source": [
        "X_train,y_train=df[['context','question']],df[['answer_start','answer_end']]\n",
        "X_test,y_test=val[['context','question']],val[['answer_start','answer_end']]"
      ],
      "execution_count": 0,
      "outputs": []
    },
    {
      "cell_type": "code",
      "metadata": {
        "id": "sS_ldB292Lkb",
        "colab_type": "code",
        "colab": {},
        "outputId": "86397867-9bcb-474b-b57c-fa90df4bcfd3"
      },
      "source": [
        "X_train.shape,y_train.shape,X_test.shape,y_test.shape"
      ],
      "execution_count": 0,
      "outputs": [
        {
          "output_type": "execute_result",
          "data": {
            "text/plain": [
              "((86821, 2), (86821, 2), (20302, 2), (20302, 2))"
            ]
          },
          "metadata": {
            "tags": []
          },
          "execution_count": 6
        }
      ]
    },
    {
      "cell_type": "code",
      "metadata": {
        "id": "X2Tl5mCd2Lkk",
        "colab_type": "code",
        "colab": {}
      },
      "source": [
        "tokenizer = Tokenizer() \n",
        "tokenizer.fit_on_texts(X_train['context'])\n",
        "vocab_size = len(tokenizer.word_index) + 1"
      ],
      "execution_count": 0,
      "outputs": []
    },
    {
      "cell_type": "code",
      "metadata": {
        "id": "xKBdGI212Lks",
        "colab_type": "code",
        "colab": {},
        "outputId": "47b66cf0-a8ca-4297-ce5a-db93e869e47f"
      },
      "source": [
        "vocab_size"
      ],
      "execution_count": 0,
      "outputs": [
        {
          "output_type": "execute_result",
          "data": {
            "text/plain": [
              "86901"
            ]
          },
          "metadata": {
            "tags": []
          },
          "execution_count": 8
        }
      ]
    },
    {
      "cell_type": "code",
      "metadata": {
        "id": "D3jIdAKl2Lk1",
        "colab_type": "code",
        "colab": {},
        "outputId": "e858d29f-5a90-4ebd-dfce-4f8e416bcd9e"
      },
      "source": [
        "lenght_list=[]\n",
        "for l in X_train.question:\n",
        "    lenght_list.append(len(l.split(' ')))\n",
        "max_ques= np.max(lenght_list)\n",
        "max_ques\n",
        "\n",
        "lenght_list=[]\n",
        "for l in X_train.context:\n",
        "    lenght_list.append(len(l.split(' ')))\n",
        "max_doc= np.max(lenght_list)\n",
        "max_doc\n"
      ],
      "execution_count": 0,
      "outputs": [
        {
          "output_type": "execute_result",
          "data": {
            "text/plain": [
              "653"
            ]
          },
          "metadata": {
            "tags": []
          },
          "execution_count": 9
        }
      ]
    },
    {
      "cell_type": "code",
      "metadata": {
        "id": "KyGkATJS2Lk9",
        "colab_type": "code",
        "colab": {}
      },
      "source": [
        "words = vocab_size\n",
        "EMBEDDING_DIM = 100\n",
        "MAX_SEQUENCE_LENGTH = max_doc\n",
        "\n",
        "f = open('glove.6B.100d.txt','r',encoding=\"utf8\")\n",
        "embedding_index = {}\n",
        "for line in f:\n",
        "    values = line.split()\n",
        "    word = values[0]\n",
        "    coefs = np.asarray(values[1:], dtype='float32')\n",
        "    embedding_index[word] = coefs \n",
        "f.close()\n",
        "\n",
        "embedding_matrix = np.zeros((words, EMBEDDING_DIM))\n",
        "for word, i in tokenizer.word_index.items():\n",
        "    embedding_vector = embedding_index.get(word)\n",
        "    if embedding_vector is not None:\n",
        "        embedding_matrix[i] = embedding_vector\n",
        "\n",
        "embedding_layer = Embedding(words,EMBEDDING_DIM,weights=[embedding_matrix],input_length=MAX_SEQUENCE_LENGTH,trainable=True)"
      ],
      "execution_count": 0,
      "outputs": []
    },
    {
      "cell_type": "code",
      "metadata": {
        "id": "dwcv1jR42LlF",
        "colab_type": "code",
        "colab": {}
      },
      "source": [
        "''' \n",
        "To perform vectorization of text records, \n",
        "this function is taken from 'https://github.com/wentaozhu/recurrent-attention-for-QA-SQUAD-based-on-keras' with necessary modifications.\n",
        "\n",
        "Vectorize the words to their respective index and pad context to max context length and question to max question length.\n",
        "Answers vectors are padded to the max context length as well.\n",
        "'''\n",
        "def vectorizeData(xContext, xQuestion, xAnswerBeing, xAnswerEnd, word_index, context_maxlen, question_maxlen):\n",
        "    X = []\n",
        "    Xq = []\n",
        "    YBegin = []\n",
        "    YEnd = []\n",
        "    for i in range(len(xContext)):\n",
        "        x = [word_index[w] if w in tokenizer.word_index else tokenizer.word_index['a']  for w in xContext[i]]\n",
        "        xq = [word_index[w] if w in tokenizer.word_index else tokenizer.word_index['a'] for w in xQuestion[i] ]\n",
        "        y_Begin =  np.zeros(len(xContext[i]))\n",
        "        y_Begin[xAnswerBeing[i]] = 1\n",
        "        y_End = np.zeros(len(xContext[i]))\n",
        "        y_End[xAnswerEnd[i]] = 1\n",
        "        X.append(x)\n",
        "        Xq.append(xq)\n",
        "        YBegin.append(y_Begin)\n",
        "        YEnd.append(y_End)\n",
        "    return pad_sequences(X, maxlen=context_maxlen, padding='post'), pad_sequences(Xq, maxlen=question_maxlen, padding='post'), pad_sequences(YBegin, maxlen=context_maxlen, padding='post'), pad_sequences(YEnd, maxlen=context_maxlen, padding='post')"
      ],
      "execution_count": 0,
      "outputs": []
    },
    {
      "cell_type": "code",
      "metadata": {
        "id": "4RlnfUc-2LlO",
        "colab_type": "code",
        "colab": {}
      },
      "source": [
        "X_train,y_train=X_train.reset_index() ,y_train.reset_index()\n",
        "tX, tXq, tYBegin, tYEnd = vectorizeData(X_train['context'],X_train['question'],y_train['answer_start'],y_train['answer_end'],tokenizer.word_index,max_doc,max_ques)"
      ],
      "execution_count": 0,
      "outputs": []
    },
    {
      "cell_type": "code",
      "metadata": {
        "colab_type": "code",
        "id": "7-f2Vi8bJz0p",
        "colab": {}
      },
      "source": [
        "''' \n",
        "To perform vectorization of text records, \n",
        "this function is taken from 'https://github.com/wentaozhu/recurrent-attention-for-QA-SQUAD-based-on-keras' with necessary modifications.\n",
        "\n",
        "Vectorize the words to their respective index and pad context to max context length and question to max question length.\n",
        "Answers vectors are padded to the max context length as well.\n",
        "'''\n",
        "\n",
        "def vectorizeValData(xContext, xQuestion, word_index, context_maxlen, question_maxlen):\n",
        "    X = []\n",
        "    Xq = []\n",
        "    YBegin = []\n",
        "    YEnd = []\n",
        "    for i in range(len(xContext)):\n",
        "        x = [word_index[w] if w in tokenizer.word_index else tokenizer.word_index['a']  for w in xContext[i]]\n",
        "        xq = [word_index[w] if w in tokenizer.word_index else tokenizer.word_index['a'] for w in xQuestion[i] ]\n",
        "        X.append(x)\n",
        "        Xq.append(xq)\n",
        "\n",
        "    return pad_sequences(X, maxlen=context_maxlen, padding='post'), pad_sequences(Xq, maxlen=question_maxlen, padding='post')\n",
        "\n",
        "# vX, vXq = vectorizeValData(X_test['context'],X_test['question'], tokenizer.word_index,max_doc,max_ques)\n",
        "vX, vXq, vStart, vEnd = vectorizeData(X_test['context'],X_test['question'],y_test['answer_start'],y_test['answer_end'],tokenizer.word_index,max_doc,max_ques)"
      ],
      "execution_count": 0,
      "outputs": []
    },
    {
      "cell_type": "code",
      "metadata": {
        "colab_type": "code",
        "id": "Q09xY5JaOhgN",
        "colab": {}
      },
      "source": [
        "'''\n",
        "To calculate Bahdanau Attention, the given class is taken from \n",
        "https://github.com/wentaozhu/recurrent-attention-for-QA-SQUAD-based-on-keras/blob/master/rnnlayer.py , as it was already implemented and available.\n",
        "'''\n",
        "class Attention(Recurrent):\n",
        "    def __init__(self, units, h_dim,\n",
        "                 kernel_initializer='glorot_uniform', recurrent_initializer='orthogonal',\n",
        "                 **kwargs):\n",
        "        self.units = units\n",
        "        self.h_dim = h_dim\n",
        "        self.kernel_initializer = initializers.get(kernel_initializer)\n",
        "        self.recurrent_initializer = initializers.get(recurrent_initializer)\n",
        "        super(Attention, self).__init__(**kwargs)\n",
        "\n",
        "    def build(self, input_shape):\n",
        "        self.input_spec = [InputSpec(shape=input_shape)]\n",
        "        self.input_dim = input_shape[2] - self.h_dim\n",
        "\n",
        "        if self.stateful:\n",
        "            self.reset_states()\n",
        "        else:\n",
        "            self.states = [None]\n",
        "\n",
        "        self.Wa = self.add_weight('{}_Wa'.format(self.name), (self.units, self.units),\n",
        "                                  initializer=self.recurrent_initializer)\n",
        "        self.Ua = self.add_weight('{}_Ua'.format(self.name), (self.h_dim, self.units),\n",
        "                                  initializer=self.recurrent_initializer)\n",
        "        self.Va = self.add_weight('{}_Va'.format(self.name),(self.units,1),\n",
        "                                  initializer=self.recurrent_initializer)\n",
        "        self.Wzr = self.add_weight('{}_Wzr'.format(self.name), (self.input_dim, 2 * self.units),\n",
        "                                 initializer=self.recurrent_initializer)\n",
        "        self.Uzr = self.add_weight('{}_Wzr'.format(self.name), (self.units, 2 * self.units),\n",
        "                                 initializer=self.recurrent_initializer)\n",
        "        self.Czr = self.add_weight('{}_Czr'.format(self.name), (self.h_dim, 2 * self.units),\n",
        "                                   initializer=self.recurrent_initializer)\n",
        "        self.W = self.add_weight('{}_W'.format(self.name), (self.input_dim, self.units),\n",
        "                                 initializer=self.recurrent_initializer)\n",
        "        self.U = self.add_weight('{}_U'.format(self.name), (self.units, self.units),\n",
        "                                 initializer=self.recurrent_initializer)\n",
        "        self.C = self.add_weight('{}_C'.format(self.name), (self.h_dim, self.units),\n",
        "                                 initializer=self.recurrent_initializer)\n",
        "        self.built = True\n",
        "\n",
        "    def reset_states(self):\n",
        "        assert self.stateful, 'Layer must be stateful.'\n",
        "        input_shape = self.input_spec[0].shape\n",
        "        if not input_shape[0]:\n",
        "            raise ValueError('If a RNN is stateful, a complete '\n",
        "                             'input_shape must be provided '\n",
        "                             '(including batch size).')\n",
        "        if hasattr(self, 'states'):\n",
        "            K.set_value(self.states[0],\n",
        "                        np.zeros((input_shape[0], self.units)))\n",
        "        else:\n",
        "            self.states = [K.zeros((input_shape[0], self.units))]\n",
        "\n",
        "    def preprocess_input(self, inputs, training=None):\n",
        "        return inputs\n",
        "\n",
        "    def step(self, inputs, states):\n",
        "        h_tm1 = states[0]  # previous memory\n",
        "        h_tm1a = K.dot(h_tm1, self.Wa)\n",
        "        eij = K.dot(K.tanh(h_tm1a + K.dot(inputs[:, :self.h_dim], self.Ua)), self.Va)\n",
        "        eijs = K.repeat_elements(eij, self.h_dim, axis=1)\n",
        "\n",
        "        cisum = eijs*inputs[:, :self.h_dim]\n",
        "        zr = K.sigmoid(K.dot(inputs[:, self.h_dim:], self.Wzr) + K.dot(h_tm1, self.Uzr) + K.dot(cisum, self.Czr))\n",
        "        zi = zr[:, :self.units]\n",
        "        ri = zr[:, self.units: 2 * self.units]\n",
        "        si_ = K.tanh(K.dot(inputs[:, self.h_dim:], self.W) + K.dot(ri*h_tm1, self.U) + K.dot(cisum, self.C))\n",
        "        si = (1-zi) * h_tm1 + zi * si_\n",
        "        return si, [si] #h_tm1, [h_tm1]\n",
        "\n",
        "    def get_constants(self, inputs, training=None):\n",
        "        constants = []\n",
        "        constants.append([K.cast_to_floatx(1.) for _ in range(3)])\n",
        "        return constants\n",
        "\n",
        "    def get_config(self):\n",
        "        config = {'units': self.units,\n",
        "                  'kernel_initializer': initializers.serialize(self.kernel_initializer),\n",
        "                  'recurrent_initializer': initializers.serialize(self.recurrent_initializer)}\n",
        "        base_config = super(Attention, self).get_config()\n",
        "        return dict(list(base_config.items()) + list(config.items()))"
      ],
      "execution_count": 0,
      "outputs": []
    },
    {
      "cell_type": "code",
      "metadata": {
        "colab_type": "code",
        "id": "daqR8QDxKr_x",
        "outputId": "041f197f-7cfa-40d2-d0ce-bd1bc117f411",
        "colab": {
          "base_uri": "https://localhost:8080/",
          "height": 343
        }
      },
      "source": [
        "question_input = Input(shape=(question_maxlen,), dtype='int32', name='question_input')\n",
        "context_input = Input(shape=(context_maxlen,), dtype='int32', name='context_input')\n",
        "\n",
        "questionEmbd = Embedding(output_dim=EMBEDDING_DIM, input_dim=vocab_size,\n",
        "                         weights=[embedding_matrix], \n",
        "                         input_length=question_maxlen, trainable=False)(question_input)  \n",
        "contextEmbd = Embedding(output_dim=EMBEDDING_DIM, input_dim=vocab_size,\n",
        "                         weights=[embedding_matrix], \n",
        "                         input_length=context_maxlen, trainable=False)(context_input)  "
      ],
      "execution_count": 0,
      "outputs": [
        {
          "output_type": "stream",
          "text": [
            "WARNING:tensorflow:From /usr/local/lib/python3.6/dist-packages/keras/backend/tensorflow_backend.py:541: The name tf.placeholder is deprecated. Please use tf.compat.v1.placeholder instead.\n",
            "\n",
            "WARNING:tensorflow:From /usr/local/lib/python3.6/dist-packages/keras/backend/tensorflow_backend.py:66: The name tf.get_default_graph is deprecated. Please use tf.compat.v1.get_default_graph instead.\n",
            "\n",
            "WARNING:tensorflow:From /usr/local/lib/python3.6/dist-packages/keras/backend/tensorflow_backend.py:4432: The name tf.random_uniform is deprecated. Please use tf.random.uniform instead.\n",
            "\n",
            "WARNING:tensorflow:From /usr/local/lib/python3.6/dist-packages/keras/backend/tensorflow_backend.py:190: The name tf.get_default_session is deprecated. Please use tf.compat.v1.get_default_session instead.\n",
            "\n",
            "WARNING:tensorflow:From /usr/local/lib/python3.6/dist-packages/keras/backend/tensorflow_backend.py:197: The name tf.ConfigProto is deprecated. Please use tf.compat.v1.ConfigProto instead.\n",
            "\n",
            "WARNING:tensorflow:From /usr/local/lib/python3.6/dist-packages/keras/backend/tensorflow_backend.py:203: The name tf.Session is deprecated. Please use tf.compat.v1.Session instead.\n",
            "\n",
            "WARNING:tensorflow:From /usr/local/lib/python3.6/dist-packages/keras/backend/tensorflow_backend.py:207: The name tf.global_variables is deprecated. Please use tf.compat.v1.global_variables instead.\n",
            "\n",
            "WARNING:tensorflow:From /usr/local/lib/python3.6/dist-packages/keras/backend/tensorflow_backend.py:216: The name tf.is_variable_initialized is deprecated. Please use tf.compat.v1.is_variable_initialized instead.\n",
            "\n",
            "WARNING:tensorflow:From /usr/local/lib/python3.6/dist-packages/keras/backend/tensorflow_backend.py:223: The name tf.variables_initializer is deprecated. Please use tf.compat.v1.variables_initializer instead.\n",
            "\n"
          ],
          "name": "stdout"
        }
      ]
    },
    {
      "cell_type": "code",
      "metadata": {
        "colab_type": "code",
        "id": "5gAS4gYvNAK1",
        "outputId": "db8c561e-7368-4ba4-bc07-e5711a49807c",
        "colab": {
          "base_uri": "https://localhost:8080/",
          "height": 122
        }
      },
      "source": [
        "Q_h = Bidirectional(LSTM(100, return_sequences=True))(questionEmbd)\n",
        "C_h = Bidirectional(LSTM(100, return_sequences=True))(contextEmbd)\n",
        "\n",
        "merge1 = concatenate([Q_h, C_h], axis=1)\n",
        "atten_1 = Attention(100, 100, return_sequences=True)(merge1)\n",
        "dropout_1 = Dropout(0.25)(atten_1)\n",
        "\n",
        "QC_bilstm = Bidirectional(LSTM(100, return_sequences=True))(dropout_1)\n",
        "merge2 = concatenate([QC_bilstm, C_h], axis=1)\n",
        "dropout_2 = Dropout(0.5)(merge2)\n",
        "\n",
        "start_bilstm =  Bidirectional(LSTM(100, return_sequences=True))(dropout_2)\n",
        "end_bilstm =  Bidirectional(LSTM(100, return_sequences=True))(dropout_2)\n"
      ],
      "execution_count": 0,
      "outputs": [
        {
          "output_type": "stream",
          "text": [
            "WARNING:tensorflow:From /usr/local/lib/python3.6/dist-packages/keras/backend/tensorflow_backend.py:148: The name tf.placeholder_with_default is deprecated. Please use tf.compat.v1.placeholder_with_default instead.\n",
            "\n",
            "WARNING:tensorflow:From /usr/local/lib/python3.6/dist-packages/keras/backend/tensorflow_backend.py:3733: calling dropout (from tensorflow.python.ops.nn_ops) with keep_prob is deprecated and will be removed in a future version.\n",
            "Instructions for updating:\n",
            "Please use `rate` instead of `keep_prob`. Rate should be set to `rate = 1 - keep_prob`.\n"
          ],
          "name": "stdout"
        }
      ]
    },
    {
      "cell_type": "code",
      "metadata": {
        "colab_type": "code",
        "id": "ec_1mtLGKwAI",
        "outputId": "f58805ac-d7eb-42bd-a5a7-f253f8aaae75",
        "colab": {
          "base_uri": "https://localhost:8080/",
          "height": 34
        }
      },
      "source": [
        "merge2.shape"
      ],
      "execution_count": 0,
      "outputs": [
        {
          "output_type": "execute_result",
          "data": {
            "text/plain": [
              "TensorShape([Dimension(None), Dimension(None), Dimension(200)])"
            ]
          },
          "metadata": {
            "tags": []
          },
          "execution_count": 22
        }
      ]
    },
    {
      "cell_type": "code",
      "metadata": {
        "colab_type": "code",
        "id": "Pm0NFWJpNKvY",
        "colab": {}
      },
      "source": [
        "start_token_dense = LSTM(context_maxlen, activation='softmax')(start_bilstm)\n",
        "end_token_dense = LSTM(context_maxlen, activation='softmax')(end_bilstm)\n"
      ],
      "execution_count": 0,
      "outputs": []
    },
    {
      "cell_type": "code",
      "metadata": {
        "colab_type": "code",
        "id": "b9BMjQu7PG0s",
        "outputId": "0c578153-cd1b-4525-91f4-941a1dd1f918",
        "colab": {
          "base_uri": "https://localhost:8080/",
          "height": 853
        }
      },
      "source": [
        "model = Model(input=[context_input, question_input], output=[start_token_dense, end_token_dense])\n",
        "adam = optimizers.Adam(lr=0.003)\n",
        "model.compile(optimizer=adam, loss='categorical_crossentropy')\n",
        "model.summary()"
      ],
      "execution_count": 0,
      "outputs": [
        {
          "output_type": "stream",
          "text": [
            "WARNING:tensorflow:From /usr/local/lib/python3.6/dist-packages/keras/optimizers.py:793: The name tf.train.Optimizer is deprecated. Please use tf.compat.v1.train.Optimizer instead.\n",
            "\n",
            "WARNING:tensorflow:From /usr/local/lib/python3.6/dist-packages/keras/backend/tensorflow_backend.py:3576: The name tf.log is deprecated. Please use tf.math.log instead.\n",
            "\n",
            "Model: \"model_1\"\n",
            "__________________________________________________________________________________________________\n",
            "Layer (type)                    Output Shape         Param #     Connected to                     \n",
            "==================================================================================================\n",
            "question_input (InputLayer)     (None, 60)           0                                            \n",
            "__________________________________________________________________________________________________\n",
            "context_input (InputLayer)      (None, 300)          0                                            \n",
            "__________________________________________________________________________________________________\n",
            "embedding_1 (Embedding)         (None, 60, 100)      10487700    question_input[0][0]             \n",
            "__________________________________________________________________________________________________\n",
            "embedding_2 (Embedding)         (None, 300, 100)     10487700    context_input[0][0]              \n",
            "__________________________________________________________________________________________________\n",
            "bidirectional_1 (Bidirectional) (None, 60, 200)      160800      embedding_1[0][0]                \n",
            "__________________________________________________________________________________________________\n",
            "bidirectional_2 (Bidirectional) (None, 300, 200)     160800      embedding_2[0][0]                \n",
            "__________________________________________________________________________________________________\n",
            "concatenate_1 (Concatenate)     (None, 360, 200)     0           bidirectional_1[0][0]            \n",
            "                                                                 bidirectional_2[0][0]            \n",
            "__________________________________________________________________________________________________\n",
            "attention_1 (Attention)         (None, 360, 100)     110100      concatenate_1[0][0]              \n",
            "__________________________________________________________________________________________________\n",
            "dropout_1 (Dropout)             (None, 360, 100)     0           attention_1[0][0]                \n",
            "__________________________________________________________________________________________________\n",
            "bidirectional_3 (Bidirectional) (None, 360, 200)     160800      dropout_1[0][0]                  \n",
            "__________________________________________________________________________________________________\n",
            "concatenate_2 (Concatenate)     (None, 660, 200)     0           bidirectional_3[0][0]            \n",
            "                                                                 bidirectional_2[0][0]            \n",
            "__________________________________________________________________________________________________\n",
            "dropout_2 (Dropout)             (None, 660, 200)     0           concatenate_2[0][0]              \n",
            "__________________________________________________________________________________________________\n",
            "bidirectional_4 (Bidirectional) (None, 660, 200)     240800      dropout_2[0][0]                  \n",
            "__________________________________________________________________________________________________\n",
            "bidirectional_5 (Bidirectional) (None, 660, 200)     240800      dropout_2[0][0]                  \n",
            "__________________________________________________________________________________________________\n",
            "lstm_6 (LSTM)                   (None, 300)          601200      bidirectional_4[0][0]            \n",
            "__________________________________________________________________________________________________\n",
            "lstm_7 (LSTM)                   (None, 300)          601200      bidirectional_5[0][0]            \n",
            "==================================================================================================\n",
            "Total params: 23,251,900\n",
            "Trainable params: 2,276,500\n",
            "Non-trainable params: 20,975,400\n",
            "__________________________________________________________________________________________________\n"
          ],
          "name": "stdout"
        },
        {
          "output_type": "stream",
          "text": [
            "/usr/local/lib/python3.6/dist-packages/ipykernel_launcher.py:1: UserWarning: Update your `Model` call to the Keras 2 API: `Model(inputs=[<tf.Tenso..., outputs=[<tf.Tenso...)`\n",
            "  \"\"\"Entry point for launching an IPython kernel.\n"
          ],
          "name": "stderr"
        }
      ]
    },
    {
      "cell_type": "code",
      "metadata": {
        "colab_type": "code",
        "id": "2adgQcnROaQP",
        "outputId": "b4543bf8-3e18-4841-a2f5-ebb4b0cd4883",
        "colab": {
          "base_uri": "https://localhost:8080/",
          "height": 34
        }
      },
      "source": [
        "tX = tX[:50000]\n",
        "tXq = tXq[:50000]\n",
        "tYBegin = tYBegin[:50000]\n",
        "tYEnd = tYEnd[:50000]\n",
        "vX = vX[:5000]\n",
        "vXq = vXq[:5000]\n",
        "vStart = vStart[:5000]\n",
        "vEnd = vEnd[:5000]\n",
        "\n",
        "tX.shape"
      ],
      "execution_count": 0,
      "outputs": [
        {
          "output_type": "execute_result",
          "data": {
            "text/plain": [
              "(50000, 300)"
            ]
          },
          "metadata": {
            "tags": []
          },
          "execution_count": 25
        }
      ]
    },
    {
      "cell_type": "code",
      "metadata": {
        "colab_type": "code",
        "id": "1DZE50EwPQ_H",
        "outputId": "b68b9ea1-3e16-4fd9-c55b-1945440fcfd4",
        "colab": {
          "base_uri": "https://localhost:8080/",
          "height": 700
        }
      },
      "source": [
        "checkpoint2 = ModelCheckpoint('squad_bilstm_with_atten1_v3.h5', monitor='val_lstm_6_loss', verbose=1, save_best_only=True, mode='min', period=2)\n",
        "checkpoint3 = EarlyStopping(monitor='val_lstm_6_loss', min_delta=0.01, patience=7, verbose=1, mode='min')\n",
        "checkpoint4 = EarlyStopping(monitor='val_lstm_7_loss', min_delta=0.01, patience=7, verbose=1, mode='min')\n",
        "callbacks_list = [checkpoint2, checkpoint3, checkpoint4] \n",
        "EPOCHS = 10\n",
        "model.fit([tX, tXq], [tYBegin,tYEnd], epochs=EPOCHS, batch_size=128, shuffle=True, \n",
        "          validation_split=0.2, \\\n",
        "          callbacks=callbacks_list, use_multiprocessing=True)"
      ],
      "execution_count": 0,
      "outputs": [
        {
          "output_type": "stream",
          "text": [
            "WARNING:tensorflow:From /usr/local/lib/python3.6/dist-packages/tensorflow_core/python/ops/math_grad.py:1424: where (from tensorflow.python.ops.array_ops) is deprecated and will be removed in a future version.\n",
            "Instructions for updating:\n",
            "Use tf.where in 2.0, which has the same broadcast rule as np.where\n",
            "WARNING:tensorflow:From /usr/local/lib/python3.6/dist-packages/keras/backend/tensorflow_backend.py:1033: The name tf.assign_add is deprecated. Please use tf.compat.v1.assign_add instead.\n",
            "\n",
            "WARNING:tensorflow:From /usr/local/lib/python3.6/dist-packages/keras/backend/tensorflow_backend.py:1020: The name tf.assign is deprecated. Please use tf.compat.v1.assign instead.\n",
            "\n",
            "Train on 40000 samples, validate on 10000 samples\n",
            "Epoch 1/10\n",
            "40000/40000 [==============================] - 3062s 77ms/step - loss: 10.6121 - lstm_6_loss: 5.2562 - lstm_7_loss: 5.3559 - val_loss: 10.4422 - val_lstm_6_loss: 5.1864 - val_lstm_7_loss: 5.2558\n",
            "Epoch 2/10\n",
            "40000/40000 [==============================] - 3046s 76ms/step - loss: 10.4012 - lstm_6_loss: 5.1836 - lstm_7_loss: 5.2177 - val_loss: 10.3816 - val_lstm_6_loss: 5.1688 - val_lstm_7_loss: 5.2128\n",
            "\n",
            "Epoch 00002: val_lstm_6_loss improved from inf to 5.16880, saving model to squad_bilstm_with_atten1_v3.h5\n",
            "Epoch 3/10\n",
            "40000/40000 [==============================] - 3068s 77ms/step - loss: 10.3389 - lstm_6_loss: 5.1548 - lstm_7_loss: 5.1841 - val_loss: 10.3493 - val_lstm_6_loss: 5.1522 - val_lstm_7_loss: 5.1972\n",
            "Epoch 4/10\n",
            "40000/40000 [==============================] - 3092s 77ms/step - loss: 10.3178 - lstm_6_loss: 5.1341 - lstm_7_loss: 5.1837 - val_loss: 10.3634 - val_lstm_6_loss: 5.1505 - val_lstm_7_loss: 5.2130\n",
            "\n",
            "Epoch 00004: val_lstm_6_loss improved from 5.16880 to 5.15046, saving model to squad_bilstm_with_atten1_v3.h5\n",
            "Epoch 5/10\n",
            "40000/40000 [==============================] - 3078s 77ms/step - loss: 10.3181 - lstm_6_loss: 5.1173 - lstm_7_loss: 5.2008 - val_loss: 10.3512 - val_lstm_6_loss: 5.1232 - val_lstm_7_loss: 5.2280\n",
            "Epoch 6/10\n",
            "40000/40000 [==============================] - 2968s 74ms/step - loss: 10.3214 - lstm_6_loss: 5.1172 - lstm_7_loss: 5.2041 - val_loss: 10.3518 - val_lstm_6_loss: 5.1215 - val_lstm_7_loss: 5.2303\n",
            "\n",
            "Epoch 00006: val_lstm_6_loss improved from 5.15046 to 5.12152, saving model to squad_bilstm_with_atten1_v3.h5\n",
            "Epoch 7/10\n",
            "40000/40000 [==============================] - 2895s 72ms/step - loss: 3.5232 - lstm_6_loss: 1.7433 - lstm_7_loss: 1.7798 - val_loss: 2.3842e-07 - val_lstm_6_loss: 1.1921e-07 - val_lstm_7_loss: 1.1921e-07\n",
            "Epoch 8/10\n",
            "40000/40000 [==============================] - 2919s 73ms/step - loss: 2.3842e-07 - lstm_6_loss: 1.1921e-07 - lstm_7_loss: 1.1921e-07 - val_loss: 2.3842e-07 - val_lstm_6_loss: 1.1921e-07 - val_lstm_7_loss: 1.1921e-07\n",
            "\n",
            "Epoch 00008: val_lstm_6_loss improved from 5.12152 to 0.00000, saving model to squad_bilstm_with_atten1_v3.h5\n",
            "Epoch 9/10\n",
            "40000/40000 [==============================] - 2911s 73ms/step - loss: 2.3842e-07 - lstm_6_loss: 1.1921e-07 - lstm_7_loss: 1.1921e-07 - val_loss: 2.3842e-07 - val_lstm_6_loss: 1.1921e-07 - val_lstm_7_loss: 1.1921e-07\n",
            "Epoch 10/10\n",
            "40000/40000 [==============================] - 2915s 73ms/step - loss: 2.3842e-07 - lstm_6_loss: 1.1921e-07 - lstm_7_loss: 1.1921e-07 - val_loss: 2.3842e-07 - val_lstm_6_loss: 1.1921e-07 - val_lstm_7_loss: 1.1921e-07\n",
            "\n",
            "Epoch 00010: val_lstm_6_loss did not improve from 0.00000\n"
          ],
          "name": "stdout"
        },
        {
          "output_type": "execute_result",
          "data": {
            "text/plain": [
              "<keras.callbacks.History at 0x7f945db5a518>"
            ]
          },
          "metadata": {
            "tags": []
          },
          "execution_count": 26
        }
      ]
    },
    {
      "cell_type": "code",
      "metadata": {
        "colab_type": "code",
        "id": "5XNO4_41Zmrf",
        "colab": {}
      },
      "source": [
        "# model.save('squad_bilstm_with_atten1_weights.h5')"
      ],
      "execution_count": 0,
      "outputs": []
    },
    {
      "cell_type": "code",
      "metadata": {
        "id": "TNgBhHEc3EVR",
        "colab_type": "code",
        "colab": {}
      },
      "source": [
        "# from keras.model import load_model\n",
        "# trained_model = load_model('/content/squad_bilstm_with_atten1_weights.h5')\n",
        "\n",
        "predictions = model.predict([vX, vXq], batch_size=128)\n",
        "ansBegin = np.zeros((predictions[0].shape[0],), dtype=np.int32)\n",
        "ansEnd = np.zeros((predictions[0].shape[0],),dtype=np.int32) \n",
        "for i in range(predictions[0].shape[0]):\n",
        "\tansBegin[i] = predictions[0][i, :].argmax()\n",
        "\tansEnd[i] = predictions[1][i, :].argmax()"
      ],
      "execution_count": 0,
      "outputs": []
    },
    {
      "cell_type": "code",
      "metadata": {
        "colab_type": "code",
        "id": "YFvfpBZmH0Ga",
        "outputId": "2445e4ae-6309-44e0-9436-a798e1ce8758",
        "colab": {
          "base_uri": "https://localhost:8080/",
          "height": 34
        }
      },
      "source": [
        "# F1-Score calculation\n",
        "from sklearn.metrics import f1_score\n",
        "\n",
        "start_f1 = f1_score(vStart ,ansBegin, average=\"weighted\")\n",
        "end_f1 = f1_score(vEnd ,ansEnd, average=\"weighted\")\n",
        "\n",
        "#F1\n",
        "(start_f1 + end_f1) / 2"
      ],
      "execution_count": 2,
      "outputs": [
        {
          "output_type": "execute_result",
          "data": {
            "text/plain": [
              "0.578012"
            ]
          },
          "metadata": {
            "tags": []
          },
          "execution_count": 2
        }
      ]
    },
    {
      "cell_type": "code",
      "metadata": {
        "colab_type": "code",
        "id": "NjXuwYmSH7Ny",
        "colab": {
          "base_uri": "https://localhost:8080/",
          "height": 34
        },
        "outputId": "3793f31d-eb04-4185-f083-12db5a82cbb5"
      },
      "source": [
        "# Exact Match calculation\n",
        "\n",
        "matched_token_count = 0\n",
        "\n",
        "for t in range(len(ansBegin)):\n",
        "  if ((ansBegin[t] == vStart[t]) and (ansEnd[t] == vEnd[t])):\n",
        "    matched_token_count += 1\n",
        "\n",
        "# EM\n",
        "matched_token_count / len(ansBegin)"
      ],
      "execution_count": 3,
      "outputs": [
        {
          "output_type": "execute_result",
          "data": {
            "text/plain": [
              "0.458"
            ]
          },
          "metadata": {
            "tags": []
          },
          "execution_count": 3
        }
      ]
    },
    {
      "cell_type": "code",
      "metadata": {
        "id": "5x1hKbuo3j_m",
        "colab_type": "code",
        "colab": {}
      },
      "source": [
        ""
      ],
      "execution_count": 0,
      "outputs": []
    }
  ]
}