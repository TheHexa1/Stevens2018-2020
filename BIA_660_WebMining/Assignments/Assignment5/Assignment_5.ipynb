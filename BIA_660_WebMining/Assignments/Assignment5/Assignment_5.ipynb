{
 "cells": [
  {
   "cell_type": "markdown",
   "metadata": {},
   "source": [
    "### Imports"
   ]
  },
  {
   "cell_type": "code",
   "execution_count": 29,
   "metadata": {},
   "outputs": [],
   "source": [
    "import pandas as pd\n",
    "import numpy as np\n",
    "import nltk\n",
    "from sklearn.feature_extraction.text import TfidfVectorizer\n",
    "from sklearn.pipeline import Pipeline\n",
    "from sklearn.model_selection import GridSearchCV\n",
    "from sklearn.naive_bayes import MultinomialNB\n",
    "from sklearn.metrics import classification_report\n",
    "from matplotlib import pyplot as plt\n",
    "from sklearn.metrics import roc_curve, auc, precision_recall_curve\n",
    "from sklearn.metrics import precision_recall_fscore_support\n",
    "from sklearn.model_selection import cross_validate\n",
    "from sklearn import svm\n",
    "from scipy.spatial import distance"
   ]
  },
  {
   "cell_type": "markdown",
   "metadata": {},
   "source": [
    "### Helper functions"
   ]
  },
  {
   "cell_type": "code",
   "execution_count": 22,
   "metadata": {},
   "outputs": [],
   "source": [
    "def plot_1(x, y, xlabel, ylabel, title, x_lim, y_lim, line=False):\n",
    "    plt.figure()\n",
    "    plt.plot(x, y, color='magenta', lw=2)\n",
    "    if line:\n",
    "        plt.plot([0, 1], [0, 1], color='darkorange', lw=2, linestyle='--')\n",
    "    plt.xlim(x_lim);\n",
    "    plt.ylim(y_lim);\n",
    "    plt.xlabel(xlabel);\n",
    "    plt.ylabel(ylabel);\n",
    "    plt.title(title);\n",
    "    plt.show();"
   ]
  },
  {
   "cell_type": "code",
   "execution_count": 23,
   "metadata": {},
   "outputs": [],
   "source": [
    "def plot_2(x1, y1, x2, y2, xlabel, ylabel, title, legend_labels):\n",
    "    plt.figure()\n",
    "    plt.plot(x1, y1, color='magenta', lw=2)\n",
    "    plt.plot(x2, y2, color='darkorange', lw=2, linestyle='--')\n",
    "    plt.legend(legend_labels)\n",
    "    plt.xlim([800,8000]);\n",
    "    plt.xlabel(xlabel);\n",
    "    plt.ylabel(ylabel);\n",
    "    plt.title(title);\n",
    "    plt.show();"
   ]
  },
  {
   "cell_type": "code",
   "execution_count": 24,
   "metadata": {},
   "outputs": [],
   "source": [
    "def perform_cross_validation(clf, data, labels, folds, metrics):    \n",
    "    cv = cross_validate(clf, data, labels, scoring=metrics, cv=folds, return_train_score=True)    \n",
    "    return cv"
   ]
  },
  {
   "cell_type": "markdown",
   "metadata": {},
   "source": [
    "### Questions"
   ]
  },
  {
   "cell_type": "code",
   "execution_count": 25,
   "metadata": {},
   "outputs": [],
   "source": [
    "# Q1\n",
    "def classify(train_file, test_file):\n",
    "    \n",
    "    #creating dataframes for train and test sets\n",
    "    X_train = pd.read_csv(train_file)\n",
    "    X_test = pd.read_csv(test_file)\n",
    "\n",
    "    # using f1_macro as scoring parameter for grid serach\n",
    "    metric = 'f1_macro'\n",
    "\n",
    "    # developing pipeline of features and classifier\n",
    "    clf = Pipeline([\n",
    "        ('tfidf', TfidfVectorizer()),\n",
    "        ('clf', MultinomialNB())\n",
    "    ])\n",
    "\n",
    "    # dictionary of hyperparameters to be tuned\n",
    "    params = {        \n",
    "        'tfidf__min_df':[1,2,3],\n",
    "        'tfidf__stop_words':[None,'english'],\n",
    "        'clf__alpha':[0.5,1,2]\n",
    "    }\n",
    "\n",
    "    # developing gridsearch model\n",
    "    gs_clf = GridSearchCV(clf, param_grid=params, scoring=metric, cv=5)\n",
    "\n",
    "    # fitting model on train set for hyperparameter tuning\n",
    "    gs_clf_fitted = gs_clf.fit(X_train['text'], X_train['label'])\n",
    "\n",
    "    # printing best params \n",
    "    for param in gs_clf_fitted.best_params_:\n",
    "        print(param, \":\", gs_clf_fitted.best_params_[param])\n",
    "\n",
    "    print(\"Best f1_macro: \", gs_clf_fitted.best_score_ )\n",
    "\n",
    "    # probabilities on test dataset\n",
    "    pred_prob = gs_clf_fitted.predict_proba(X_test['text'])\n",
    "\n",
    "    predictions = gs_clf_fitted.predict(X_test['text'])\n",
    "\n",
    "    # reporting metrics\n",
    "    print(classification_report(X_test['label'], predictions, target_names=None))   \n",
    "\n",
    "    # required plots\n",
    "    precision, recall, thresholds = precision_recall_curve(X_test['label'], pred_prob[:,1], pos_label=2)\n",
    "\n",
    "    fpr, tpr, thresholds = roc_curve(X_test['label'], pred_prob[:,1], pos_label=2)\n",
    "\n",
    "    # precision-recall curve\n",
    "    plot_1(recall, precision, \"Recall\", 'Precision', \"Precision vs Recall curve\" , [0.0, 1.0], [0.0, 1.1])\n",
    "\n",
    "    # Roc-curve\n",
    "    plot_1(fpr, tpr, \"False positive rate\", 'True positive rate', \"Roc Curve\" , [0.0, 1.0], [0.0, 1.1], True)\n",
    "\n",
    "    # calculate auc\n",
    "    print('AUC Score: ',auc(fpr, tpr))"
   ]
  },
  {
   "cell_type": "code",
   "execution_count": 26,
   "metadata": {},
   "outputs": [],
   "source": [
    "# Q2\n",
    "def impact_of_sample_size(train_file):    \n",
    "\n",
    "    df = pd.read_csv(train_file)\n",
    "\n",
    "    # list of metrics\n",
    "    f1_macro_mnb = []\n",
    "    f1_macro_svm = []\n",
    "    roc_auc_mnb = []\n",
    "    roc_auc_svm = []\n",
    "\n",
    "    for i in range(800, 8400, 400):\n",
    "\n",
    "        X_train = df.loc[:i-1]  \n",
    "\n",
    "        metrics = ['f1_macro', 'roc_auc']\n",
    "        \n",
    "        # number of folds for cross-validation\n",
    "        folds = 5\n",
    "\n",
    "        # step1: tfidfvectorizer\n",
    "        dtm = TfidfVectorizer(stop_words='english').fit_transform(X_train['text'])\n",
    "\n",
    "        #step2: MultinomialNB\n",
    "        clf1 = MultinomialNB()\n",
    "        cv_mnb = perform_cross_validation(clf1, dtm, X_train['label'], folds, metrics)    \n",
    "\n",
    "        #step3: Linear SVM\n",
    "        clf2 = svm.LinearSVC()\n",
    "        cv_svm = perform_cross_validation(clf2, dtm, X_train['label'], folds, metrics)\n",
    "\n",
    "        #ste4: collect metrics\n",
    "        f1_macro_mnb.append(np.mean(cv_mnb['test_f1_macro']))\n",
    "        roc_auc_mnb.append(np.mean(cv_mnb['test_roc_auc']))\n",
    "        f1_macro_svm.append(np.mean(cv_svm['test_f1_macro']))\n",
    "        roc_auc_svm.append(np.mean(cv_svm['test_roc_auc']))\n",
    "    \n",
    "    # required plots\n",
    "    plot_2(range(800, 8400, 400), f1_macro_svm, range(800, 8400, 400),f1_macro_mnb, \n",
    "           \"size\", '', \"\" , ['f1_svm', 'f1_nb'])\n",
    "\n",
    "    plot_2(range(800, 8400, 400), roc_auc_svm, range(800, 8400, 400),  roc_auc_mnb, \n",
    "           \"size\", '', \"\" , ['auc_svm', 'auc_nb'])"
   ]
  },
  {
   "cell_type": "code",
   "execution_count": 31,
   "metadata": {},
   "outputs": [],
   "source": [
    "#Q3\n",
    "def classify_duplicate(filename):\n",
    "    \n",
    "    auc = None    \n",
    "    \n",
    "    ##### Feature Engineering #####\n",
    "    \n",
    "    df = pd.read_csv(filename)\n",
    "    y = df['is_duplicate']\n",
    "    \n",
    "    # tf-idf matrix\n",
    "    tfidf_ = TfidfVectorizer(ngram_range=(1, 8), analyzer='char_wb', strip_accents='ascii',sublinear_tf=True)\\\n",
    "                            .fit_transform((df['q1'].append(df['q2']))).toarray()\n",
    "    \n",
    "    # combining tf-idf of question-pair into single matrix\n",
    "    tfidf_sum = tfidf_[500:, :] + tfidf_[:500,:]\n",
    "    \n",
    "    ## cosine similarity ##\n",
    "    \n",
    "    # we will get 1000x1000 similarity matrix with q1 and q2 list concated. \n",
    "    # hence, slicing from 500 to get pairwise similarity for each q1 and q2                                      \n",
    "    pairwise_matrix = 1-distance.squareform(distance.pdist(tfidf_, 'cosine'))[:500,500:]\n",
    "    sim = [pairwise_matrix[i][i] for i in range(500)]\n",
    "    \n",
    "    # adding question cosine similarities as feature in combined tf-idf matrix\n",
    "    data_ = np.hstack((tfidf_sum, np.array(sim).reshape(500,1))) \n",
    "    \n",
    "    ##### Training model #####\n",
    "    \n",
    "    # Using SVM with radial basis function kernel for classification\n",
    "    clf = svm.SVC(kernel='rbf', gamma='auto') \n",
    "    cv_svm = perform_cross_validation(clf, data_, y, 5, ['roc_auc'])\n",
    "    \n",
    "    ##### Report scores #####\n",
    "    \n",
    "    # auc scores on test set using 5-fold cross validation\n",
    "    test_auc = cv_svm['test_roc_auc']\n",
    "\n",
    "    # average AUC\n",
    "    auc = np.mean(test_auc)\n",
    "    \n",
    "    return auc"
   ]
  },
  {
   "cell_type": "markdown",
   "metadata": {},
   "source": [
    "### Test module"
   ]
  },
  {
   "cell_type": "code",
   "execution_count": 33,
   "metadata": {},
   "outputs": [
    {
     "name": "stdout",
     "output_type": "stream",
     "text": [
      "Q1: ####################\n",
      "clf__alpha : 2\n",
      "tfidf__min_df : 1\n",
      "tfidf__stop_words : None\n",
      "Best f1_macro:  0.7134380001639543\n",
      "              precision    recall  f1-score   support\n",
      "\n",
      "           1       0.74      0.76      0.75        99\n",
      "           2       0.76      0.74      0.75       102\n",
      "\n",
      "   micro avg       0.75      0.75      0.75       201\n",
      "   macro avg       0.75      0.75      0.75       201\n",
      "weighted avg       0.75      0.75      0.75       201\n",
      "\n"
     ]
    },
    {
     "data": {
      "image/png": "[encoded data removed]",
      "text/plain": [
       "<Figure size 432x288 with 1 Axes>"
      ]
     },
     "metadata": {
      "needs_background": "light"
     },
     "output_type": "display_data"
    },
    {
     "data": {
      "image/png": "[encoded data removed]",
      "text/plain": [
       "<Figure size 432x288 with 1 Axes>"
      ]
     },
     "metadata": {
      "needs_background": "light"
     },
     "output_type": "display_data"
    },
    {
     "name": "stdout",
     "output_type": "stream",
     "text": [
      "AUC Score:  0.835016835016835\n",
      "\n",
      "Q2: ####################\n"
     ]
    },
    {
     "data": {
      "image/png": "[encoded data removed]",
      "text/plain": [
       "<Figure size 432x288 with 1 Axes>"
      ]
     },
     "metadata": {
      "needs_background": "light"
     },
     "output_type": "display_data"
    },
    {
     "data": {
      "image/png": "[encoded data removed]",
      "text/plain": [
       "<Figure size 432x288 with 1 Axes>"
      ]
     },
     "metadata": {
      "needs_background": "light"
     },
     "output_type": "display_data"
    },
    {
     "name": "stdout",
     "output_type": "stream",
     "text": [
      "\n",
      "Q3: ####################\n",
      "0.7693565589398923\n"
     ]
    }
   ],
   "source": [
    "if __name__ == \"__main__\":\n",
    "    \n",
    "    # Test Q1\n",
    "    print(\"Q1: ####################\")\n",
    "    classify(\"train.csv\", \"test.csv\")\n",
    "    print(\"\")\n",
    "\n",
    "    # Test Q2\n",
    "    print(\"Q2: ####################\")\n",
    "    impact_of_sample_size(\"train_large.csv\")\n",
    "    print(\"\")\n",
    "    \n",
    "    # Test Q3\n",
    "    print(\"Q3: ####################\")\n",
    "    result = classify_duplicate(\"quora_duplicate_question_500.csv\")\n",
    "    print(\"Average AUC: \",result)"
   ]
  },
  {
   "cell_type": "code",
   "execution_count": null,
   "metadata": {},
   "outputs": [],
   "source": []
  }
 ],
 "metadata": {
  "kernelspec": {
   "display_name": "Python 3",
   "language": "python",
   "name": "python3"
  },
  "language_info": {
   "codemirror_mode": {
    "name": "ipython",
    "version": 3
   },
   "file_extension": ".py",
   "mimetype": "text/x-python",
   "name": "python",
   "nbconvert_exporter": "python",
   "pygments_lexer": "ipython3",
   "version": "3.7.3"
  }
 },
 "nbformat": 4,
 "nbformat_minor": 2
}
